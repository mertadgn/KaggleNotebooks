{
 "cells": [
  {
   "cell_type": "code",
   "execution_count": 1,
   "id": "9805f219",
   "metadata": {
    "_cell_guid": "b1076dfc-b9ad-4769-8c92-a6c4dae69d19",
    "_uuid": "8f2839f25d086af736a60e9eeb907d3b93b6e0e5",
    "execution": {
     "iopub.execute_input": "2022-09-20T19:16:56.530383Z",
     "iopub.status.busy": "2022-09-20T19:16:56.529231Z",
     "iopub.status.idle": "2022-09-20T19:16:56.549942Z",
     "shell.execute_reply": "2022-09-20T19:16:56.548742Z"
    },
    "papermill": {
     "duration": 0.029155,
     "end_time": "2022-09-20T19:16:56.552724",
     "exception": false,
     "start_time": "2022-09-20T19:16:56.523569",
     "status": "completed"
    },
    "tags": []
   },
   "outputs": [
    {
     "name": "stdout",
     "output_type": "stream",
     "text": [
      "/kaggle/input/smoke-detection-dataset/smoke_detection_iot.csv\n"
     ]
    }
   ],
   "source": [
    "# This Python 3 environment comes with many helpful analytics libraries installed\n",
    "# It is defined by the kaggle/python Docker image: https://github.com/kaggle/docker-python\n",
    "# For example, here's several helpful packages to load\n",
    "\n",
    "import numpy as np # linear algebra\n",
    "import pandas as pd # data processing, CSV file I/O (e.g. pd.read_csv)\n",
    "import warnings \n",
    "warnings.filterwarnings(\"ignore\")\n",
    "\n",
    "# Input data files are available in the read-only \"../input/\" directory\n",
    "# For example, running this (by clicking run or pressing Shift+Enter) will list all files under the input directory\n",
    "\n",
    "import os\n",
    "for dirname, _, filenames in os.walk('/kaggle/input'):\n",
    "    for filename in filenames:\n",
    "        print(os.path.join(dirname, filename))\n",
    "\n",
    "# You can write up to 20GB to the current directory (/kaggle/working/) that gets preserved as output when you create a version using \"Save & Run All\" \n",
    "# You can also write temporary files to /kaggle/temp/, but they won't be saved outside of the current session"
   ]
  },
  {
   "cell_type": "code",
   "execution_count": 2,
   "id": "5079fd52",
   "metadata": {
    "execution": {
     "iopub.execute_input": "2022-09-20T19:16:56.560860Z",
     "iopub.status.busy": "2022-09-20T19:16:56.559859Z",
     "iopub.status.idle": "2022-09-20T19:16:56.830939Z",
     "shell.execute_reply": "2022-09-20T19:16:56.829484Z"
    },
    "papermill": {
     "duration": 0.277959,
     "end_time": "2022-09-20T19:16:56.833531",
     "exception": false,
     "start_time": "2022-09-20T19:16:56.555572",
     "status": "completed"
    },
    "tags": []
   },
   "outputs": [
    {
     "data": {
      "text/html": [
       "<div>\n",
       "<style scoped>\n",
       "    .dataframe tbody tr th:only-of-type {\n",
       "        vertical-align: middle;\n",
       "    }\n",
       "\n",
       "    .dataframe tbody tr th {\n",
       "        vertical-align: top;\n",
       "    }\n",
       "\n",
       "    .dataframe thead th {\n",
       "        text-align: right;\n",
       "    }\n",
       "</style>\n",
       "<table border=\"1\" class=\"dataframe\">\n",
       "  <thead>\n",
       "    <tr style=\"text-align: right;\">\n",
       "      <th></th>\n",
       "      <th>Unnamed: 0</th>\n",
       "      <th>UTC</th>\n",
       "      <th>Temperature_C</th>\n",
       "      <th>Humidity</th>\n",
       "      <th>TVOC</th>\n",
       "      <th>eCO2</th>\n",
       "      <th>Raw H2</th>\n",
       "      <th>Raw Ethanol</th>\n",
       "      <th>Pressure</th>\n",
       "      <th>PM1.0</th>\n",
       "      <th>PM2.5</th>\n",
       "      <th>NC0.5</th>\n",
       "      <th>NC1.0</th>\n",
       "      <th>NC2.5</th>\n",
       "      <th>CNT</th>\n",
       "      <th>Fire Alarm</th>\n",
       "    </tr>\n",
       "  </thead>\n",
       "  <tbody>\n",
       "    <tr>\n",
       "      <th>0</th>\n",
       "      <td>0</td>\n",
       "      <td>1654733331</td>\n",
       "      <td>20.000</td>\n",
       "      <td>57.36</td>\n",
       "      <td>0</td>\n",
       "      <td>400</td>\n",
       "      <td>12306</td>\n",
       "      <td>18520</td>\n",
       "      <td>939.735</td>\n",
       "      <td>0.0</td>\n",
       "      <td>0.0</td>\n",
       "      <td>0.0</td>\n",
       "      <td>0.0</td>\n",
       "      <td>0.0</td>\n",
       "      <td>0</td>\n",
       "      <td>0</td>\n",
       "    </tr>\n",
       "    <tr>\n",
       "      <th>1</th>\n",
       "      <td>1</td>\n",
       "      <td>1654733332</td>\n",
       "      <td>20.015</td>\n",
       "      <td>56.67</td>\n",
       "      <td>0</td>\n",
       "      <td>400</td>\n",
       "      <td>12345</td>\n",
       "      <td>18651</td>\n",
       "      <td>939.744</td>\n",
       "      <td>0.0</td>\n",
       "      <td>0.0</td>\n",
       "      <td>0.0</td>\n",
       "      <td>0.0</td>\n",
       "      <td>0.0</td>\n",
       "      <td>1</td>\n",
       "      <td>0</td>\n",
       "    </tr>\n",
       "    <tr>\n",
       "      <th>2</th>\n",
       "      <td>2</td>\n",
       "      <td>1654733333</td>\n",
       "      <td>20.029</td>\n",
       "      <td>55.96</td>\n",
       "      <td>0</td>\n",
       "      <td>400</td>\n",
       "      <td>12374</td>\n",
       "      <td>18764</td>\n",
       "      <td>939.738</td>\n",
       "      <td>0.0</td>\n",
       "      <td>0.0</td>\n",
       "      <td>0.0</td>\n",
       "      <td>0.0</td>\n",
       "      <td>0.0</td>\n",
       "      <td>2</td>\n",
       "      <td>0</td>\n",
       "    </tr>\n",
       "    <tr>\n",
       "      <th>3</th>\n",
       "      <td>3</td>\n",
       "      <td>1654733334</td>\n",
       "      <td>20.044</td>\n",
       "      <td>55.28</td>\n",
       "      <td>0</td>\n",
       "      <td>400</td>\n",
       "      <td>12390</td>\n",
       "      <td>18849</td>\n",
       "      <td>939.736</td>\n",
       "      <td>0.0</td>\n",
       "      <td>0.0</td>\n",
       "      <td>0.0</td>\n",
       "      <td>0.0</td>\n",
       "      <td>0.0</td>\n",
       "      <td>3</td>\n",
       "      <td>0</td>\n",
       "    </tr>\n",
       "    <tr>\n",
       "      <th>4</th>\n",
       "      <td>4</td>\n",
       "      <td>1654733335</td>\n",
       "      <td>20.059</td>\n",
       "      <td>54.69</td>\n",
       "      <td>0</td>\n",
       "      <td>400</td>\n",
       "      <td>12403</td>\n",
       "      <td>18921</td>\n",
       "      <td>939.744</td>\n",
       "      <td>0.0</td>\n",
       "      <td>0.0</td>\n",
       "      <td>0.0</td>\n",
       "      <td>0.0</td>\n",
       "      <td>0.0</td>\n",
       "      <td>4</td>\n",
       "      <td>0</td>\n",
       "    </tr>\n",
       "  </tbody>\n",
       "</table>\n",
       "</div>"
      ],
      "text/plain": [
       "   Unnamed: 0         UTC  Temperature_C  Humidity  TVOC  eCO2  Raw H2  \\\n",
       "0           0  1654733331         20.000     57.36     0   400   12306   \n",
       "1           1  1654733332         20.015     56.67     0   400   12345   \n",
       "2           2  1654733333         20.029     55.96     0   400   12374   \n",
       "3           3  1654733334         20.044     55.28     0   400   12390   \n",
       "4           4  1654733335         20.059     54.69     0   400   12403   \n",
       "\n",
       "   Raw Ethanol  Pressure  PM1.0  PM2.5  NC0.5  NC1.0  NC2.5  CNT  Fire Alarm  \n",
       "0        18520   939.735    0.0    0.0    0.0    0.0    0.0    0           0  \n",
       "1        18651   939.744    0.0    0.0    0.0    0.0    0.0    1           0  \n",
       "2        18764   939.738    0.0    0.0    0.0    0.0    0.0    2           0  \n",
       "3        18849   939.736    0.0    0.0    0.0    0.0    0.0    3           0  \n",
       "4        18921   939.744    0.0    0.0    0.0    0.0    0.0    4           0  "
      ]
     },
     "execution_count": 2,
     "metadata": {},
     "output_type": "execute_result"
    }
   ],
   "source": [
    "data = pd.read_csv(\"../input/smoke-detection-dataset/smoke_detection_iot.csv\")\n",
    "data.columns = ['Unnamed: 0', 'UTC', 'Temperature_C', 'Humidity', 'TVOC',\n",
    "       'eCO2', 'Raw H2', 'Raw Ethanol', 'Pressure', 'PM1.0', 'PM2.5',\n",
    "       'NC0.5', 'NC1.0', 'NC2.5', 'CNT', 'Fire Alarm']\n",
    "data.head()"
   ]
  },
  {
   "cell_type": "code",
   "execution_count": 3,
   "id": "a31577f8",
   "metadata": {
    "execution": {
     "iopub.execute_input": "2022-09-20T19:16:56.840933Z",
     "iopub.status.busy": "2022-09-20T19:16:56.840036Z",
     "iopub.status.idle": "2022-09-20T19:16:56.854624Z",
     "shell.execute_reply": "2022-09-20T19:16:56.853320Z"
    },
    "papermill": {
     "duration": 0.020536,
     "end_time": "2022-09-20T19:16:56.856871",
     "exception": false,
     "start_time": "2022-09-20T19:16:56.836335",
     "status": "completed"
    },
    "tags": []
   },
   "outputs": [],
   "source": [
    "Y = data[[\"Fire Alarm\"]]\n",
    "X = data.drop([\"Unnamed: 0\",\"UTC\",\"CNT\",\"Fire Alarm\"],axis = 1)"
   ]
  },
  {
   "cell_type": "code",
   "execution_count": 4,
   "id": "0efe33e9",
   "metadata": {
    "execution": {
     "iopub.execute_input": "2022-09-20T19:16:56.863979Z",
     "iopub.status.busy": "2022-09-20T19:16:56.863543Z",
     "iopub.status.idle": "2022-09-20T19:16:58.025499Z",
     "shell.execute_reply": "2022-09-20T19:16:58.024025Z"
    },
    "papermill": {
     "duration": 1.168537,
     "end_time": "2022-09-20T19:16:58.028214",
     "exception": false,
     "start_time": "2022-09-20T19:16:56.859677",
     "status": "completed"
    },
    "tags": []
   },
   "outputs": [],
   "source": [
    "from sklearn.model_selection import train_test_split\n",
    "xtrain,xtest,ytrain,ytest = train_test_split(X,Y,test_size = 0.3,\n",
    "                                            random_state = 45)"
   ]
  },
  {
   "cell_type": "code",
   "execution_count": 5,
   "id": "d3b67132",
   "metadata": {
    "execution": {
     "iopub.execute_input": "2022-09-20T19:16:58.037283Z",
     "iopub.status.busy": "2022-09-20T19:16:58.036796Z",
     "iopub.status.idle": "2022-09-20T19:16:59.917043Z",
     "shell.execute_reply": "2022-09-20T19:16:59.915779Z"
    },
    "papermill": {
     "duration": 1.887403,
     "end_time": "2022-09-20T19:16:59.919552",
     "exception": false,
     "start_time": "2022-09-20T19:16:58.032149",
     "status": "completed"
    },
    "tags": []
   },
   "outputs": [
    {
     "data": {
      "text/plain": [
       "array([[ 5331,     0],\n",
       "       [    2, 13456]])"
      ]
     },
     "execution_count": 5,
     "metadata": {},
     "output_type": "execute_result"
    }
   ],
   "source": [
    "from xgboost import XGBClassifier\n",
    "from sklearn.metrics import confusion_matrix\n",
    "xgb = XGBClassifier()\n",
    "xgb.fit(xtrain,ytrain)\n",
    "cm= confusion_matrix(xgb.predict(xtest),ytest)\n",
    "score = xgb.score(xtest,ytest)\n",
    "score\n",
    "cm"
   ]
  }
 ],
 "metadata": {
  "kernelspec": {
   "display_name": "Python 3",
   "language": "python",
   "name": "python3"
  },
  "language_info": {
   "codemirror_mode": {
    "name": "ipython",
    "version": 3
   },
   "file_extension": ".py",
   "mimetype": "text/x-python",
   "name": "python",
   "nbconvert_exporter": "python",
   "pygments_lexer": "ipython3",
   "version": "3.7.12"
  },
  "papermill": {
   "default_parameters": {},
   "duration": 15.193286,
   "end_time": "2022-09-20T19:17:00.747371",
   "environment_variables": {},
   "exception": null,
   "input_path": "__notebook__.ipynb",
   "output_path": "__notebook__.ipynb",
   "parameters": {},
   "start_time": "2022-09-20T19:16:45.554085",
   "version": "2.3.4"
  }
 },
 "nbformat": 4,
 "nbformat_minor": 5
}
