{
 "cells": [
  {
   "cell_type": "code",
   "execution_count": 1,
   "id": "98afc967",
   "metadata": {
    "_cell_guid": "b1076dfc-b9ad-4769-8c92-a6c4dae69d19",
    "_uuid": "8f2839f25d086af736a60e9eeb907d3b93b6e0e5",
    "execution": {
     "iopub.execute_input": "2022-09-21T16:46:12.594126Z",
     "iopub.status.busy": "2022-09-21T16:46:12.592198Z",
     "iopub.status.idle": "2022-09-21T16:46:14.075651Z",
     "shell.execute_reply": "2022-09-21T16:46:14.074385Z",
     "shell.execute_reply.started": "2022-09-20T12:49:09.776429Z"
    },
    "papermill": {
     "duration": 1.496586,
     "end_time": "2022-09-21T16:46:14.075901",
     "exception": false,
     "start_time": "2022-09-21T16:46:12.579315",
     "status": "completed"
    },
    "tags": []
   },
   "outputs": [
    {
     "name": "stdout",
     "output_type": "stream",
     "text": [
      "/kaggle/input/drug-classification/drug200.csv\n"
     ]
    }
   ],
   "source": [
    "# This Python 3 environment comes with many helpful analytics libraries installed\n",
    "# It is defined by the kaggle/python Docker image: https://github.com/kaggle/docker-python\n",
    "# For example, here's several helpful packages to load\n",
    "\n",
    "import numpy as np # linear algebra\n",
    "import pandas as pd # data processing, CSV file I/O (e.g. pd.read_csv)\n",
    "import seaborn as sns\n",
    "import matplotlib.pyplot as plt\n",
    "import warnings \n",
    "from sklearn.neighbors import KNeighborsClassifier\n",
    "from sklearn.svm import SVC\n",
    "from sklearn.linear_model import LogisticRegression\n",
    "from sklearn.ensemble import RandomForestClassifier\n",
    "from sklearn.tree import DecisionTreeClassifier\n",
    "from sklearn.model_selection import train_test_split\n",
    "from sklearn.preprocessing import MinMaxScaler\n",
    "from sklearn.preprocessing import StandardScaler\n",
    "from sklearn.metrics import accuracy_score\n",
    "from sklearn.metrics import balanced_accuracy_score\n",
    "from sklearn.metrics import roc_auc_score\n",
    "from sklearn.metrics import confusion_matrix\n",
    "from sklearn.preprocessing import OneHotEncoder\n",
    "from sklearn.preprocessing import LabelEncoder\n",
    "from sklearn.preprocessing import OrdinalEncoder\n",
    "warnings.filterwarnings(\"ignore\")\n",
    "# Input data files are available in the read-only \"../input/\" directory\n",
    "# For example, running this (by clicking run or pressing Shift+Enter) will list all files under the input directory\n",
    "\n",
    "import os\n",
    "for dirname, _, filenames in os.walk('/kaggle/input'):\n",
    "    for filename in filenames:\n",
    "        print(os.path.join(dirname, filename))\n",
    "\n",
    "# You can write up to 20GB to the current directory (/kaggle/working/) that gets preserved as output when you create a version using \"Save & Run All\" \n",
    "# You can also write temporary files to /kaggle/temp/, but they won't be saved outside of the current session"
   ]
  },
  {
   "cell_type": "code",
   "execution_count": 2,
   "id": "39b38fe9",
   "metadata": {
    "execution": {
     "iopub.execute_input": "2022-09-21T16:46:14.097578Z",
     "iopub.status.busy": "2022-09-21T16:46:14.096855Z",
     "iopub.status.idle": "2022-09-21T16:46:14.150158Z",
     "shell.execute_reply": "2022-09-21T16:46:14.149558Z",
     "shell.execute_reply.started": "2022-09-20T12:49:11.439314Z"
    },
    "papermill": {
     "duration": 0.065985,
     "end_time": "2022-09-21T16:46:14.150300",
     "exception": false,
     "start_time": "2022-09-21T16:46:14.084315",
     "status": "completed"
    },
    "tags": []
   },
   "outputs": [
    {
     "data": {
      "text/html": [
       "<div>\n",
       "<style scoped>\n",
       "    .dataframe tbody tr th:only-of-type {\n",
       "        vertical-align: middle;\n",
       "    }\n",
       "\n",
       "    .dataframe tbody tr th {\n",
       "        vertical-align: top;\n",
       "    }\n",
       "\n",
       "    .dataframe thead th {\n",
       "        text-align: right;\n",
       "    }\n",
       "</style>\n",
       "<table border=\"1\" class=\"dataframe\">\n",
       "  <thead>\n",
       "    <tr style=\"text-align: right;\">\n",
       "      <th></th>\n",
       "      <th>count</th>\n",
       "      <th>mean</th>\n",
       "      <th>std</th>\n",
       "      <th>min</th>\n",
       "      <th>25%</th>\n",
       "      <th>50%</th>\n",
       "      <th>75%</th>\n",
       "      <th>max</th>\n",
       "    </tr>\n",
       "  </thead>\n",
       "  <tbody>\n",
       "    <tr>\n",
       "      <th>Age</th>\n",
       "      <td>200.0</td>\n",
       "      <td>44.315000</td>\n",
       "      <td>16.544315</td>\n",
       "      <td>15.000</td>\n",
       "      <td>31.0000</td>\n",
       "      <td>45.0000</td>\n",
       "      <td>58.00</td>\n",
       "      <td>74.000</td>\n",
       "    </tr>\n",
       "    <tr>\n",
       "      <th>Na_to_K</th>\n",
       "      <td>200.0</td>\n",
       "      <td>16.084485</td>\n",
       "      <td>7.223956</td>\n",
       "      <td>6.269</td>\n",
       "      <td>10.4455</td>\n",
       "      <td>13.9365</td>\n",
       "      <td>19.38</td>\n",
       "      <td>38.247</td>\n",
       "    </tr>\n",
       "  </tbody>\n",
       "</table>\n",
       "</div>"
      ],
      "text/plain": [
       "         count       mean        std     min      25%      50%    75%     max\n",
       "Age      200.0  44.315000  16.544315  15.000  31.0000  45.0000  58.00  74.000\n",
       "Na_to_K  200.0  16.084485   7.223956   6.269  10.4455  13.9365  19.38  38.247"
      ]
     },
     "execution_count": 2,
     "metadata": {},
     "output_type": "execute_result"
    }
   ],
   "source": [
    "veri = pd.read_csv(\"../input/drug-classification/drug200.csv\")\n",
    "veri.head()\n",
    "veri.describe().T"
   ]
  },
  {
   "cell_type": "code",
   "execution_count": 3,
   "id": "65befa3f",
   "metadata": {
    "execution": {
     "iopub.execute_input": "2022-09-21T16:46:14.173170Z",
     "iopub.status.busy": "2022-09-21T16:46:14.172128Z",
     "iopub.status.idle": "2022-09-21T16:46:14.186526Z",
     "shell.execute_reply": "2022-09-21T16:46:14.185897Z",
     "shell.execute_reply.started": "2022-09-20T12:49:11.502112Z"
    },
    "papermill": {
     "duration": 0.028502,
     "end_time": "2022-09-21T16:46:14.186689",
     "exception": false,
     "start_time": "2022-09-21T16:46:14.158187",
     "status": "completed"
    },
    "tags": []
   },
   "outputs": [
    {
     "data": {
      "text/html": [
       "<div>\n",
       "<style scoped>\n",
       "    .dataframe tbody tr th:only-of-type {\n",
       "        vertical-align: middle;\n",
       "    }\n",
       "\n",
       "    .dataframe tbody tr th {\n",
       "        vertical-align: top;\n",
       "    }\n",
       "\n",
       "    .dataframe thead th {\n",
       "        text-align: right;\n",
       "    }\n",
       "</style>\n",
       "<table border=\"1\" class=\"dataframe\">\n",
       "  <thead>\n",
       "    <tr style=\"text-align: right;\">\n",
       "      <th></th>\n",
       "      <th>Age</th>\n",
       "      <th>Sex</th>\n",
       "      <th>BP</th>\n",
       "      <th>Cholesterol</th>\n",
       "      <th>Na_to_K</th>\n",
       "      <th>Drug</th>\n",
       "    </tr>\n",
       "  </thead>\n",
       "  <tbody>\n",
       "    <tr>\n",
       "      <th>0</th>\n",
       "      <td>23</td>\n",
       "      <td>1</td>\n",
       "      <td>0</td>\n",
       "      <td>0</td>\n",
       "      <td>25.355</td>\n",
       "      <td>0</td>\n",
       "    </tr>\n",
       "    <tr>\n",
       "      <th>1</th>\n",
       "      <td>47</td>\n",
       "      <td>0</td>\n",
       "      <td>1</td>\n",
       "      <td>0</td>\n",
       "      <td>13.093</td>\n",
       "      <td>3</td>\n",
       "    </tr>\n",
       "    <tr>\n",
       "      <th>2</th>\n",
       "      <td>47</td>\n",
       "      <td>0</td>\n",
       "      <td>1</td>\n",
       "      <td>0</td>\n",
       "      <td>10.114</td>\n",
       "      <td>3</td>\n",
       "    </tr>\n",
       "    <tr>\n",
       "      <th>3</th>\n",
       "      <td>28</td>\n",
       "      <td>1</td>\n",
       "      <td>2</td>\n",
       "      <td>0</td>\n",
       "      <td>7.798</td>\n",
       "      <td>4</td>\n",
       "    </tr>\n",
       "    <tr>\n",
       "      <th>4</th>\n",
       "      <td>61</td>\n",
       "      <td>1</td>\n",
       "      <td>1</td>\n",
       "      <td>0</td>\n",
       "      <td>18.043</td>\n",
       "      <td>0</td>\n",
       "    </tr>\n",
       "    <tr>\n",
       "      <th>5</th>\n",
       "      <td>22</td>\n",
       "      <td>1</td>\n",
       "      <td>2</td>\n",
       "      <td>0</td>\n",
       "      <td>8.607</td>\n",
       "      <td>4</td>\n",
       "    </tr>\n",
       "    <tr>\n",
       "      <th>6</th>\n",
       "      <td>49</td>\n",
       "      <td>1</td>\n",
       "      <td>2</td>\n",
       "      <td>0</td>\n",
       "      <td>16.275</td>\n",
       "      <td>0</td>\n",
       "    </tr>\n",
       "    <tr>\n",
       "      <th>7</th>\n",
       "      <td>41</td>\n",
       "      <td>0</td>\n",
       "      <td>1</td>\n",
       "      <td>0</td>\n",
       "      <td>11.037</td>\n",
       "      <td>3</td>\n",
       "    </tr>\n",
       "    <tr>\n",
       "      <th>8</th>\n",
       "      <td>60</td>\n",
       "      <td>0</td>\n",
       "      <td>2</td>\n",
       "      <td>0</td>\n",
       "      <td>15.171</td>\n",
       "      <td>0</td>\n",
       "    </tr>\n",
       "    <tr>\n",
       "      <th>9</th>\n",
       "      <td>43</td>\n",
       "      <td>0</td>\n",
       "      <td>1</td>\n",
       "      <td>1</td>\n",
       "      <td>19.368</td>\n",
       "      <td>0</td>\n",
       "    </tr>\n",
       "  </tbody>\n",
       "</table>\n",
       "</div>"
      ],
      "text/plain": [
       "   Age  Sex  BP  Cholesterol  Na_to_K  Drug\n",
       "0   23    1   0            0   25.355     0\n",
       "1   47    0   1            0   13.093     3\n",
       "2   47    0   1            0   10.114     3\n",
       "3   28    1   2            0    7.798     4\n",
       "4   61    1   1            0   18.043     0\n",
       "5   22    1   2            0    8.607     4\n",
       "6   49    1   2            0   16.275     0\n",
       "7   41    0   1            0   11.037     3\n",
       "8   60    0   2            0   15.171     0\n",
       "9   43    0   1            1   19.368     0"
      ]
     },
     "execution_count": 3,
     "metadata": {},
     "output_type": "execute_result"
    }
   ],
   "source": [
    "#Categorical data converting to numerical\n",
    "veri.Sex = (veri.Sex == \"F\").astype(int)\n",
    "le = LabelEncoder()\n",
    "oe = OrdinalEncoder()\n",
    "veri.BP = le.fit_transform(veri.BP)\n",
    "veri.Cholesterol = le.fit_transform(veri.Cholesterol)\n",
    "veri.Drug = le.fit_transform(veri.Drug)\n",
    "veri.head(10)"
   ]
  },
  {
   "cell_type": "code",
   "execution_count": 4,
   "id": "e29f78dd",
   "metadata": {
    "execution": {
     "iopub.execute_input": "2022-09-21T16:46:14.207115Z",
     "iopub.status.busy": "2022-09-21T16:46:14.206480Z",
     "iopub.status.idle": "2022-09-21T16:46:14.551544Z",
     "shell.execute_reply": "2022-09-21T16:46:14.552144Z",
     "shell.execute_reply.started": "2022-09-20T12:49:11.523737Z"
    },
    "papermill": {
     "duration": 0.356885,
     "end_time": "2022-09-21T16:46:14.552314",
     "exception": false,
     "start_time": "2022-09-21T16:46:14.195429",
     "status": "completed"
    },
    "tags": []
   },
   "outputs": [
    {
     "data": {
      "text/plain": [
       "Age            0.041856\n",
       "Sex           -0.018239\n",
       "BP             0.419397\n",
       "Cholesterol    0.048415\n",
       "Na_to_K       -0.689051\n",
       "Drug           1.000000\n",
       "Name: Drug, dtype: float64"
      ]
     },
     "execution_count": 4,
     "metadata": {},
     "output_type": "execute_result"
    },
    {
     "data": {
      "image/png": "[encoded data removed]",
      "text/plain": [
       "<Figure size 432x288 with 2 Axes>"
      ]
     },
     "metadata": {
      "needs_background": "light"
     },
     "output_type": "display_data"
    }
   ],
   "source": [
    "#Correalation\n",
    "sns.heatmap(veri.corr())\n",
    "corr = veri.corr().iloc[:,-1]\n",
    "corr"
   ]
  },
  {
   "cell_type": "code",
   "execution_count": 5,
   "id": "fcd7cfc1",
   "metadata": {
    "execution": {
     "iopub.execute_input": "2022-09-21T16:46:14.589178Z",
     "iopub.status.busy": "2022-09-21T16:46:14.588354Z",
     "iopub.status.idle": "2022-09-21T16:46:14.591155Z",
     "shell.execute_reply": "2022-09-21T16:46:14.591576Z",
     "shell.execute_reply.started": "2022-09-20T12:49:11.916395Z"
    },
    "papermill": {
     "duration": 0.029513,
     "end_time": "2022-09-21T16:46:14.591760",
     "exception": false,
     "start_time": "2022-09-21T16:46:14.562247",
     "status": "completed"
    },
    "tags": []
   },
   "outputs": [],
   "source": [
    "#Seperating\n",
    "Y = veri[[\"Drug\"]]\n",
    "X = veri.drop([\"Drug\"],axis=1)\n",
    "#Scaling\n",
    "sc = StandardScaler()\n",
    "xtrain,xtest,ytrain,ytest = train_test_split(X,Y,test_size = 0.25,random_state = 42)\n",
    "xtrain_s = sc.fit_transform(xtrain)\n",
    "xtest_s = sc.fit_transform(xtest)\n",
    "xtrain_s = pd.DataFrame(xtrain_s)\n",
    "xtest_s = pd.DataFrame(xtest_s)\n"
   ]
  },
  {
   "cell_type": "code",
   "execution_count": 6,
   "id": "94141d7d",
   "metadata": {
    "execution": {
     "iopub.execute_input": "2022-09-21T16:46:14.614291Z",
     "iopub.status.busy": "2022-09-21T16:46:14.613380Z",
     "iopub.status.idle": "2022-09-21T16:46:14.820017Z",
     "shell.execute_reply": "2022-09-21T16:46:14.820599Z",
     "shell.execute_reply.started": "2022-09-20T12:49:11.939677Z"
    },
    "papermill": {
     "duration": 0.219526,
     "end_time": "2022-09-21T16:46:14.820800",
     "exception": false,
     "start_time": "2022-09-21T16:46:14.601274",
     "status": "completed"
    },
    "tags": []
   },
   "outputs": [
    {
     "name": "stdout",
     "output_type": "stream",
     "text": [
      "Accuracy score : 0.94\n",
      "Accuracy score : 0.92\n",
      "Accuracy score : 0.86\n",
      "Accuracy score : 0.98\n",
      "Accuracy score : 0.98\n",
      "Balanced accuracy score : 0.930952380952381\n",
      "Balanced accuracy score : 0.9227272727272726\n",
      "Balanced accuracy score : 0.9019999999999999\n",
      "Balanced accuracy score : 0.95\n",
      "Balanced accuracy score : 0.95\n"
     ]
    }
   ],
   "source": [
    "#Predicting\n",
    "knn = KNeighborsClassifier()\n",
    "svc = SVC()\n",
    "rfc = RandomForestClassifier()\n",
    "dtc = DecisionTreeClassifier()\n",
    "lr = LogisticRegression()\n",
    "clfer = [knn,svc,rfc,dtc,lr]\n",
    "\n",
    "#for clf in clfer:\n",
    "#clf.fit(xtrain_s,ytrain)\n",
    "knn.fit(xtrain_s,ytrain)\n",
    "svc.fit(xtrain_s,ytrain)\n",
    "dtc.fit(xtrain_s,ytrain)\n",
    "rfc.fit(xtrain_s,ytrain)\n",
    "lr.fit(xtrain_s,ytrain)\n",
    "\n",
    "lrp = lr.predict(xtest_s)\n",
    "knnp = knn.predict(xtest_s)\n",
    "rfcp = rfc.predict(xtest_s)\n",
    "dtcp = dtc.predict(xtest_s)\n",
    "svcp = svc.predict(xtest_s)\n",
    "\n",
    "predicts = [lrp,svcp,knnp,rfcp,dtcp]\n",
    "\n",
    "for i in predicts:\n",
    "    a = accuracy_score(i,ytest)\n",
    "    print(\"Accuracy score :\",a)\n",
    "for j in predicts:   \n",
    "    b = balanced_accuracy_score(j,ytest)\n",
    "    print(\"Balanced accuracy score :\",b)  \n",
    "\n"
   ]
  }
 ],
 "metadata": {
  "kernelspec": {
   "display_name": "Python 3",
   "language": "python",
   "name": "python3"
  },
  "language_info": {
   "codemirror_mode": {
    "name": "ipython",
    "version": 3
   },
   "file_extension": ".py",
   "mimetype": "text/x-python",
   "name": "python",
   "nbconvert_exporter": "python",
   "pygments_lexer": "ipython3",
   "version": "3.7.12"
  },
  "papermill": {
   "default_parameters": {},
   "duration": 12.418337,
   "end_time": "2022-09-21T16:46:15.542741",
   "environment_variables": {},
   "exception": null,
   "input_path": "__notebook__.ipynb",
   "output_path": "__notebook__.ipynb",
   "parameters": {},
   "start_time": "2022-09-21T16:46:03.124404",
   "version": "2.3.3"
  }
 },
 "nbformat": 4,
 "nbformat_minor": 5
}
