{
 "cells": [
  {
   "cell_type": "markdown",
   "id": "48739fbf",
   "metadata": {
    "papermill": {
     "duration": 0.013771,
     "end_time": "2022-11-05T21:26:01.127318",
     "exception": false,
     "start_time": "2022-11-05T21:26:01.113547",
     "status": "completed"
    },
    "tags": []
   },
   "source": [
    "# Gazi AI Topluluğu \n",
    "## Veriyi hazırlama (Data processing)\n",
    "### Gerekli kütüphanelerin içe aktarılması"
   ]
  },
  {
   "cell_type": "code",
   "execution_count": 1,
   "id": "fdecbe3a",
   "metadata": {
    "_cell_guid": "b1076dfc-b9ad-4769-8c92-a6c4dae69d19",
    "_uuid": "8f2839f25d086af736a60e9eeb907d3b93b6e0e5",
    "execution": {
     "iopub.execute_input": "2022-11-05T21:26:01.154910Z",
     "iopub.status.busy": "2022-11-05T21:26:01.153436Z",
     "iopub.status.idle": "2022-11-05T21:26:02.439243Z",
     "shell.execute_reply": "2022-11-05T21:26:02.437909Z"
    },
    "papermill": {
     "duration": 1.301202,
     "end_time": "2022-11-05T21:26:02.442359",
     "exception": false,
     "start_time": "2022-11-05T21:26:01.141157",
     "status": "completed"
    },
    "tags": []
   },
   "outputs": [],
   "source": [
    "import pandas as pd\n",
    "import numpy as np\n",
    "import matplotlib.pyplot as plt\n",
    "import seaborn as sns\n",
    "import warnings\n",
    "warnings.filterwarnings(\"ignore\")"
   ]
  },
  {
   "cell_type": "markdown",
   "id": "f9d0fd31",
   "metadata": {
    "papermill": {
     "duration": 0.008448,
     "end_time": "2022-11-05T21:26:02.460095",
     "exception": false,
     "start_time": "2022-11-05T21:26:02.451647",
     "status": "completed"
    },
    "tags": []
   },
   "source": [
    "Önce veriyi içeri aktaralım"
   ]
  },
  {
   "cell_type": "markdown",
   "id": "3d012e65",
   "metadata": {
    "papermill": {
     "duration": 0.00833,
     "end_time": "2022-11-05T21:26:02.477109",
     "exception": false,
     "start_time": "2022-11-05T21:26:02.468779",
     "status": "completed"
    },
    "tags": []
   },
   "source": [
    "### Değişken Tanımı\n",
    "#### PassengerId => Yolcu numarası (unique id number to each passenger=her yolcu için benzersiz kimlik numarası)\n",
    "#### Survived => Yolcu hayatta mı ? (0 = Vefat eden, 1 = Hayatta kalmış) survive(1) or died(0)\n",
    "#### Pclass => Yolcu sınıfları = passenger class\n",
    "#### Name => Yolcunun adı = name\n",
    "#### Sex => Yolcunun cinsiyeti = gender of passenger\n",
    "#### Age => Yolcunun yaşı = age of passenger\n",
    "#### SibSp => Yolcunun gemide bulunan kardeşleri yada eşleri = number of siblings/spouses\n",
    "#### Parch => Yolcunun gemide bulunan anne, babası yada çocukları = number of parents/children\n",
    "#### Ticket => Yolcunun bilet numarası = ticket number\n",
    "#### Fare => Yolcunun bilet fiyatı = amount of money spent on ticket\n",
    "#### Cabin => Yolcunun kabin numarası = cabin category\n",
    "#### Embarked => Yolcunun gemiye bindiği liman = port where passenger embarked (C = Cherbourg, Q = Queenstown, S Southampton)"
   ]
  },
  {
   "cell_type": "code",
   "execution_count": 2,
   "id": "815fadfb",
   "metadata": {
    "execution": {
     "iopub.execute_input": "2022-11-05T21:26:02.496195Z",
     "iopub.status.busy": "2022-11-05T21:26:02.495817Z",
     "iopub.status.idle": "2022-11-05T21:26:02.557845Z",
     "shell.execute_reply": "2022-11-05T21:26:02.556692Z"
    },
    "papermill": {
     "duration": 0.075516,
     "end_time": "2022-11-05T21:26:02.561306",
     "exception": false,
     "start_time": "2022-11-05T21:26:02.485790",
     "status": "completed"
    },
    "tags": []
   },
   "outputs": [
    {
     "data": {
      "text/html": [
       "<div>\n",
       "<style scoped>\n",
       "    .dataframe tbody tr th:only-of-type {\n",
       "        vertical-align: middle;\n",
       "    }\n",
       "\n",
       "    .dataframe tbody tr th {\n",
       "        vertical-align: top;\n",
       "    }\n",
       "\n",
       "    .dataframe thead th {\n",
       "        text-align: right;\n",
       "    }\n",
       "</style>\n",
       "<table border=\"1\" class=\"dataframe\">\n",
       "  <thead>\n",
       "    <tr style=\"text-align: right;\">\n",
       "      <th></th>\n",
       "      <th>PassengerId</th>\n",
       "      <th>Survived</th>\n",
       "      <th>Pclass</th>\n",
       "      <th>Name</th>\n",
       "      <th>Sex</th>\n",
       "      <th>Age</th>\n",
       "      <th>SibSp</th>\n",
       "      <th>Parch</th>\n",
       "      <th>Ticket</th>\n",
       "      <th>Fare</th>\n",
       "      <th>Cabin</th>\n",
       "      <th>Embarked</th>\n",
       "    </tr>\n",
       "  </thead>\n",
       "  <tbody>\n",
       "    <tr>\n",
       "      <th>0</th>\n",
       "      <td>1</td>\n",
       "      <td>0</td>\n",
       "      <td>3</td>\n",
       "      <td>Braund, Mr. Owen Harris</td>\n",
       "      <td>male</td>\n",
       "      <td>22.0</td>\n",
       "      <td>1</td>\n",
       "      <td>0</td>\n",
       "      <td>A/5 21171</td>\n",
       "      <td>7.2500</td>\n",
       "      <td>NaN</td>\n",
       "      <td>S</td>\n",
       "    </tr>\n",
       "    <tr>\n",
       "      <th>1</th>\n",
       "      <td>2</td>\n",
       "      <td>1</td>\n",
       "      <td>1</td>\n",
       "      <td>Cumings, Mrs. John Bradley (Florence Briggs Th...</td>\n",
       "      <td>female</td>\n",
       "      <td>38.0</td>\n",
       "      <td>1</td>\n",
       "      <td>0</td>\n",
       "      <td>PC 17599</td>\n",
       "      <td>71.2833</td>\n",
       "      <td>C85</td>\n",
       "      <td>C</td>\n",
       "    </tr>\n",
       "    <tr>\n",
       "      <th>2</th>\n",
       "      <td>3</td>\n",
       "      <td>1</td>\n",
       "      <td>3</td>\n",
       "      <td>Heikkinen, Miss. Laina</td>\n",
       "      <td>female</td>\n",
       "      <td>26.0</td>\n",
       "      <td>0</td>\n",
       "      <td>0</td>\n",
       "      <td>STON/O2. 3101282</td>\n",
       "      <td>7.9250</td>\n",
       "      <td>NaN</td>\n",
       "      <td>S</td>\n",
       "    </tr>\n",
       "    <tr>\n",
       "      <th>3</th>\n",
       "      <td>4</td>\n",
       "      <td>1</td>\n",
       "      <td>1</td>\n",
       "      <td>Futrelle, Mrs. Jacques Heath (Lily May Peel)</td>\n",
       "      <td>female</td>\n",
       "      <td>35.0</td>\n",
       "      <td>1</td>\n",
       "      <td>0</td>\n",
       "      <td>113803</td>\n",
       "      <td>53.1000</td>\n",
       "      <td>C123</td>\n",
       "      <td>S</td>\n",
       "    </tr>\n",
       "    <tr>\n",
       "      <th>4</th>\n",
       "      <td>5</td>\n",
       "      <td>0</td>\n",
       "      <td>3</td>\n",
       "      <td>Allen, Mr. William Henry</td>\n",
       "      <td>male</td>\n",
       "      <td>35.0</td>\n",
       "      <td>0</td>\n",
       "      <td>0</td>\n",
       "      <td>373450</td>\n",
       "      <td>8.0500</td>\n",
       "      <td>NaN</td>\n",
       "      <td>S</td>\n",
       "    </tr>\n",
       "    <tr>\n",
       "      <th>...</th>\n",
       "      <td>...</td>\n",
       "      <td>...</td>\n",
       "      <td>...</td>\n",
       "      <td>...</td>\n",
       "      <td>...</td>\n",
       "      <td>...</td>\n",
       "      <td>...</td>\n",
       "      <td>...</td>\n",
       "      <td>...</td>\n",
       "      <td>...</td>\n",
       "      <td>...</td>\n",
       "      <td>...</td>\n",
       "    </tr>\n",
       "    <tr>\n",
       "      <th>886</th>\n",
       "      <td>887</td>\n",
       "      <td>0</td>\n",
       "      <td>2</td>\n",
       "      <td>Montvila, Rev. Juozas</td>\n",
       "      <td>male</td>\n",
       "      <td>27.0</td>\n",
       "      <td>0</td>\n",
       "      <td>0</td>\n",
       "      <td>211536</td>\n",
       "      <td>13.0000</td>\n",
       "      <td>NaN</td>\n",
       "      <td>S</td>\n",
       "    </tr>\n",
       "    <tr>\n",
       "      <th>887</th>\n",
       "      <td>888</td>\n",
       "      <td>1</td>\n",
       "      <td>1</td>\n",
       "      <td>Graham, Miss. Margaret Edith</td>\n",
       "      <td>female</td>\n",
       "      <td>19.0</td>\n",
       "      <td>0</td>\n",
       "      <td>0</td>\n",
       "      <td>112053</td>\n",
       "      <td>30.0000</td>\n",
       "      <td>B42</td>\n",
       "      <td>S</td>\n",
       "    </tr>\n",
       "    <tr>\n",
       "      <th>888</th>\n",
       "      <td>889</td>\n",
       "      <td>0</td>\n",
       "      <td>3</td>\n",
       "      <td>Johnston, Miss. Catherine Helen \"Carrie\"</td>\n",
       "      <td>female</td>\n",
       "      <td>NaN</td>\n",
       "      <td>1</td>\n",
       "      <td>2</td>\n",
       "      <td>W./C. 6607</td>\n",
       "      <td>23.4500</td>\n",
       "      <td>NaN</td>\n",
       "      <td>S</td>\n",
       "    </tr>\n",
       "    <tr>\n",
       "      <th>889</th>\n",
       "      <td>890</td>\n",
       "      <td>1</td>\n",
       "      <td>1</td>\n",
       "      <td>Behr, Mr. Karl Howell</td>\n",
       "      <td>male</td>\n",
       "      <td>26.0</td>\n",
       "      <td>0</td>\n",
       "      <td>0</td>\n",
       "      <td>111369</td>\n",
       "      <td>30.0000</td>\n",
       "      <td>C148</td>\n",
       "      <td>C</td>\n",
       "    </tr>\n",
       "    <tr>\n",
       "      <th>890</th>\n",
       "      <td>891</td>\n",
       "      <td>0</td>\n",
       "      <td>3</td>\n",
       "      <td>Dooley, Mr. Patrick</td>\n",
       "      <td>male</td>\n",
       "      <td>32.0</td>\n",
       "      <td>0</td>\n",
       "      <td>0</td>\n",
       "      <td>370376</td>\n",
       "      <td>7.7500</td>\n",
       "      <td>NaN</td>\n",
       "      <td>Q</td>\n",
       "    </tr>\n",
       "  </tbody>\n",
       "</table>\n",
       "<p>891 rows × 12 columns</p>\n",
       "</div>"
      ],
      "text/plain": [
       "     PassengerId  Survived  Pclass  \\\n",
       "0              1         0       3   \n",
       "1              2         1       1   \n",
       "2              3         1       3   \n",
       "3              4         1       1   \n",
       "4              5         0       3   \n",
       "..           ...       ...     ...   \n",
       "886          887         0       2   \n",
       "887          888         1       1   \n",
       "888          889         0       3   \n",
       "889          890         1       1   \n",
       "890          891         0       3   \n",
       "\n",
       "                                                  Name     Sex   Age  SibSp  \\\n",
       "0                              Braund, Mr. Owen Harris    male  22.0      1   \n",
       "1    Cumings, Mrs. John Bradley (Florence Briggs Th...  female  38.0      1   \n",
       "2                               Heikkinen, Miss. Laina  female  26.0      0   \n",
       "3         Futrelle, Mrs. Jacques Heath (Lily May Peel)  female  35.0      1   \n",
       "4                             Allen, Mr. William Henry    male  35.0      0   \n",
       "..                                                 ...     ...   ...    ...   \n",
       "886                              Montvila, Rev. Juozas    male  27.0      0   \n",
       "887                       Graham, Miss. Margaret Edith  female  19.0      0   \n",
       "888           Johnston, Miss. Catherine Helen \"Carrie\"  female   NaN      1   \n",
       "889                              Behr, Mr. Karl Howell    male  26.0      0   \n",
       "890                                Dooley, Mr. Patrick    male  32.0      0   \n",
       "\n",
       "     Parch            Ticket     Fare Cabin Embarked  \n",
       "0        0         A/5 21171   7.2500   NaN        S  \n",
       "1        0          PC 17599  71.2833   C85        C  \n",
       "2        0  STON/O2. 3101282   7.9250   NaN        S  \n",
       "3        0            113803  53.1000  C123        S  \n",
       "4        0            373450   8.0500   NaN        S  \n",
       "..     ...               ...      ...   ...      ...  \n",
       "886      0            211536  13.0000   NaN        S  \n",
       "887      0            112053  30.0000   B42        S  \n",
       "888      2        W./C. 6607  23.4500   NaN        S  \n",
       "889      0            111369  30.0000  C148        C  \n",
       "890      0            370376   7.7500   NaN        Q  \n",
       "\n",
       "[891 rows x 12 columns]"
      ]
     },
     "execution_count": 2,
     "metadata": {},
     "output_type": "execute_result"
    }
   ],
   "source": [
    "#Verinin Okunması ve içe aktarılması\n",
    "veri = pd.read_csv(\"../input/titanicdataset-traincsv/train.csv\")\n",
    "veri"
   ]
  },
  {
   "cell_type": "code",
   "execution_count": 3,
   "id": "27629d35",
   "metadata": {
    "execution": {
     "iopub.execute_input": "2022-11-05T21:26:02.583289Z",
     "iopub.status.busy": "2022-11-05T21:26:02.582527Z",
     "iopub.status.idle": "2022-11-05T21:26:02.611227Z",
     "shell.execute_reply": "2022-11-05T21:26:02.609884Z"
    },
    "papermill": {
     "duration": 0.042382,
     "end_time": "2022-11-05T21:26:02.614280",
     "exception": false,
     "start_time": "2022-11-05T21:26:02.571898",
     "status": "completed"
    },
    "tags": []
   },
   "outputs": [
    {
     "name": "stdout",
     "output_type": "stream",
     "text": [
      "<class 'pandas.core.frame.DataFrame'>\n",
      "RangeIndex: 891 entries, 0 to 890\n",
      "Data columns (total 12 columns):\n",
      " #   Column       Non-Null Count  Dtype  \n",
      "---  ------       --------------  -----  \n",
      " 0   PassengerId  891 non-null    int64  \n",
      " 1   Survived     891 non-null    int64  \n",
      " 2   Pclass       891 non-null    int64  \n",
      " 3   Name         891 non-null    object \n",
      " 4   Sex          891 non-null    object \n",
      " 5   Age          714 non-null    float64\n",
      " 6   SibSp        891 non-null    int64  \n",
      " 7   Parch        891 non-null    int64  \n",
      " 8   Ticket       891 non-null    object \n",
      " 9   Fare         891 non-null    float64\n",
      " 10  Cabin        204 non-null    object \n",
      " 11  Embarked     889 non-null    object \n",
      "dtypes: float64(2), int64(5), object(5)\n",
      "memory usage: 83.7+ KB\n"
     ]
    }
   ],
   "source": [
    "#Veri hakkındaki genel bilgileri alalım\n",
    "veri.info()"
   ]
  },
  {
   "cell_type": "code",
   "execution_count": 4,
   "id": "9ed34794",
   "metadata": {
    "execution": {
     "iopub.execute_input": "2022-11-05T21:26:02.637653Z",
     "iopub.status.busy": "2022-11-05T21:26:02.637151Z",
     "iopub.status.idle": "2022-11-05T21:26:02.674703Z",
     "shell.execute_reply": "2022-11-05T21:26:02.673335Z"
    },
    "papermill": {
     "duration": 0.052268,
     "end_time": "2022-11-05T21:26:02.677417",
     "exception": false,
     "start_time": "2022-11-05T21:26:02.625149",
     "status": "completed"
    },
    "tags": []
   },
   "outputs": [
    {
     "data": {
      "text/html": [
       "<div>\n",
       "<style scoped>\n",
       "    .dataframe tbody tr th:only-of-type {\n",
       "        vertical-align: middle;\n",
       "    }\n",
       "\n",
       "    .dataframe tbody tr th {\n",
       "        vertical-align: top;\n",
       "    }\n",
       "\n",
       "    .dataframe thead th {\n",
       "        text-align: right;\n",
       "    }\n",
       "</style>\n",
       "<table border=\"1\" class=\"dataframe\">\n",
       "  <thead>\n",
       "    <tr style=\"text-align: right;\">\n",
       "      <th></th>\n",
       "      <th>count</th>\n",
       "      <th>mean</th>\n",
       "      <th>std</th>\n",
       "      <th>min</th>\n",
       "      <th>25%</th>\n",
       "      <th>50%</th>\n",
       "      <th>75%</th>\n",
       "      <th>max</th>\n",
       "    </tr>\n",
       "  </thead>\n",
       "  <tbody>\n",
       "    <tr>\n",
       "      <th>PassengerId</th>\n",
       "      <td>891.0</td>\n",
       "      <td>446.000000</td>\n",
       "      <td>257.353842</td>\n",
       "      <td>1.00</td>\n",
       "      <td>223.5000</td>\n",
       "      <td>446.0000</td>\n",
       "      <td>668.5</td>\n",
       "      <td>891.0000</td>\n",
       "    </tr>\n",
       "    <tr>\n",
       "      <th>Survived</th>\n",
       "      <td>891.0</td>\n",
       "      <td>0.383838</td>\n",
       "      <td>0.486592</td>\n",
       "      <td>0.00</td>\n",
       "      <td>0.0000</td>\n",
       "      <td>0.0000</td>\n",
       "      <td>1.0</td>\n",
       "      <td>1.0000</td>\n",
       "    </tr>\n",
       "    <tr>\n",
       "      <th>Pclass</th>\n",
       "      <td>891.0</td>\n",
       "      <td>2.308642</td>\n",
       "      <td>0.836071</td>\n",
       "      <td>1.00</td>\n",
       "      <td>2.0000</td>\n",
       "      <td>3.0000</td>\n",
       "      <td>3.0</td>\n",
       "      <td>3.0000</td>\n",
       "    </tr>\n",
       "    <tr>\n",
       "      <th>Age</th>\n",
       "      <td>714.0</td>\n",
       "      <td>29.699118</td>\n",
       "      <td>14.526497</td>\n",
       "      <td>0.42</td>\n",
       "      <td>20.1250</td>\n",
       "      <td>28.0000</td>\n",
       "      <td>38.0</td>\n",
       "      <td>80.0000</td>\n",
       "    </tr>\n",
       "    <tr>\n",
       "      <th>SibSp</th>\n",
       "      <td>891.0</td>\n",
       "      <td>0.523008</td>\n",
       "      <td>1.102743</td>\n",
       "      <td>0.00</td>\n",
       "      <td>0.0000</td>\n",
       "      <td>0.0000</td>\n",
       "      <td>1.0</td>\n",
       "      <td>8.0000</td>\n",
       "    </tr>\n",
       "    <tr>\n",
       "      <th>Parch</th>\n",
       "      <td>891.0</td>\n",
       "      <td>0.381594</td>\n",
       "      <td>0.806057</td>\n",
       "      <td>0.00</td>\n",
       "      <td>0.0000</td>\n",
       "      <td>0.0000</td>\n",
       "      <td>0.0</td>\n",
       "      <td>6.0000</td>\n",
       "    </tr>\n",
       "    <tr>\n",
       "      <th>Fare</th>\n",
       "      <td>891.0</td>\n",
       "      <td>32.204208</td>\n",
       "      <td>49.693429</td>\n",
       "      <td>0.00</td>\n",
       "      <td>7.9104</td>\n",
       "      <td>14.4542</td>\n",
       "      <td>31.0</td>\n",
       "      <td>512.3292</td>\n",
       "    </tr>\n",
       "  </tbody>\n",
       "</table>\n",
       "</div>"
      ],
      "text/plain": [
       "             count        mean         std   min       25%       50%    75%  \\\n",
       "PassengerId  891.0  446.000000  257.353842  1.00  223.5000  446.0000  668.5   \n",
       "Survived     891.0    0.383838    0.486592  0.00    0.0000    0.0000    1.0   \n",
       "Pclass       891.0    2.308642    0.836071  1.00    2.0000    3.0000    3.0   \n",
       "Age          714.0   29.699118   14.526497  0.42   20.1250   28.0000   38.0   \n",
       "SibSp        891.0    0.523008    1.102743  0.00    0.0000    0.0000    1.0   \n",
       "Parch        891.0    0.381594    0.806057  0.00    0.0000    0.0000    0.0   \n",
       "Fare         891.0   32.204208   49.693429  0.00    7.9104   14.4542   31.0   \n",
       "\n",
       "                  max  \n",
       "PassengerId  891.0000  \n",
       "Survived       1.0000  \n",
       "Pclass         3.0000  \n",
       "Age           80.0000  \n",
       "SibSp          8.0000  \n",
       "Parch          6.0000  \n",
       "Fare         512.3292  "
      ]
     },
     "execution_count": 4,
     "metadata": {},
     "output_type": "execute_result"
    }
   ],
   "source": [
    "#Veri hakkındaki istatiksel bilgileri alalım\n",
    "veri.describe().T"
   ]
  },
  {
   "cell_type": "code",
   "execution_count": 5,
   "id": "aa0540c2",
   "metadata": {
    "execution": {
     "iopub.execute_input": "2022-11-05T21:26:02.699307Z",
     "iopub.status.busy": "2022-11-05T21:26:02.698915Z",
     "iopub.status.idle": "2022-11-05T21:26:02.721658Z",
     "shell.execute_reply": "2022-11-05T21:26:02.720459Z"
    },
    "papermill": {
     "duration": 0.037002,
     "end_time": "2022-11-05T21:26:02.724179",
     "exception": false,
     "start_time": "2022-11-05T21:26:02.687177",
     "status": "completed"
    },
    "tags": []
   },
   "outputs": [
    {
     "data": {
      "text/html": [
       "<div>\n",
       "<style scoped>\n",
       "    .dataframe tbody tr th:only-of-type {\n",
       "        vertical-align: middle;\n",
       "    }\n",
       "\n",
       "    .dataframe tbody tr th {\n",
       "        vertical-align: top;\n",
       "    }\n",
       "\n",
       "    .dataframe thead th {\n",
       "        text-align: right;\n",
       "    }\n",
       "</style>\n",
       "<table border=\"1\" class=\"dataframe\">\n",
       "  <thead>\n",
       "    <tr style=\"text-align: right;\">\n",
       "      <th></th>\n",
       "      <th>Survived</th>\n",
       "      <th>Pclass</th>\n",
       "      <th>Sex</th>\n",
       "      <th>Age</th>\n",
       "      <th>SibSp</th>\n",
       "      <th>Parch</th>\n",
       "      <th>Fare</th>\n",
       "      <th>Embarked</th>\n",
       "    </tr>\n",
       "  </thead>\n",
       "  <tbody>\n",
       "    <tr>\n",
       "      <th>0</th>\n",
       "      <td>0</td>\n",
       "      <td>3</td>\n",
       "      <td>male</td>\n",
       "      <td>22.0</td>\n",
       "      <td>1</td>\n",
       "      <td>0</td>\n",
       "      <td>7.2500</td>\n",
       "      <td>S</td>\n",
       "    </tr>\n",
       "    <tr>\n",
       "      <th>1</th>\n",
       "      <td>1</td>\n",
       "      <td>1</td>\n",
       "      <td>female</td>\n",
       "      <td>38.0</td>\n",
       "      <td>1</td>\n",
       "      <td>0</td>\n",
       "      <td>71.2833</td>\n",
       "      <td>C</td>\n",
       "    </tr>\n",
       "    <tr>\n",
       "      <th>2</th>\n",
       "      <td>1</td>\n",
       "      <td>3</td>\n",
       "      <td>female</td>\n",
       "      <td>26.0</td>\n",
       "      <td>0</td>\n",
       "      <td>0</td>\n",
       "      <td>7.9250</td>\n",
       "      <td>S</td>\n",
       "    </tr>\n",
       "    <tr>\n",
       "      <th>3</th>\n",
       "      <td>1</td>\n",
       "      <td>1</td>\n",
       "      <td>female</td>\n",
       "      <td>35.0</td>\n",
       "      <td>1</td>\n",
       "      <td>0</td>\n",
       "      <td>53.1000</td>\n",
       "      <td>S</td>\n",
       "    </tr>\n",
       "    <tr>\n",
       "      <th>4</th>\n",
       "      <td>0</td>\n",
       "      <td>3</td>\n",
       "      <td>male</td>\n",
       "      <td>35.0</td>\n",
       "      <td>0</td>\n",
       "      <td>0</td>\n",
       "      <td>8.0500</td>\n",
       "      <td>S</td>\n",
       "    </tr>\n",
       "    <tr>\n",
       "      <th>...</th>\n",
       "      <td>...</td>\n",
       "      <td>...</td>\n",
       "      <td>...</td>\n",
       "      <td>...</td>\n",
       "      <td>...</td>\n",
       "      <td>...</td>\n",
       "      <td>...</td>\n",
       "      <td>...</td>\n",
       "    </tr>\n",
       "    <tr>\n",
       "      <th>886</th>\n",
       "      <td>0</td>\n",
       "      <td>2</td>\n",
       "      <td>male</td>\n",
       "      <td>27.0</td>\n",
       "      <td>0</td>\n",
       "      <td>0</td>\n",
       "      <td>13.0000</td>\n",
       "      <td>S</td>\n",
       "    </tr>\n",
       "    <tr>\n",
       "      <th>887</th>\n",
       "      <td>1</td>\n",
       "      <td>1</td>\n",
       "      <td>female</td>\n",
       "      <td>19.0</td>\n",
       "      <td>0</td>\n",
       "      <td>0</td>\n",
       "      <td>30.0000</td>\n",
       "      <td>S</td>\n",
       "    </tr>\n",
       "    <tr>\n",
       "      <th>888</th>\n",
       "      <td>0</td>\n",
       "      <td>3</td>\n",
       "      <td>female</td>\n",
       "      <td>NaN</td>\n",
       "      <td>1</td>\n",
       "      <td>2</td>\n",
       "      <td>23.4500</td>\n",
       "      <td>S</td>\n",
       "    </tr>\n",
       "    <tr>\n",
       "      <th>889</th>\n",
       "      <td>1</td>\n",
       "      <td>1</td>\n",
       "      <td>male</td>\n",
       "      <td>26.0</td>\n",
       "      <td>0</td>\n",
       "      <td>0</td>\n",
       "      <td>30.0000</td>\n",
       "      <td>C</td>\n",
       "    </tr>\n",
       "    <tr>\n",
       "      <th>890</th>\n",
       "      <td>0</td>\n",
       "      <td>3</td>\n",
       "      <td>male</td>\n",
       "      <td>32.0</td>\n",
       "      <td>0</td>\n",
       "      <td>0</td>\n",
       "      <td>7.7500</td>\n",
       "      <td>Q</td>\n",
       "    </tr>\n",
       "  </tbody>\n",
       "</table>\n",
       "<p>891 rows × 8 columns</p>\n",
       "</div>"
      ],
      "text/plain": [
       "     Survived  Pclass     Sex   Age  SibSp  Parch     Fare Embarked\n",
       "0           0       3    male  22.0      1      0   7.2500        S\n",
       "1           1       1  female  38.0      1      0  71.2833        C\n",
       "2           1       3  female  26.0      0      0   7.9250        S\n",
       "3           1       1  female  35.0      1      0  53.1000        S\n",
       "4           0       3    male  35.0      0      0   8.0500        S\n",
       "..        ...     ...     ...   ...    ...    ...      ...      ...\n",
       "886         0       2    male  27.0      0      0  13.0000        S\n",
       "887         1       1  female  19.0      0      0  30.0000        S\n",
       "888         0       3  female   NaN      1      2  23.4500        S\n",
       "889         1       1    male  26.0      0      0  30.0000        C\n",
       "890         0       3    male  32.0      0      0   7.7500        Q\n",
       "\n",
       "[891 rows x 8 columns]"
      ]
     },
     "execution_count": 5,
     "metadata": {},
     "output_type": "execute_result"
    }
   ],
   "source": [
    "#Gereksiz kolonları veriden atalım \n",
    "veri.drop([\"PassengerId\",\"Cabin\",\"Ticket\",\"Name\"],axis=1,inplace = True)\n",
    "veri"
   ]
  },
  {
   "cell_type": "code",
   "execution_count": 6,
   "id": "f3531d74",
   "metadata": {
    "execution": {
     "iopub.execute_input": "2022-11-05T21:26:02.746653Z",
     "iopub.status.busy": "2022-11-05T21:26:02.745919Z",
     "iopub.status.idle": "2022-11-05T21:26:02.755636Z",
     "shell.execute_reply": "2022-11-05T21:26:02.754513Z"
    },
    "papermill": {
     "duration": 0.023755,
     "end_time": "2022-11-05T21:26:02.757983",
     "exception": false,
     "start_time": "2022-11-05T21:26:02.734228",
     "status": "completed"
    },
    "tags": []
   },
   "outputs": [
    {
     "data": {
      "text/plain": [
       "Survived      0\n",
       "Pclass        0\n",
       "Sex           0\n",
       "Age         177\n",
       "SibSp         0\n",
       "Parch         0\n",
       "Fare          0\n",
       "Embarked      2\n",
       "dtype: int64"
      ]
     },
     "execution_count": 6,
     "metadata": {},
     "output_type": "execute_result"
    }
   ],
   "source": [
    "#Eksik verileri Görüntüleyelim\n",
    "veri.isna().sum()"
   ]
  },
  {
   "cell_type": "code",
   "execution_count": 7,
   "id": "8458c6b9",
   "metadata": {
    "execution": {
     "iopub.execute_input": "2022-11-05T21:26:02.780744Z",
     "iopub.status.busy": "2022-11-05T21:26:02.779942Z",
     "iopub.status.idle": "2022-11-05T21:26:02.792264Z",
     "shell.execute_reply": "2022-11-05T21:26:02.791057Z"
    },
    "papermill": {
     "duration": 0.026301,
     "end_time": "2022-11-05T21:26:02.794714",
     "exception": false,
     "start_time": "2022-11-05T21:26:02.768413",
     "status": "completed"
    },
    "tags": []
   },
   "outputs": [
    {
     "data": {
      "text/plain": [
       "29.69911764705882"
      ]
     },
     "execution_count": 7,
     "metadata": {},
     "output_type": "execute_result"
    }
   ],
   "source": [
    "#Eksik verilerin doldurulması\n",
    "veri.Age.fillna(veri.Age.mean(),inplace=True)\n",
    "veri.isna().sum()\n",
    "veri.Age.mean()"
   ]
  },
  {
   "cell_type": "code",
   "execution_count": 8,
   "id": "e21c07fd",
   "metadata": {
    "execution": {
     "iopub.execute_input": "2022-11-05T21:26:02.818205Z",
     "iopub.status.busy": "2022-11-05T21:26:02.816900Z",
     "iopub.status.idle": "2022-11-05T21:26:02.826716Z",
     "shell.execute_reply": "2022-11-05T21:26:02.825843Z"
    },
    "papermill": {
     "duration": 0.024335,
     "end_time": "2022-11-05T21:26:02.829086",
     "exception": false,
     "start_time": "2022-11-05T21:26:02.804751",
     "status": "completed"
    },
    "tags": []
   },
   "outputs": [
    {
     "data": {
      "text/plain": [
       "0    S\n",
       "dtype: object"
      ]
     },
     "execution_count": 8,
     "metadata": {},
     "output_type": "execute_result"
    }
   ],
   "source": [
    "#Eksik veri doldurulması (embarked)\n",
    "veri.Embarked.fillna(veri.Embarked.mode()[0],inplace=True)\n",
    "veri.Embarked.mode()"
   ]
  },
  {
   "cell_type": "code",
   "execution_count": 9,
   "id": "a2951dfc",
   "metadata": {
    "execution": {
     "iopub.execute_input": "2022-11-05T21:26:02.852045Z",
     "iopub.status.busy": "2022-11-05T21:26:02.851054Z",
     "iopub.status.idle": "2022-11-05T21:26:02.860653Z",
     "shell.execute_reply": "2022-11-05T21:26:02.859532Z"
    },
    "papermill": {
     "duration": 0.023451,
     "end_time": "2022-11-05T21:26:02.863038",
     "exception": false,
     "start_time": "2022-11-05T21:26:02.839587",
     "status": "completed"
    },
    "tags": []
   },
   "outputs": [
    {
     "data": {
      "text/plain": [
       "Survived    0\n",
       "Pclass      0\n",
       "Sex         0\n",
       "Age         0\n",
       "SibSp       0\n",
       "Parch       0\n",
       "Fare        0\n",
       "Embarked    0\n",
       "dtype: int64"
      ]
     },
     "execution_count": 9,
     "metadata": {},
     "output_type": "execute_result"
    }
   ],
   "source": [
    "veri.isna().sum()"
   ]
  },
  {
   "cell_type": "markdown",
   "id": "623d9c0c",
   "metadata": {
    "papermill": {
     "duration": 0.009681,
     "end_time": "2022-11-05T21:26:02.882840",
     "exception": false,
     "start_time": "2022-11-05T21:26:02.873159",
     "status": "completed"
    },
    "tags": []
   },
   "source": [
    "### Verilerin görselleştirilmesi"
   ]
  },
  {
   "cell_type": "code",
   "execution_count": 10,
   "id": "48b62973",
   "metadata": {
    "execution": {
     "iopub.execute_input": "2022-11-05T21:26:02.904600Z",
     "iopub.status.busy": "2022-11-05T21:26:02.904032Z",
     "iopub.status.idle": "2022-11-05T21:26:03.436152Z",
     "shell.execute_reply": "2022-11-05T21:26:03.434661Z"
    },
    "papermill": {
     "duration": 0.54664,
     "end_time": "2022-11-05T21:26:03.439521",
     "exception": false,
     "start_time": "2022-11-05T21:26:02.892881",
     "status": "completed"
    },
    "tags": []
   },
   "outputs": [
    {
     "data": {
      "image/png": "[encoded data removed]",
      "text/plain": [
       "<Figure size 432x288 with 1 Axes>"
      ]
     },
     "metadata": {
      "needs_background": "light"
     },
     "output_type": "display_data"
    },
    {
     "data": {
      "text/plain": [
       "Text(0, 0.5, 'Sıklık')"
      ]
     },
     "execution_count": 10,
     "metadata": {},
     "output_type": "execute_result"
    },
    {
     "data": {
      "image/png": "[encoded data removed]",
      "text/plain": [
       "<Figure size 432x288 with 1 Axes>"
      ]
     },
     "metadata": {
      "needs_background": "light"
     },
     "output_type": "display_data"
    }
   ],
   "source": [
    "#Histogram grafiği, Sayısal değerler için\n",
    "plt.hist(veri.Age)\n",
    "plt.title(\"Yas grafiği\")\n",
    "plt.xlabel(\"Yas\")\n",
    "plt.ylabel(\"Sıklık\")\n",
    "plt.show()\n",
    "\n",
    "plt.hist(veri.Fare)\n",
    "plt.title(\"Para grafiği\")\n",
    "plt.xlabel(\"Para\")\n",
    "plt.ylabel(\"Sıklık\")"
   ]
  },
  {
   "cell_type": "code",
   "execution_count": 11,
   "id": "fd0d7520",
   "metadata": {
    "execution": {
     "iopub.execute_input": "2022-11-05T21:26:03.465510Z",
     "iopub.status.busy": "2022-11-05T21:26:03.464243Z",
     "iopub.status.idle": "2022-11-05T21:26:04.342294Z",
     "shell.execute_reply": "2022-11-05T21:26:04.340744Z"
    },
    "papermill": {
     "duration": 0.895963,
     "end_time": "2022-11-05T21:26:04.346605",
     "exception": false,
     "start_time": "2022-11-05T21:26:03.450642",
     "status": "completed"
    },
    "tags": []
   },
   "outputs": [
    {
     "data": {
      "image/png": "[encoded data removed]",
      "text/plain": [
       "<Figure size 432x288 with 1 Axes>"
      ]
     },
     "metadata": {},
     "output_type": "display_data"
    },
    {
     "data": {
      "image/png": "[encoded data removed]",
      "text/plain": [
       "<Figure size 432x288 with 1 Axes>"
      ]
     },
     "metadata": {},
     "output_type": "display_data"
    },
    {
     "data": {
      "image/png": "[encoded data removed]",
      "text/plain": [
       "<Figure size 432x288 with 1 Axes>"
      ]
     },
     "metadata": {},
     "output_type": "display_data"
    },
    {
     "data": {
      "image/png": "[encoded data removed]",
      "text/plain": [
       "<Figure size 432x288 with 1 Axes>"
      ]
     },
     "metadata": {},
     "output_type": "display_data"
    },
    {
     "data": {
      "image/png": "[encoded data removed]",
      "text/plain": [
       "<Figure size 432x288 with 1 Axes>"
      ]
     },
     "metadata": {},
     "output_type": "display_data"
    },
    {
     "data": {
      "image/png": "[encoded data removed]",
      "text/plain": [
       "<Figure size 432x288 with 1 Axes>"
      ]
     },
     "metadata": {},
     "output_type": "display_data"
    }
   ],
   "source": [
    "def pasta(kolon): #Pasta grafiğini özelleştirmek için bir fonksiyon oluşturduk\n",
    "    plt.pie(veri[kolon].value_counts(),labels = veri[kolon].unique(), \n",
    "           autopct = \"%1.f%%\")\n",
    "    plt.title(kolon + \" grafiği\")\n",
    "    plt.show()\n",
    "\n",
    "kategorik = ['Survived', 'Pclass', 'Sex', 'SibSp', 'Parch','Embarked']\n",
    "\n",
    "for column in kategorik: #Tüm kategorik değişkenleri yazdırmak için for döngüsünü kullandık \n",
    "    pasta(column)"
   ]
  },
  {
   "cell_type": "code",
   "execution_count": 12,
   "id": "02154bfb",
   "metadata": {
    "execution": {
     "iopub.execute_input": "2022-11-05T21:26:04.415047Z",
     "iopub.status.busy": "2022-11-05T21:26:04.413758Z",
     "iopub.status.idle": "2022-11-05T21:26:12.209899Z",
     "shell.execute_reply": "2022-11-05T21:26:12.209041Z"
    },
    "papermill": {
     "duration": 7.835789,
     "end_time": "2022-11-05T21:26:12.214156",
     "exception": false,
     "start_time": "2022-11-05T21:26:04.378367",
     "status": "completed"
    },
    "tags": []
   },
   "outputs": [
    {
     "data": {
      "text/plain": [
       "<seaborn.axisgrid.PairGrid at 0x7f72e811c110>"
      ]
     },
     "execution_count": 12,
     "metadata": {},
     "output_type": "execute_result"
    },
    {
     "data": {
      "image/png": "[encoded data removed]",
      "text/plain": [
       "<Figure size 951.875x900 with 30 Axes>"
      ]
     },
     "metadata": {
      "needs_background": "light"
     },
     "output_type": "display_data"
    }
   ],
   "source": [
    "#PairPlot (Çiftler grafiği)\n",
    "sns.pairplot(veri,hue = \"Survived\")\n"
   ]
  },
  {
   "cell_type": "code",
   "execution_count": 13,
   "id": "179d37e2",
   "metadata": {
    "execution": {
     "iopub.execute_input": "2022-11-05T21:26:12.248321Z",
     "iopub.status.busy": "2022-11-05T21:26:12.247313Z",
     "iopub.status.idle": "2022-11-05T21:26:13.232429Z",
     "shell.execute_reply": "2022-11-05T21:26:13.231278Z"
    },
    "papermill": {
     "duration": 1.004491,
     "end_time": "2022-11-05T21:26:13.235021",
     "exception": false,
     "start_time": "2022-11-05T21:26:12.230530",
     "status": "completed"
    },
    "tags": []
   },
   "outputs": [
    {
     "data": {
      "text/plain": [
       "<seaborn.axisgrid.JointGrid at 0x7f72df0ceb50>"
      ]
     },
     "execution_count": 13,
     "metadata": {},
     "output_type": "execute_result"
    },
    {
     "data": {
      "image/png": "[encoded data removed]",
      "text/plain": [
       "<Figure size 432x432 with 3 Axes>"
      ]
     },
     "metadata": {
      "needs_background": "light"
     },
     "output_type": "display_data"
    }
   ],
   "source": [
    "#Jointplot\n",
    "sns.jointplot(veri.Age,veri.Fare,kind = \"reg\")\n"
   ]
  },
  {
   "cell_type": "code",
   "execution_count": 14,
   "id": "d5f3b58e",
   "metadata": {
    "execution": {
     "iopub.execute_input": "2022-11-05T21:26:13.268912Z",
     "iopub.status.busy": "2022-11-05T21:26:13.268517Z",
     "iopub.status.idle": "2022-11-05T21:26:13.289554Z",
     "shell.execute_reply": "2022-11-05T21:26:13.288333Z"
    },
    "papermill": {
     "duration": 0.040738,
     "end_time": "2022-11-05T21:26:13.291826",
     "exception": false,
     "start_time": "2022-11-05T21:26:13.251088",
     "status": "completed"
    },
    "tags": []
   },
   "outputs": [
    {
     "data": {
      "text/html": [
       "<div>\n",
       "<style scoped>\n",
       "    .dataframe tbody tr th:only-of-type {\n",
       "        vertical-align: middle;\n",
       "    }\n",
       "\n",
       "    .dataframe tbody tr th {\n",
       "        vertical-align: top;\n",
       "    }\n",
       "\n",
       "    .dataframe thead th {\n",
       "        text-align: right;\n",
       "    }\n",
       "</style>\n",
       "<table border=\"1\" class=\"dataframe\">\n",
       "  <thead>\n",
       "    <tr style=\"text-align: right;\">\n",
       "      <th></th>\n",
       "      <th>Survived</th>\n",
       "    </tr>\n",
       "    <tr>\n",
       "      <th>SibSp</th>\n",
       "      <th></th>\n",
       "    </tr>\n",
       "  </thead>\n",
       "  <tbody>\n",
       "    <tr>\n",
       "      <th>0</th>\n",
       "      <td>0.345395</td>\n",
       "    </tr>\n",
       "    <tr>\n",
       "      <th>1</th>\n",
       "      <td>0.535885</td>\n",
       "    </tr>\n",
       "    <tr>\n",
       "      <th>2</th>\n",
       "      <td>0.464286</td>\n",
       "    </tr>\n",
       "    <tr>\n",
       "      <th>3</th>\n",
       "      <td>0.250000</td>\n",
       "    </tr>\n",
       "    <tr>\n",
       "      <th>4</th>\n",
       "      <td>0.166667</td>\n",
       "    </tr>\n",
       "    <tr>\n",
       "      <th>5</th>\n",
       "      <td>0.000000</td>\n",
       "    </tr>\n",
       "    <tr>\n",
       "      <th>8</th>\n",
       "      <td>0.000000</td>\n",
       "    </tr>\n",
       "  </tbody>\n",
       "</table>\n",
       "</div>"
      ],
      "text/plain": [
       "       Survived\n",
       "SibSp          \n",
       "0      0.345395\n",
       "1      0.535885\n",
       "2      0.464286\n",
       "3      0.250000\n",
       "4      0.166667\n",
       "5      0.000000\n",
       "8      0.000000"
      ]
     },
     "execution_count": 14,
     "metadata": {},
     "output_type": "execute_result"
    }
   ],
   "source": [
    "#veriler arasındaki ilişkinin açıklanması\n",
    "veri[[\"Survived\",\"Pclass\"]].groupby(\"Pclass\").mean()\n",
    "veri[[\"Survived\",\"Sex\"]].groupby(\"Sex\").mean()\n",
    "veri[[\"Survived\",\"SibSp\"]].groupby(\"SibSp\").mean()"
   ]
  },
  {
   "cell_type": "code",
   "execution_count": 15,
   "id": "98bc91e8",
   "metadata": {
    "execution": {
     "iopub.execute_input": "2022-11-05T21:26:13.326702Z",
     "iopub.status.busy": "2022-11-05T21:26:13.326280Z",
     "iopub.status.idle": "2022-11-05T21:26:13.334338Z",
     "shell.execute_reply": "2022-11-05T21:26:13.333521Z"
    },
    "papermill": {
     "duration": 0.028146,
     "end_time": "2022-11-05T21:26:13.336450",
     "exception": false,
     "start_time": "2022-11-05T21:26:13.308304",
     "status": "completed"
    },
    "tags": []
   },
   "outputs": [],
   "source": [
    "#Aykırı verilerin analizi\n",
    "from collections import Counter\n",
    "def detect_outliers(df,features):\n",
    "    outlier_indices = []\n",
    "    '''\n",
    "    Q1 = first quartile\n",
    "    Q3 = third quartile\n",
    "    IQR = Interquartile range\n",
    "    Low outliers = Q1 – 1.5(Q3 – Q1) = Q1 – 1.5(IQR)\n",
    "    High outliers = Q3 + 1.5(Q3 – Q1) = Q3 + 1.5(IQR)\n",
    "    '''\n",
    "    for c in features:\n",
    "        # 1.Çeyrek (1st )\n",
    "        Q1 = np.percentile(df[c],25)\n",
    "        # 3.Çeyrek\n",
    "        Q3 = np.percentile(df[c],75)\n",
    "        # IQR (Inter Quantile Range) Çeyrekler açıklığı\n",
    "        IQR = Q3 - Q1\n",
    "        # Outlier step\n",
    "        outlier_step = IQR * 1.5\n",
    "        # detect outlier and their indeces\n",
    "        outlier_list_col = df[(df[c] < Q1 - outlier_step) | (df[c] > Q3 + outlier_step)].index\n",
    "        # store indeces\n",
    "        outlier_indices.extend(outlier_list_col)\n",
    "    \n",
    "    outlier_indices = Counter(outlier_indices)\n",
    "    multiple_outliers = list(i for i, v in outlier_indices.items() if v > 2)\n",
    "    \n",
    "    return multiple_outliers\n",
    "\n",
    "\n"
   ]
  },
  {
   "cell_type": "code",
   "execution_count": 16,
   "id": "75a5bb47",
   "metadata": {
    "execution": {
     "iopub.execute_input": "2022-11-05T21:26:13.371810Z",
     "iopub.status.busy": "2022-11-05T21:26:13.371335Z",
     "iopub.status.idle": "2022-11-05T21:26:13.409809Z",
     "shell.execute_reply": "2022-11-05T21:26:13.408729Z"
    },
    "papermill": {
     "duration": 0.058886,
     "end_time": "2022-11-05T21:26:13.412245",
     "exception": false,
     "start_time": "2022-11-05T21:26:13.353359",
     "status": "completed"
    },
    "tags": []
   },
   "outputs": [
    {
     "data": {
      "text/html": [
       "<div>\n",
       "<style scoped>\n",
       "    .dataframe tbody tr th:only-of-type {\n",
       "        vertical-align: middle;\n",
       "    }\n",
       "\n",
       "    .dataframe tbody tr th {\n",
       "        vertical-align: top;\n",
       "    }\n",
       "\n",
       "    .dataframe thead th {\n",
       "        text-align: right;\n",
       "    }\n",
       "</style>\n",
       "<table border=\"1\" class=\"dataframe\">\n",
       "  <thead>\n",
       "    <tr style=\"text-align: right;\">\n",
       "      <th></th>\n",
       "      <th>Survived</th>\n",
       "      <th>Pclass</th>\n",
       "      <th>Sex</th>\n",
       "      <th>Age</th>\n",
       "      <th>SibSp</th>\n",
       "      <th>Parch</th>\n",
       "      <th>Fare</th>\n",
       "      <th>Embarked</th>\n",
       "    </tr>\n",
       "  </thead>\n",
       "  <tbody>\n",
       "    <tr>\n",
       "      <th>0</th>\n",
       "      <td>0</td>\n",
       "      <td>3</td>\n",
       "      <td>male</td>\n",
       "      <td>22.000000</td>\n",
       "      <td>1</td>\n",
       "      <td>0</td>\n",
       "      <td>7.2500</td>\n",
       "      <td>S</td>\n",
       "    </tr>\n",
       "    <tr>\n",
       "      <th>1</th>\n",
       "      <td>1</td>\n",
       "      <td>1</td>\n",
       "      <td>female</td>\n",
       "      <td>38.000000</td>\n",
       "      <td>1</td>\n",
       "      <td>0</td>\n",
       "      <td>71.2833</td>\n",
       "      <td>C</td>\n",
       "    </tr>\n",
       "    <tr>\n",
       "      <th>2</th>\n",
       "      <td>1</td>\n",
       "      <td>3</td>\n",
       "      <td>female</td>\n",
       "      <td>26.000000</td>\n",
       "      <td>0</td>\n",
       "      <td>0</td>\n",
       "      <td>7.9250</td>\n",
       "      <td>S</td>\n",
       "    </tr>\n",
       "    <tr>\n",
       "      <th>3</th>\n",
       "      <td>1</td>\n",
       "      <td>1</td>\n",
       "      <td>female</td>\n",
       "      <td>35.000000</td>\n",
       "      <td>1</td>\n",
       "      <td>0</td>\n",
       "      <td>53.1000</td>\n",
       "      <td>S</td>\n",
       "    </tr>\n",
       "    <tr>\n",
       "      <th>4</th>\n",
       "      <td>0</td>\n",
       "      <td>3</td>\n",
       "      <td>male</td>\n",
       "      <td>35.000000</td>\n",
       "      <td>0</td>\n",
       "      <td>0</td>\n",
       "      <td>8.0500</td>\n",
       "      <td>S</td>\n",
       "    </tr>\n",
       "    <tr>\n",
       "      <th>...</th>\n",
       "      <td>...</td>\n",
       "      <td>...</td>\n",
       "      <td>...</td>\n",
       "      <td>...</td>\n",
       "      <td>...</td>\n",
       "      <td>...</td>\n",
       "      <td>...</td>\n",
       "      <td>...</td>\n",
       "    </tr>\n",
       "    <tr>\n",
       "      <th>886</th>\n",
       "      <td>0</td>\n",
       "      <td>2</td>\n",
       "      <td>male</td>\n",
       "      <td>27.000000</td>\n",
       "      <td>0</td>\n",
       "      <td>0</td>\n",
       "      <td>13.0000</td>\n",
       "      <td>S</td>\n",
       "    </tr>\n",
       "    <tr>\n",
       "      <th>887</th>\n",
       "      <td>1</td>\n",
       "      <td>1</td>\n",
       "      <td>female</td>\n",
       "      <td>19.000000</td>\n",
       "      <td>0</td>\n",
       "      <td>0</td>\n",
       "      <td>30.0000</td>\n",
       "      <td>S</td>\n",
       "    </tr>\n",
       "    <tr>\n",
       "      <th>888</th>\n",
       "      <td>0</td>\n",
       "      <td>3</td>\n",
       "      <td>female</td>\n",
       "      <td>29.699118</td>\n",
       "      <td>1</td>\n",
       "      <td>2</td>\n",
       "      <td>23.4500</td>\n",
       "      <td>S</td>\n",
       "    </tr>\n",
       "    <tr>\n",
       "      <th>889</th>\n",
       "      <td>1</td>\n",
       "      <td>1</td>\n",
       "      <td>male</td>\n",
       "      <td>26.000000</td>\n",
       "      <td>0</td>\n",
       "      <td>0</td>\n",
       "      <td>30.0000</td>\n",
       "      <td>C</td>\n",
       "    </tr>\n",
       "    <tr>\n",
       "      <th>890</th>\n",
       "      <td>0</td>\n",
       "      <td>3</td>\n",
       "      <td>male</td>\n",
       "      <td>32.000000</td>\n",
       "      <td>0</td>\n",
       "      <td>0</td>\n",
       "      <td>7.7500</td>\n",
       "      <td>Q</td>\n",
       "    </tr>\n",
       "  </tbody>\n",
       "</table>\n",
       "<p>866 rows × 8 columns</p>\n",
       "</div>"
      ],
      "text/plain": [
       "     Survived  Pclass     Sex        Age  SibSp  Parch     Fare Embarked\n",
       "0           0       3    male  22.000000      1      0   7.2500        S\n",
       "1           1       1  female  38.000000      1      0  71.2833        C\n",
       "2           1       3  female  26.000000      0      0   7.9250        S\n",
       "3           1       1  female  35.000000      1      0  53.1000        S\n",
       "4           0       3    male  35.000000      0      0   8.0500        S\n",
       "..        ...     ...     ...        ...    ...    ...      ...      ...\n",
       "886         0       2    male  27.000000      0      0  13.0000        S\n",
       "887         1       1  female  19.000000      0      0  30.0000        S\n",
       "888         0       3  female  29.699118      1      2  23.4500        S\n",
       "889         1       1    male  26.000000      0      0  30.0000        C\n",
       "890         0       3    male  32.000000      0      0   7.7500        Q\n",
       "\n",
       "[866 rows x 8 columns]"
      ]
     },
     "execution_count": 16,
     "metadata": {},
     "output_type": "execute_result"
    }
   ],
   "source": [
    "#Aykırı değerlerin yazdırılması\n",
    "detect_outliers(veri,[\"Age\",\"Fare\",\"SibSp\",\"Parch\",\"Survived\"])\n",
    "veri.loc[detect_outliers(veri,[\"Age\",\"Fare\",\"SibSp\",\"Parch\",\"Survived\"])]\n",
    "veri.drop(detect_outliers(veri,[\"Age\",\"Fare\",\"SibSp\",\"Parch\",\"Survived\"]),inplace=True)\n",
    "veri"
   ]
  },
  {
   "cell_type": "code",
   "execution_count": 17,
   "id": "17296a5d",
   "metadata": {
    "execution": {
     "iopub.execute_input": "2022-11-05T21:26:13.447039Z",
     "iopub.status.busy": "2022-11-05T21:26:13.446646Z",
     "iopub.status.idle": "2022-11-05T21:26:13.467590Z",
     "shell.execute_reply": "2022-11-05T21:26:13.466451Z"
    },
    "papermill": {
     "duration": 0.04125,
     "end_time": "2022-11-05T21:26:13.469945",
     "exception": false,
     "start_time": "2022-11-05T21:26:13.428695",
     "status": "completed"
    },
    "tags": []
   },
   "outputs": [
    {
     "data": {
      "text/html": [
       "<div>\n",
       "<style scoped>\n",
       "    .dataframe tbody tr th:only-of-type {\n",
       "        vertical-align: middle;\n",
       "    }\n",
       "\n",
       "    .dataframe tbody tr th {\n",
       "        vertical-align: top;\n",
       "    }\n",
       "\n",
       "    .dataframe thead th {\n",
       "        text-align: right;\n",
       "    }\n",
       "</style>\n",
       "<table border=\"1\" class=\"dataframe\">\n",
       "  <thead>\n",
       "    <tr style=\"text-align: right;\">\n",
       "      <th></th>\n",
       "      <th>Survived</th>\n",
       "      <th>Pclass</th>\n",
       "      <th>Sex</th>\n",
       "      <th>Age</th>\n",
       "      <th>SibSp</th>\n",
       "      <th>Parch</th>\n",
       "      <th>Fare</th>\n",
       "      <th>Embarked</th>\n",
       "    </tr>\n",
       "  </thead>\n",
       "  <tbody>\n",
       "    <tr>\n",
       "      <th>0</th>\n",
       "      <td>0</td>\n",
       "      <td>3</td>\n",
       "      <td>1</td>\n",
       "      <td>22.000000</td>\n",
       "      <td>1</td>\n",
       "      <td>0</td>\n",
       "      <td>7.2500</td>\n",
       "      <td>S</td>\n",
       "    </tr>\n",
       "    <tr>\n",
       "      <th>1</th>\n",
       "      <td>1</td>\n",
       "      <td>1</td>\n",
       "      <td>0</td>\n",
       "      <td>38.000000</td>\n",
       "      <td>1</td>\n",
       "      <td>0</td>\n",
       "      <td>71.2833</td>\n",
       "      <td>C</td>\n",
       "    </tr>\n",
       "    <tr>\n",
       "      <th>2</th>\n",
       "      <td>1</td>\n",
       "      <td>3</td>\n",
       "      <td>0</td>\n",
       "      <td>26.000000</td>\n",
       "      <td>0</td>\n",
       "      <td>0</td>\n",
       "      <td>7.9250</td>\n",
       "      <td>S</td>\n",
       "    </tr>\n",
       "    <tr>\n",
       "      <th>3</th>\n",
       "      <td>1</td>\n",
       "      <td>1</td>\n",
       "      <td>0</td>\n",
       "      <td>35.000000</td>\n",
       "      <td>1</td>\n",
       "      <td>0</td>\n",
       "      <td>53.1000</td>\n",
       "      <td>S</td>\n",
       "    </tr>\n",
       "    <tr>\n",
       "      <th>4</th>\n",
       "      <td>0</td>\n",
       "      <td>3</td>\n",
       "      <td>1</td>\n",
       "      <td>35.000000</td>\n",
       "      <td>0</td>\n",
       "      <td>0</td>\n",
       "      <td>8.0500</td>\n",
       "      <td>S</td>\n",
       "    </tr>\n",
       "    <tr>\n",
       "      <th>...</th>\n",
       "      <td>...</td>\n",
       "      <td>...</td>\n",
       "      <td>...</td>\n",
       "      <td>...</td>\n",
       "      <td>...</td>\n",
       "      <td>...</td>\n",
       "      <td>...</td>\n",
       "      <td>...</td>\n",
       "    </tr>\n",
       "    <tr>\n",
       "      <th>886</th>\n",
       "      <td>0</td>\n",
       "      <td>2</td>\n",
       "      <td>1</td>\n",
       "      <td>27.000000</td>\n",
       "      <td>0</td>\n",
       "      <td>0</td>\n",
       "      <td>13.0000</td>\n",
       "      <td>S</td>\n",
       "    </tr>\n",
       "    <tr>\n",
       "      <th>887</th>\n",
       "      <td>1</td>\n",
       "      <td>1</td>\n",
       "      <td>0</td>\n",
       "      <td>19.000000</td>\n",
       "      <td>0</td>\n",
       "      <td>0</td>\n",
       "      <td>30.0000</td>\n",
       "      <td>S</td>\n",
       "    </tr>\n",
       "    <tr>\n",
       "      <th>888</th>\n",
       "      <td>0</td>\n",
       "      <td>3</td>\n",
       "      <td>0</td>\n",
       "      <td>29.699118</td>\n",
       "      <td>1</td>\n",
       "      <td>2</td>\n",
       "      <td>23.4500</td>\n",
       "      <td>S</td>\n",
       "    </tr>\n",
       "    <tr>\n",
       "      <th>889</th>\n",
       "      <td>1</td>\n",
       "      <td>1</td>\n",
       "      <td>1</td>\n",
       "      <td>26.000000</td>\n",
       "      <td>0</td>\n",
       "      <td>0</td>\n",
       "      <td>30.0000</td>\n",
       "      <td>C</td>\n",
       "    </tr>\n",
       "    <tr>\n",
       "      <th>890</th>\n",
       "      <td>0</td>\n",
       "      <td>3</td>\n",
       "      <td>1</td>\n",
       "      <td>32.000000</td>\n",
       "      <td>0</td>\n",
       "      <td>0</td>\n",
       "      <td>7.7500</td>\n",
       "      <td>Q</td>\n",
       "    </tr>\n",
       "  </tbody>\n",
       "</table>\n",
       "<p>866 rows × 8 columns</p>\n",
       "</div>"
      ],
      "text/plain": [
       "     Survived  Pclass  Sex        Age  SibSp  Parch     Fare Embarked\n",
       "0           0       3    1  22.000000      1      0   7.2500        S\n",
       "1           1       1    0  38.000000      1      0  71.2833        C\n",
       "2           1       3    0  26.000000      0      0   7.9250        S\n",
       "3           1       1    0  35.000000      1      0  53.1000        S\n",
       "4           0       3    1  35.000000      0      0   8.0500        S\n",
       "..        ...     ...  ...        ...    ...    ...      ...      ...\n",
       "886         0       2    1  27.000000      0      0  13.0000        S\n",
       "887         1       1    0  19.000000      0      0  30.0000        S\n",
       "888         0       3    0  29.699118      1      2  23.4500        S\n",
       "889         1       1    1  26.000000      0      0  30.0000        C\n",
       "890         0       3    1  32.000000      0      0   7.7500        Q\n",
       "\n",
       "[866 rows x 8 columns]"
      ]
     },
     "execution_count": 17,
     "metadata": {},
     "output_type": "execute_result"
    }
   ],
   "source": [
    "#Kategorik verilerin sayısal veriye dönüştürülmesi\n",
    "veri.Sex = (veri.Sex == \"male\").astype(int)\n",
    "veri"
   ]
  },
  {
   "cell_type": "code",
   "execution_count": 18,
   "id": "7904c6ad",
   "metadata": {
    "execution": {
     "iopub.execute_input": "2022-11-05T21:26:13.505731Z",
     "iopub.status.busy": "2022-11-05T21:26:13.505304Z",
     "iopub.status.idle": "2022-11-05T21:26:13.515991Z",
     "shell.execute_reply": "2022-11-05T21:26:13.514736Z"
    },
    "papermill": {
     "duration": 0.031525,
     "end_time": "2022-11-05T21:26:13.518470",
     "exception": false,
     "start_time": "2022-11-05T21:26:13.486945",
     "status": "completed"
    },
    "tags": []
   },
   "outputs": [],
   "source": [
    "#Embarked verisini OneHotEncoder ile kategorik hale getirmek\n",
    "emb = veri[\"Embarked\"]\n",
    "emb = pd.get_dummies(emb,drop_first = True)\n",
    "emb\n",
    "#emb verisini ve ilk verimizi bilreştirip kategorik veriyi içerisinden çıkaralım\n",
    "veri = pd.concat([veri,emb],axis=1)\n",
    "veri\n",
    "veri.drop([\"Embarked\"],axis=1,inplace=True)"
   ]
  },
  {
   "cell_type": "markdown",
   "id": "b6c1fd6b",
   "metadata": {
    "papermill": {
     "duration": 0.016341,
     "end_time": "2022-11-05T21:26:13.551690",
     "exception": false,
     "start_time": "2022-11-05T21:26:13.535349",
     "status": "completed"
    },
    "tags": []
   },
   "source": [
    "# Gazi AI Topluluğu\n",
    "## ML eğitimi\n",
    "### Week 3 Day 1 "
   ]
  },
  {
   "cell_type": "code",
   "execution_count": 19,
   "id": "935c54de",
   "metadata": {
    "execution": {
     "iopub.execute_input": "2022-11-05T21:26:13.586844Z",
     "iopub.status.busy": "2022-11-05T21:26:13.586449Z",
     "iopub.status.idle": "2022-11-05T21:26:13.606309Z",
     "shell.execute_reply": "2022-11-05T21:26:13.605100Z"
    },
    "papermill": {
     "duration": 0.040721,
     "end_time": "2022-11-05T21:26:13.609137",
     "exception": false,
     "start_time": "2022-11-05T21:26:13.568416",
     "status": "completed"
    },
    "tags": []
   },
   "outputs": [
    {
     "data": {
      "text/html": [
       "<div>\n",
       "<style scoped>\n",
       "    .dataframe tbody tr th:only-of-type {\n",
       "        vertical-align: middle;\n",
       "    }\n",
       "\n",
       "    .dataframe tbody tr th {\n",
       "        vertical-align: top;\n",
       "    }\n",
       "\n",
       "    .dataframe thead th {\n",
       "        text-align: right;\n",
       "    }\n",
       "</style>\n",
       "<table border=\"1\" class=\"dataframe\">\n",
       "  <thead>\n",
       "    <tr style=\"text-align: right;\">\n",
       "      <th></th>\n",
       "      <th>Pclass</th>\n",
       "      <th>Sex</th>\n",
       "      <th>Age</th>\n",
       "      <th>SibSp</th>\n",
       "      <th>Parch</th>\n",
       "      <th>Fare</th>\n",
       "      <th>Q</th>\n",
       "      <th>S</th>\n",
       "    </tr>\n",
       "  </thead>\n",
       "  <tbody>\n",
       "    <tr>\n",
       "      <th>0</th>\n",
       "      <td>3</td>\n",
       "      <td>1</td>\n",
       "      <td>22.000000</td>\n",
       "      <td>1</td>\n",
       "      <td>0</td>\n",
       "      <td>7.2500</td>\n",
       "      <td>0</td>\n",
       "      <td>1</td>\n",
       "    </tr>\n",
       "    <tr>\n",
       "      <th>1</th>\n",
       "      <td>1</td>\n",
       "      <td>0</td>\n",
       "      <td>38.000000</td>\n",
       "      <td>1</td>\n",
       "      <td>0</td>\n",
       "      <td>71.2833</td>\n",
       "      <td>0</td>\n",
       "      <td>0</td>\n",
       "    </tr>\n",
       "    <tr>\n",
       "      <th>2</th>\n",
       "      <td>3</td>\n",
       "      <td>0</td>\n",
       "      <td>26.000000</td>\n",
       "      <td>0</td>\n",
       "      <td>0</td>\n",
       "      <td>7.9250</td>\n",
       "      <td>0</td>\n",
       "      <td>1</td>\n",
       "    </tr>\n",
       "    <tr>\n",
       "      <th>3</th>\n",
       "      <td>1</td>\n",
       "      <td>0</td>\n",
       "      <td>35.000000</td>\n",
       "      <td>1</td>\n",
       "      <td>0</td>\n",
       "      <td>53.1000</td>\n",
       "      <td>0</td>\n",
       "      <td>1</td>\n",
       "    </tr>\n",
       "    <tr>\n",
       "      <th>4</th>\n",
       "      <td>3</td>\n",
       "      <td>1</td>\n",
       "      <td>35.000000</td>\n",
       "      <td>0</td>\n",
       "      <td>0</td>\n",
       "      <td>8.0500</td>\n",
       "      <td>0</td>\n",
       "      <td>1</td>\n",
       "    </tr>\n",
       "    <tr>\n",
       "      <th>...</th>\n",
       "      <td>...</td>\n",
       "      <td>...</td>\n",
       "      <td>...</td>\n",
       "      <td>...</td>\n",
       "      <td>...</td>\n",
       "      <td>...</td>\n",
       "      <td>...</td>\n",
       "      <td>...</td>\n",
       "    </tr>\n",
       "    <tr>\n",
       "      <th>886</th>\n",
       "      <td>2</td>\n",
       "      <td>1</td>\n",
       "      <td>27.000000</td>\n",
       "      <td>0</td>\n",
       "      <td>0</td>\n",
       "      <td>13.0000</td>\n",
       "      <td>0</td>\n",
       "      <td>1</td>\n",
       "    </tr>\n",
       "    <tr>\n",
       "      <th>887</th>\n",
       "      <td>1</td>\n",
       "      <td>0</td>\n",
       "      <td>19.000000</td>\n",
       "      <td>0</td>\n",
       "      <td>0</td>\n",
       "      <td>30.0000</td>\n",
       "      <td>0</td>\n",
       "      <td>1</td>\n",
       "    </tr>\n",
       "    <tr>\n",
       "      <th>888</th>\n",
       "      <td>3</td>\n",
       "      <td>0</td>\n",
       "      <td>29.699118</td>\n",
       "      <td>1</td>\n",
       "      <td>2</td>\n",
       "      <td>23.4500</td>\n",
       "      <td>0</td>\n",
       "      <td>1</td>\n",
       "    </tr>\n",
       "    <tr>\n",
       "      <th>889</th>\n",
       "      <td>1</td>\n",
       "      <td>1</td>\n",
       "      <td>26.000000</td>\n",
       "      <td>0</td>\n",
       "      <td>0</td>\n",
       "      <td>30.0000</td>\n",
       "      <td>0</td>\n",
       "      <td>0</td>\n",
       "    </tr>\n",
       "    <tr>\n",
       "      <th>890</th>\n",
       "      <td>3</td>\n",
       "      <td>1</td>\n",
       "      <td>32.000000</td>\n",
       "      <td>0</td>\n",
       "      <td>0</td>\n",
       "      <td>7.7500</td>\n",
       "      <td>1</td>\n",
       "      <td>0</td>\n",
       "    </tr>\n",
       "  </tbody>\n",
       "</table>\n",
       "<p>866 rows × 8 columns</p>\n",
       "</div>"
      ],
      "text/plain": [
       "     Pclass  Sex        Age  SibSp  Parch     Fare  Q  S\n",
       "0         3    1  22.000000      1      0   7.2500  0  1\n",
       "1         1    0  38.000000      1      0  71.2833  0  0\n",
       "2         3    0  26.000000      0      0   7.9250  0  1\n",
       "3         1    0  35.000000      1      0  53.1000  0  1\n",
       "4         3    1  35.000000      0      0   8.0500  0  1\n",
       "..      ...  ...        ...    ...    ...      ... .. ..\n",
       "886       2    1  27.000000      0      0  13.0000  0  1\n",
       "887       1    0  19.000000      0      0  30.0000  0  1\n",
       "888       3    0  29.699118      1      2  23.4500  0  1\n",
       "889       1    1  26.000000      0      0  30.0000  0  0\n",
       "890       3    1  32.000000      0      0   7.7500  1  0\n",
       "\n",
       "[866 rows x 8 columns]"
      ]
     },
     "execution_count": 19,
     "metadata": {},
     "output_type": "execute_result"
    }
   ],
   "source": [
    "#Bağımlı ve bağımsız değişkeni birbirinden ayıralım \n",
    "Y = veri[\"Survived\"]\n",
    "Y\n",
    "X = veri.drop([\"Survived\"],axis=1)\n",
    "X"
   ]
  },
  {
   "attachments": {
    "f4bfec40-08e6-4a67-baed-bd64ff19c159.png": {
     "image/png": "[encoded data removed]"
    }
   },
   "cell_type": "markdown",
   "id": "e06a3133",
   "metadata": {
    "papermill": {
     "duration": 0.017119,
     "end_time": "2022-11-05T21:26:13.644035",
     "exception": false,
     "start_time": "2022-11-05T21:26:13.626916",
     "status": "completed"
    },
    "tags": []
   },
   "source": [
    "![download.png](attachment:f4bfec40-08e6-4a67-baed-bd64ff19c159.png)\n"
   ]
  },
  {
   "cell_type": "code",
   "execution_count": 20,
   "id": "a12b47c6",
   "metadata": {
    "execution": {
     "iopub.execute_input": "2022-11-05T21:26:13.681659Z",
     "iopub.status.busy": "2022-11-05T21:26:13.681206Z",
     "iopub.status.idle": "2022-11-05T21:26:13.891455Z",
     "shell.execute_reply": "2022-11-05T21:26:13.890449Z"
    },
    "papermill": {
     "duration": 0.232442,
     "end_time": "2022-11-05T21:26:13.894367",
     "exception": false,
     "start_time": "2022-11-05T21:26:13.661925",
     "status": "completed"
    },
    "tags": []
   },
   "outputs": [],
   "source": [
    "#Verinin train ve test olarak ayrılması\n",
    "from sklearn.model_selection import train_test_split\n",
    "xtrain,xtest,ytrain,ytest = train_test_split(X,Y,train_size = 0.7,\n",
    "                                            random_state = 42)"
   ]
  },
  {
   "cell_type": "code",
   "execution_count": 21,
   "id": "7eb2ac88",
   "metadata": {
    "execution": {
     "iopub.execute_input": "2022-11-05T21:26:13.932448Z",
     "iopub.status.busy": "2022-11-05T21:26:13.931291Z",
     "iopub.status.idle": "2022-11-05T21:26:13.958090Z",
     "shell.execute_reply": "2022-11-05T21:26:13.956789Z"
    },
    "papermill": {
     "duration": 0.04924,
     "end_time": "2022-11-05T21:26:13.960733",
     "exception": false,
     "start_time": "2022-11-05T21:26:13.911493",
     "status": "completed"
    },
    "tags": []
   },
   "outputs": [
    {
     "data": {
      "text/html": [
       "<div>\n",
       "<style scoped>\n",
       "    .dataframe tbody tr th:only-of-type {\n",
       "        vertical-align: middle;\n",
       "    }\n",
       "\n",
       "    .dataframe tbody tr th {\n",
       "        vertical-align: top;\n",
       "    }\n",
       "\n",
       "    .dataframe thead th {\n",
       "        text-align: right;\n",
       "    }\n",
       "</style>\n",
       "<table border=\"1\" class=\"dataframe\">\n",
       "  <thead>\n",
       "    <tr style=\"text-align: right;\">\n",
       "      <th></th>\n",
       "      <th>0</th>\n",
       "      <th>1</th>\n",
       "      <th>2</th>\n",
       "      <th>3</th>\n",
       "      <th>4</th>\n",
       "      <th>5</th>\n",
       "      <th>6</th>\n",
       "      <th>7</th>\n",
       "    </tr>\n",
       "  </thead>\n",
       "  <tbody>\n",
       "    <tr>\n",
       "      <th>0</th>\n",
       "      <td>0.006689</td>\n",
       "      <td>0.000000</td>\n",
       "      <td>0.198647</td>\n",
       "      <td>0.006689</td>\n",
       "      <td>0.000000</td>\n",
       "      <td>0.980025</td>\n",
       "      <td>0.000000</td>\n",
       "      <td>0.000000</td>\n",
       "    </tr>\n",
       "    <tr>\n",
       "      <th>1</th>\n",
       "      <td>0.016805</td>\n",
       "      <td>0.000000</td>\n",
       "      <td>0.285684</td>\n",
       "      <td>0.016805</td>\n",
       "      <td>0.000000</td>\n",
       "      <td>0.957882</td>\n",
       "      <td>0.000000</td>\n",
       "      <td>0.016805</td>\n",
       "    </tr>\n",
       "    <tr>\n",
       "      <th>2</th>\n",
       "      <td>0.086273</td>\n",
       "      <td>0.028758</td>\n",
       "      <td>0.977756</td>\n",
       "      <td>0.000000</td>\n",
       "      <td>0.000000</td>\n",
       "      <td>0.186803</td>\n",
       "      <td>0.000000</td>\n",
       "      <td>0.028758</td>\n",
       "    </tr>\n",
       "    <tr>\n",
       "      <th>3</th>\n",
       "      <td>0.010747</td>\n",
       "      <td>0.000000</td>\n",
       "      <td>0.204190</td>\n",
       "      <td>0.010747</td>\n",
       "      <td>0.000000</td>\n",
       "      <td>0.978813</td>\n",
       "      <td>0.000000</td>\n",
       "      <td>0.000000</td>\n",
       "    </tr>\n",
       "    <tr>\n",
       "      <th>4</th>\n",
       "      <td>0.130677</td>\n",
       "      <td>0.043559</td>\n",
       "      <td>0.914741</td>\n",
       "      <td>0.000000</td>\n",
       "      <td>0.000000</td>\n",
       "      <td>0.377330</td>\n",
       "      <td>0.000000</td>\n",
       "      <td>0.043559</td>\n",
       "    </tr>\n",
       "    <tr>\n",
       "      <th>...</th>\n",
       "      <td>...</td>\n",
       "      <td>...</td>\n",
       "      <td>...</td>\n",
       "      <td>...</td>\n",
       "      <td>...</td>\n",
       "      <td>...</td>\n",
       "      <td>...</td>\n",
       "      <td>...</td>\n",
       "    </tr>\n",
       "    <tr>\n",
       "      <th>601</th>\n",
       "      <td>0.014262</td>\n",
       "      <td>0.014262</td>\n",
       "      <td>0.670335</td>\n",
       "      <td>0.000000</td>\n",
       "      <td>0.000000</td>\n",
       "      <td>0.741647</td>\n",
       "      <td>0.000000</td>\n",
       "      <td>0.014262</td>\n",
       "    </tr>\n",
       "    <tr>\n",
       "      <th>602</th>\n",
       "      <td>0.045771</td>\n",
       "      <td>0.015257</td>\n",
       "      <td>0.991695</td>\n",
       "      <td>0.000000</td>\n",
       "      <td>0.000000</td>\n",
       "      <td>0.118241</td>\n",
       "      <td>0.015257</td>\n",
       "      <td>0.000000</td>\n",
       "    </tr>\n",
       "    <tr>\n",
       "      <th>603</th>\n",
       "      <td>0.061183</td>\n",
       "      <td>0.000000</td>\n",
       "      <td>0.795378</td>\n",
       "      <td>0.000000</td>\n",
       "      <td>0.101971</td>\n",
       "      <td>0.593984</td>\n",
       "      <td>0.020394</td>\n",
       "      <td>0.000000</td>\n",
       "    </tr>\n",
       "    <tr>\n",
       "      <th>604</th>\n",
       "      <td>0.083439</td>\n",
       "      <td>0.027813</td>\n",
       "      <td>0.826026</td>\n",
       "      <td>0.027813</td>\n",
       "      <td>0.000000</td>\n",
       "      <td>0.555337</td>\n",
       "      <td>0.000000</td>\n",
       "      <td>0.027813</td>\n",
       "    </tr>\n",
       "    <tr>\n",
       "      <th>605</th>\n",
       "      <td>0.132904</td>\n",
       "      <td>0.000000</td>\n",
       "      <td>0.930331</td>\n",
       "      <td>0.000000</td>\n",
       "      <td>0.000000</td>\n",
       "      <td>0.338906</td>\n",
       "      <td>0.000000</td>\n",
       "      <td>0.044301</td>\n",
       "    </tr>\n",
       "  </tbody>\n",
       "</table>\n",
       "<p>606 rows × 8 columns</p>\n",
       "</div>"
      ],
      "text/plain": [
       "            0         1         2         3         4         5         6  \\\n",
       "0    0.006689  0.000000  0.198647  0.006689  0.000000  0.980025  0.000000   \n",
       "1    0.016805  0.000000  0.285684  0.016805  0.000000  0.957882  0.000000   \n",
       "2    0.086273  0.028758  0.977756  0.000000  0.000000  0.186803  0.000000   \n",
       "3    0.010747  0.000000  0.204190  0.010747  0.000000  0.978813  0.000000   \n",
       "4    0.130677  0.043559  0.914741  0.000000  0.000000  0.377330  0.000000   \n",
       "..        ...       ...       ...       ...       ...       ...       ...   \n",
       "601  0.014262  0.014262  0.670335  0.000000  0.000000  0.741647  0.000000   \n",
       "602  0.045771  0.015257  0.991695  0.000000  0.000000  0.118241  0.015257   \n",
       "603  0.061183  0.000000  0.795378  0.000000  0.101971  0.593984  0.020394   \n",
       "604  0.083439  0.027813  0.826026  0.027813  0.000000  0.555337  0.000000   \n",
       "605  0.132904  0.000000  0.930331  0.000000  0.000000  0.338906  0.000000   \n",
       "\n",
       "            7  \n",
       "0    0.000000  \n",
       "1    0.016805  \n",
       "2    0.028758  \n",
       "3    0.000000  \n",
       "4    0.043559  \n",
       "..        ...  \n",
       "601  0.014262  \n",
       "602  0.000000  \n",
       "603  0.000000  \n",
       "604  0.027813  \n",
       "605  0.044301  \n",
       "\n",
       "[606 rows x 8 columns]"
      ]
     },
     "execution_count": 21,
     "metadata": {},
     "output_type": "execute_result"
    }
   ],
   "source": [
    "#Verilerin ölçeklendirilmesi\n",
    "from sklearn.preprocessing import Normalizer\n",
    "norm = Normalizer()\n",
    "xtrain_ölçekli = pd.DataFrame(norm.fit_transform(xtrain))\n",
    "xtrain_ölçekli\n",
    "#Normalizasyon                                        "
   ]
  },
  {
   "cell_type": "markdown",
   "id": "26f6ed94",
   "metadata": {
    "papermill": {
     "duration": 0.017077,
     "end_time": "2022-11-05T21:26:13.995274",
     "exception": false,
     "start_time": "2022-11-05T21:26:13.978197",
     "status": "completed"
    },
    "tags": []
   },
   "source": [
    "# Lojistik Regresyon"
   ]
  },
  {
   "cell_type": "code",
   "execution_count": 22,
   "id": "525a7d75",
   "metadata": {
    "execution": {
     "iopub.execute_input": "2022-11-05T21:26:14.032542Z",
     "iopub.status.busy": "2022-11-05T21:26:14.032110Z",
     "iopub.status.idle": "2022-11-05T21:26:14.151864Z",
     "shell.execute_reply": "2022-11-05T21:26:14.150738Z"
    },
    "papermill": {
     "duration": 0.14184,
     "end_time": "2022-11-05T21:26:14.154789",
     "exception": false,
     "start_time": "2022-11-05T21:26:14.012949",
     "status": "completed"
    },
    "tags": []
   },
   "outputs": [
    {
     "data": {
      "text/plain": [
       "0.7769230769230769"
      ]
     },
     "execution_count": 22,
     "metadata": {},
     "output_type": "execute_result"
    }
   ],
   "source": [
    "from sklearn.linear_model import LogisticRegression #Sınıflandırma modülümüzü içeri aktardık\n",
    "Lr = LogisticRegression() #Sınflandırma algoritmamızdan bir Nesne oluşturalım\n",
    "Lr.fit(xtrain,ytrain) # Eğitimi gerçekleştirelim. .fit(eğitimin bağımsız değişkeni,eğitimin bağımlı değişkeni)\n",
    "tahmin = Lr.predict(xtest) #Tahmin işlemini gerçekleştirelim \n",
    "tahminscore = Lr.score(xtest,ytest) # Tahminimizin doğruluk skorunu görelim\n",
    "#Tahmin için geçerli ilk hata metriğimiz Accuracy (Doğruluk) Nesne.score(bağımsız test değişkeni,gerçek bağımlı veri)\n",
    "#Ancak metrikleri farklı şekillerde de yazdırabiliriz\n",
    "\n",
    "#Sensitivity-recall hesaplanması\n",
    "from sklearn.metrics import recall_score as cr\n",
    "report = cr(tahmin,ytest)\n",
    "report\n",
    "\n",
    "#Accuracyi tekrar yazdıralım\n",
    "from sklearn.metrics import accuracy_score\n",
    "accuracy_score(tahmin,ytest)\n",
    "\n"
   ]
  },
  {
   "cell_type": "markdown",
   "id": "4286492c",
   "metadata": {
    "papermill": {
     "duration": 0.021204,
     "end_time": "2022-11-05T21:26:14.197946",
     "exception": false,
     "start_time": "2022-11-05T21:26:14.176742",
     "status": "completed"
    },
    "tags": []
   },
   "source": [
    "# k-Nearest Neighbor ( k- En yakın Komşu ) "
   ]
  },
  {
   "cell_type": "code",
   "execution_count": 23,
   "id": "8f2aa186",
   "metadata": {
    "execution": {
     "iopub.execute_input": "2022-11-05T21:26:14.244796Z",
     "iopub.status.busy": "2022-11-05T21:26:14.244037Z",
     "iopub.status.idle": "2022-11-05T21:26:14.322785Z",
     "shell.execute_reply": "2022-11-05T21:26:14.321559Z"
    },
    "papermill": {
     "duration": 0.101439,
     "end_time": "2022-11-05T21:26:14.325490",
     "exception": false,
     "start_time": "2022-11-05T21:26:14.224051",
     "status": "completed"
    },
    "tags": []
   },
   "outputs": [
    {
     "data": {
      "text/plain": [
       "0.7153846153846154"
      ]
     },
     "execution_count": 23,
     "metadata": {},
     "output_type": "execute_result"
    }
   ],
   "source": [
    "from sklearn.neighbors import KNeighborsClassifier #Sınıflandırma modülünü içeri aktardık \n",
    "knn = KNeighborsClassifier(n_neighbors = 3) #knn sınıfından bir nesne oluşturduk ve komşu sayısını 3 olarak belirledik\n",
    "knn.fit(xtrain,ytrain) #Eğitim işlemi\n",
    "tahmin = knn.score(xtest,ytest) #Doğruluk skorunun hesaplanması\n",
    "tahmin"
   ]
  },
  {
   "cell_type": "markdown",
   "id": "cacdc4c5",
   "metadata": {
    "papermill": {
     "duration": 0.018241,
     "end_time": "2022-11-05T21:26:14.362515",
     "exception": false,
     "start_time": "2022-11-05T21:26:14.344274",
     "status": "completed"
    },
    "tags": []
   },
   "source": [
    "# Decision Tree ( Karar Ağacı )"
   ]
  },
  {
   "cell_type": "code",
   "execution_count": 24,
   "id": "61c7a272",
   "metadata": {
    "execution": {
     "iopub.execute_input": "2022-11-05T21:26:14.400049Z",
     "iopub.status.busy": "2022-11-05T21:26:14.399647Z",
     "iopub.status.idle": "2022-11-05T21:26:14.441966Z",
     "shell.execute_reply": "2022-11-05T21:26:14.441082Z"
    },
    "papermill": {
     "duration": 0.063817,
     "end_time": "2022-11-05T21:26:14.444452",
     "exception": false,
     "start_time": "2022-11-05T21:26:14.380635",
     "status": "completed"
    },
    "tags": []
   },
   "outputs": [
    {
     "data": {
      "text/plain": [
       "0.7461538461538462"
      ]
     },
     "execution_count": 24,
     "metadata": {},
     "output_type": "execute_result"
    }
   ],
   "source": [
    "from sklearn.tree import DecisionTreeClassifier #Sınıflandırma modülünü içeri aktardık \n",
    "dtc = DecisionTreeClassifier(criterion = \"entropy\") #Decison Tree sınıfından bir nesne oluşturduk ve komşu sayısını 3 olarak belirledik\n",
    "dtc.fit(xtrain,ytrain) #Eğitim işlemi\n",
    "tahmin = dtc.predict(xtest)#Tahmin değişkeninin yazdırılması\n",
    "scoredtc = dtc.score(xtest,ytest) #Doğruluk skorunun yazdırılması\n",
    "scoredtc"
   ]
  },
  {
   "cell_type": "markdown",
   "id": "76ad0fd7",
   "metadata": {
    "papermill": {
     "duration": 0.017438,
     "end_time": "2022-11-05T21:26:14.479909",
     "exception": false,
     "start_time": "2022-11-05T21:26:14.462471",
     "status": "completed"
    },
    "tags": []
   },
   "source": [
    "# SVM Classifier (Destek Vektör Makineleri Sınıflandırıcısı)"
   ]
  },
  {
   "cell_type": "code",
   "execution_count": 25,
   "id": "e070f8fb",
   "metadata": {
    "execution": {
     "iopub.execute_input": "2022-11-05T21:26:14.518544Z",
     "iopub.status.busy": "2022-11-05T21:26:14.517692Z",
     "iopub.status.idle": "2022-11-05T21:26:14.564299Z",
     "shell.execute_reply": "2022-11-05T21:26:14.563134Z"
    },
    "papermill": {
     "duration": 0.068536,
     "end_time": "2022-11-05T21:26:14.566928",
     "exception": false,
     "start_time": "2022-11-05T21:26:14.498392",
     "status": "completed"
    },
    "tags": []
   },
   "outputs": [
    {
     "data": {
      "text/plain": [
       "0.46923076923076923"
      ]
     },
     "execution_count": 25,
     "metadata": {},
     "output_type": "execute_result"
    }
   ],
   "source": [
    "from sklearn.svm import LinearSVC #Sınıflandırma modülünü içeri aktardık \n",
    "svc = LinearSVC() #Decison Tree sınıfından bir nesne oluşturduk ve komşu sayısını 3 olarak belirledik\n",
    "svc.fit(xtrain,ytrain) #Eğitim işlemi\n",
    "scoresvc = svc.score(xtest,ytest) #Doğruluk skorunun yazdırılması\n",
    "scoresvc"
   ]
  },
  {
   "cell_type": "markdown",
   "id": "5b152912",
   "metadata": {
    "papermill": {
     "duration": 0.017935,
     "end_time": "2022-11-05T21:26:14.602860",
     "exception": false,
     "start_time": "2022-11-05T21:26:14.584925",
     "status": "completed"
    },
    "tags": []
   },
   "source": [
    "### Random Forest Classifier"
   ]
  },
  {
   "cell_type": "code",
   "execution_count": 26,
   "id": "0c463d1c",
   "metadata": {
    "execution": {
     "iopub.execute_input": "2022-11-05T21:26:14.640785Z",
     "iopub.status.busy": "2022-11-05T21:26:14.640357Z",
     "iopub.status.idle": "2022-11-05T21:26:14.757884Z",
     "shell.execute_reply": "2022-11-05T21:26:14.756908Z"
    },
    "papermill": {
     "duration": 0.139276,
     "end_time": "2022-11-05T21:26:14.760262",
     "exception": false,
     "start_time": "2022-11-05T21:26:14.620986",
     "status": "completed"
    },
    "tags": []
   },
   "outputs": [
    {
     "data": {
      "text/plain": [
       "0.8115384615384615"
      ]
     },
     "execution_count": 26,
     "metadata": {},
     "output_type": "execute_result"
    }
   ],
   "source": [
    "from sklearn.ensemble import RandomForestClassifier #Sınıflandırma modülünü içeri aktardık \n",
    "rfc = RandomForestClassifier(n_estimators = 20) #Decison Tree sınıfından bir nesne oluşturduk ve komşu sayısını 3 olarak belirledik\n",
    "rfc.fit(xtrain,ytrain) #Eğitim işlemi\n",
    "rfcscore = rfc.score(xtest,ytest) #Doğruluk skorunun yazdırılması\n",
    "rfcscore"
   ]
  },
  {
   "cell_type": "code",
   "execution_count": 27,
   "id": "2ba607dc",
   "metadata": {
    "execution": {
     "iopub.execute_input": "2022-11-05T21:26:14.799666Z",
     "iopub.status.busy": "2022-11-05T21:26:14.799213Z",
     "iopub.status.idle": "2022-11-05T21:26:14.803847Z",
     "shell.execute_reply": "2022-11-05T21:26:14.802794Z"
    },
    "papermill": {
     "duration": 0.026628,
     "end_time": "2022-11-05T21:26:14.806148",
     "exception": false,
     "start_time": "2022-11-05T21:26:14.779520",
     "status": "completed"
    },
    "tags": []
   },
   "outputs": [],
   "source": [
    "#Sınıfalndırma işlemlerini tamamladık. Regresyonda görüşmek üzere :)"
   ]
  }
 ],
 "metadata": {
  "kernelspec": {
   "display_name": "Python 3",
   "language": "python",
   "name": "python3"
  },
  "language_info": {
   "codemirror_mode": {
    "name": "ipython",
    "version": 3
   },
   "file_extension": ".py",
   "mimetype": "text/x-python",
   "name": "python",
   "nbconvert_exporter": "python",
   "pygments_lexer": "ipython3",
   "version": "3.7.12"
  },
  "papermill": {
   "default_parameters": {},
   "duration": 23.616134,
   "end_time": "2022-11-05T21:26:15.748194",
   "environment_variables": {},
   "exception": null,
   "input_path": "__notebook__.ipynb",
   "output_path": "__notebook__.ipynb",
   "parameters": {},
   "start_time": "2022-11-05T21:25:52.132060",
   "version": "2.3.4"
  }
 },
 "nbformat": 4,
 "nbformat_minor": 5
}
