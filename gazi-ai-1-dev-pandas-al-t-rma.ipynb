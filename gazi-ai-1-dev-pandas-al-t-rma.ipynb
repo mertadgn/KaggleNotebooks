{
 "cells": [
  {
   "cell_type": "markdown",
   "id": "cc4bc1a0",
   "metadata": {
    "papermill": {
     "duration": 0.006643,
     "end_time": "2022-10-28T07:27:16.628414",
     "exception": false,
     "start_time": "2022-10-28T07:27:16.621771",
     "status": "completed"
    },
    "tags": []
   },
   "source": [
    "# Gazi AI - Ödev 1.\n",
    "## Pandas alıştırmaları."
   ]
  },
  {
   "cell_type": "code",
   "execution_count": 1,
   "id": "253a9cad",
   "metadata": {
    "execution": {
     "iopub.execute_input": "2022-10-28T07:27:16.642181Z",
     "iopub.status.busy": "2022-10-28T07:27:16.641615Z",
     "iopub.status.idle": "2022-10-28T07:27:16.649390Z",
     "shell.execute_reply": "2022-10-28T07:27:16.647749Z"
    },
    "papermill": {
     "duration": 0.017247,
     "end_time": "2022-10-28T07:27:16.651949",
     "exception": false,
     "start_time": "2022-10-28T07:27:16.634702",
     "status": "completed"
    },
    "tags": []
   },
   "outputs": [],
   "source": [
    "#Gerekli kütüphaneleri içeri aktarın (pandas,numpy)"
   ]
  },
  {
   "cell_type": "code",
   "execution_count": 2,
   "id": "eb2febef",
   "metadata": {
    "execution": {
     "iopub.execute_input": "2022-10-28T07:27:16.663782Z",
     "iopub.status.busy": "2022-10-28T07:27:16.663370Z",
     "iopub.status.idle": "2022-10-28T07:27:16.668907Z",
     "shell.execute_reply": "2022-10-28T07:27:16.667438Z"
    },
    "papermill": {
     "duration": 0.015137,
     "end_time": "2022-10-28T07:27:16.672211",
     "exception": false,
     "start_time": "2022-10-28T07:27:16.657074",
     "status": "completed"
    },
    "tags": []
   },
   "outputs": [],
   "source": [
    "#Pandas kullanarak bir DataFrame oluşturun"
   ]
  },
  {
   "cell_type": "code",
   "execution_count": 3,
   "id": "3d282037",
   "metadata": {
    "execution": {
     "iopub.execute_input": "2022-10-28T07:27:16.685986Z",
     "iopub.status.busy": "2022-10-28T07:27:16.685300Z",
     "iopub.status.idle": "2022-10-28T07:27:16.689923Z",
     "shell.execute_reply": "2022-10-28T07:27:16.688774Z"
    },
    "papermill": {
     "duration": 0.013703,
     "end_time": "2022-10-28T07:27:16.691915",
     "exception": false,
     "start_time": "2022-10-28T07:27:16.678212",
     "status": "completed"
    },
    "tags": []
   },
   "outputs": [],
   "source": [
    "#Titanic veri kümesini pandas kullanrak içeri aktarın ve bir değişkene tanımlayın"
   ]
  },
  {
   "cell_type": "code",
   "execution_count": 4,
   "id": "bce726b1",
   "metadata": {
    "execution": {
     "iopub.execute_input": "2022-10-28T07:27:16.705496Z",
     "iopub.status.busy": "2022-10-28T07:27:16.704866Z",
     "iopub.status.idle": "2022-10-28T07:27:16.708556Z",
     "shell.execute_reply": "2022-10-28T07:27:16.707769Z"
    },
    "papermill": {
     "duration": 0.013026,
     "end_time": "2022-10-28T07:27:16.710849",
     "exception": false,
     "start_time": "2022-10-28T07:27:16.697823",
     "status": "completed"
    },
    "tags": []
   },
   "outputs": [],
   "source": [
    "#Veri içerisindeki Age kolonunu bir değişkene tanımlayarak veriden çekin"
   ]
  },
  {
   "cell_type": "code",
   "execution_count": 5,
   "id": "b71737ce",
   "metadata": {
    "execution": {
     "iopub.execute_input": "2022-10-28T07:27:16.723639Z",
     "iopub.status.busy": "2022-10-28T07:27:16.723172Z",
     "iopub.status.idle": "2022-10-28T07:27:16.727721Z",
     "shell.execute_reply": "2022-10-28T07:27:16.726420Z"
    },
    "papermill": {
     "duration": 0.014482,
     "end_time": "2022-10-28T07:27:16.730584",
     "exception": false,
     "start_time": "2022-10-28T07:27:16.716102",
     "status": "completed"
    },
    "tags": []
   },
   "outputs": [],
   "source": [
    "#Veri içerisindeki SibSp ve Parch kolonlarını tek bir kolon altında birleştirin"
   ]
  },
  {
   "cell_type": "code",
   "execution_count": 6,
   "id": "2af9f105",
   "metadata": {
    "execution": {
     "iopub.execute_input": "2022-10-28T07:27:16.743938Z",
     "iopub.status.busy": "2022-10-28T07:27:16.743511Z",
     "iopub.status.idle": "2022-10-28T07:27:16.748433Z",
     "shell.execute_reply": "2022-10-28T07:27:16.747233Z"
    },
    "papermill": {
     "duration": 0.014614,
     "end_time": "2022-10-28T07:27:16.751688",
     "exception": false,
     "start_time": "2022-10-28T07:27:16.737074",
     "status": "completed"
    },
    "tags": []
   },
   "outputs": [],
   "source": [
    "#Verinin 203-456 arası satırlarını ve  Survived,Pclass,Fare kolonlarını .loc yöntemi ile pt1 değişkenine tanımlayın"
   ]
  },
  {
   "cell_type": "code",
   "execution_count": 7,
   "id": "c6da993e",
   "metadata": {
    "execution": {
     "iopub.execute_input": "2022-10-28T07:27:16.763897Z",
     "iopub.status.busy": "2022-10-28T07:27:16.763491Z",
     "iopub.status.idle": "2022-10-28T07:27:16.768573Z",
     "shell.execute_reply": "2022-10-28T07:27:16.767495Z"
    },
    "papermill": {
     "duration": 0.013909,
     "end_time": "2022-10-28T07:27:16.770946",
     "exception": false,
     "start_time": "2022-10-28T07:27:16.757037",
     "status": "completed"
    },
    "tags": []
   },
   "outputs": [],
   "source": [
    "#Verinin 203-456 arası satırlarını ve  Survived,Pclass,Name kolonlarını .iloc yöntemi ile pt2 değişkenine tanımlayın"
   ]
  },
  {
   "cell_type": "code",
   "execution_count": 8,
   "id": "8664f6e2",
   "metadata": {
    "execution": {
     "iopub.execute_input": "2022-10-28T07:27:16.784112Z",
     "iopub.status.busy": "2022-10-28T07:27:16.783700Z",
     "iopub.status.idle": "2022-10-28T07:27:16.788418Z",
     "shell.execute_reply": "2022-10-28T07:27:16.787281Z"
    },
    "papermill": {
     "duration": 0.014576,
     "end_time": "2022-10-28T07:27:16.791356",
     "exception": false,
     "start_time": "2022-10-28T07:27:16.776780",
     "status": "completed"
    },
    "tags": []
   },
   "outputs": [],
   "source": [
    "#Verinin kolonlarını yazdırın "
   ]
  },
  {
   "cell_type": "code",
   "execution_count": 9,
   "id": "108499b7",
   "metadata": {
    "execution": {
     "iopub.execute_input": "2022-10-28T07:27:16.805214Z",
     "iopub.status.busy": "2022-10-28T07:27:16.804150Z",
     "iopub.status.idle": "2022-10-28T07:27:16.810328Z",
     "shell.execute_reply": "2022-10-28T07:27:16.809122Z"
    },
    "papermill": {
     "duration": 0.015294,
     "end_time": "2022-10-28T07:27:16.812737",
     "exception": false,
     "start_time": "2022-10-28T07:27:16.797443",
     "status": "completed"
    },
    "tags": []
   },
   "outputs": [],
   "source": [
    "#Verinin Boyut bilgisini ve içerdiği hücre sayısını yazdırın"
   ]
  },
  {
   "cell_type": "code",
   "execution_count": 10,
   "id": "ce379d92",
   "metadata": {
    "execution": {
     "iopub.execute_input": "2022-10-28T07:27:16.827983Z",
     "iopub.status.busy": "2022-10-28T07:27:16.827204Z",
     "iopub.status.idle": "2022-10-28T07:27:16.833364Z",
     "shell.execute_reply": "2022-10-28T07:27:16.831957Z"
    },
    "papermill": {
     "duration": 0.017073,
     "end_time": "2022-10-28T07:27:16.836771",
     "exception": false,
     "start_time": "2022-10-28T07:27:16.819698",
     "status": "completed"
    },
    "tags": []
   },
   "outputs": [],
   "source": [
    "#Veri hakkındaki bilgiyi gösterin"
   ]
  },
  {
   "cell_type": "code",
   "execution_count": 11,
   "id": "bbc5f558",
   "metadata": {
    "execution": {
     "iopub.execute_input": "2022-10-28T07:27:16.851683Z",
     "iopub.status.busy": "2022-10-28T07:27:16.851256Z",
     "iopub.status.idle": "2022-10-28T07:27:16.855983Z",
     "shell.execute_reply": "2022-10-28T07:27:16.855057Z"
    },
    "papermill": {
     "duration": 0.015894,
     "end_time": "2022-10-28T07:27:16.858312",
     "exception": false,
     "start_time": "2022-10-28T07:27:16.842418",
     "status": "completed"
    },
    "tags": []
   },
   "outputs": [],
   "source": [
    "#Veri içerisindeki değişken tiplerini yazdırın"
   ]
  },
  {
   "cell_type": "code",
   "execution_count": 12,
   "id": "732677ad",
   "metadata": {
    "execution": {
     "iopub.execute_input": "2022-10-28T07:27:16.871297Z",
     "iopub.status.busy": "2022-10-28T07:27:16.870910Z",
     "iopub.status.idle": "2022-10-28T07:27:16.875790Z",
     "shell.execute_reply": "2022-10-28T07:27:16.874639Z"
    },
    "papermill": {
     "duration": 0.014419,
     "end_time": "2022-10-28T07:27:16.878215",
     "exception": false,
     "start_time": "2022-10-28T07:27:16.863796",
     "status": "completed"
    },
    "tags": []
   },
   "outputs": [],
   "source": [
    "#Verinin baştan 7 ve sondan 7 satırını yazdırın"
   ]
  },
  {
   "cell_type": "code",
   "execution_count": 13,
   "id": "efe2f276",
   "metadata": {
    "execution": {
     "iopub.execute_input": "2022-10-28T07:27:16.891076Z",
     "iopub.status.busy": "2022-10-28T07:27:16.890680Z",
     "iopub.status.idle": "2022-10-28T07:27:16.894601Z",
     "shell.execute_reply": "2022-10-28T07:27:16.893713Z"
    },
    "papermill": {
     "duration": 0.0129,
     "end_time": "2022-10-28T07:27:16.896691",
     "exception": false,
     "start_time": "2022-10-28T07:27:16.883791",
     "status": "completed"
    },
    "tags": []
   },
   "outputs": [],
   "source": [
    "#veri içerisinden karışık 5 örnek yazdırın"
   ]
  },
  {
   "cell_type": "code",
   "execution_count": 14,
   "id": "ab8bc800",
   "metadata": {
    "execution": {
     "iopub.execute_input": "2022-10-28T07:27:16.909875Z",
     "iopub.status.busy": "2022-10-28T07:27:16.909482Z",
     "iopub.status.idle": "2022-10-28T07:27:16.914882Z",
     "shell.execute_reply": "2022-10-28T07:27:16.913035Z"
    },
    "papermill": {
     "duration": 0.015591,
     "end_time": "2022-10-28T07:27:16.918010",
     "exception": false,
     "start_time": "2022-10-28T07:27:16.902419",
     "status": "completed"
    },
    "tags": []
   },
   "outputs": [],
   "source": [
    "#Veri içerisindeki Embarked kolonuna ait farklı değişkenleri yazdırın"
   ]
  },
  {
   "cell_type": "code",
   "execution_count": 15,
   "id": "ee86c495",
   "metadata": {
    "execution": {
     "iopub.execute_input": "2022-10-28T07:27:16.931930Z",
     "iopub.status.busy": "2022-10-28T07:27:16.931395Z",
     "iopub.status.idle": "2022-10-28T07:27:16.937833Z",
     "shell.execute_reply": "2022-10-28T07:27:16.936551Z"
    },
    "papermill": {
     "duration": 0.016559,
     "end_time": "2022-10-28T07:27:16.940263",
     "exception": false,
     "start_time": "2022-10-28T07:27:16.923704",
     "status": "completed"
    },
    "tags": []
   },
   "outputs": [],
   "source": [
    "#Embarked kolonunda hangi değerden kaç adet olduğunu yazdırın"
   ]
  },
  {
   "cell_type": "code",
   "execution_count": 16,
   "id": "04e7f563",
   "metadata": {
    "execution": {
     "iopub.execute_input": "2022-10-28T07:27:16.955048Z",
     "iopub.status.busy": "2022-10-28T07:27:16.954582Z",
     "iopub.status.idle": "2022-10-28T07:27:16.959448Z",
     "shell.execute_reply": "2022-10-28T07:27:16.958607Z"
    },
    "papermill": {
     "duration": 0.015801,
     "end_time": "2022-10-28T07:27:16.961822",
     "exception": false,
     "start_time": "2022-10-28T07:27:16.946021",
     "status": "completed"
    },
    "tags": []
   },
   "outputs": [],
   "source": [
    "#Veri hakkındaki istatiksel bilgileri yazdırın"
   ]
  },
  {
   "cell_type": "code",
   "execution_count": 17,
   "id": "057c7274",
   "metadata": {
    "execution": {
     "iopub.execute_input": "2022-10-28T07:27:16.975930Z",
     "iopub.status.busy": "2022-10-28T07:27:16.975535Z",
     "iopub.status.idle": "2022-10-28T07:27:16.979916Z",
     "shell.execute_reply": "2022-10-28T07:27:16.978667Z"
    },
    "papermill": {
     "duration": 0.015616,
     "end_time": "2022-10-28T07:27:16.983617",
     "exception": false,
     "start_time": "2022-10-28T07:27:16.968001",
     "status": "completed"
    },
    "tags": []
   },
   "outputs": [],
   "source": [
    "#Veriye ait korelasyon matrisini yazdırın ve survived kolonuna it korelasyon bilgilerini istediğiniz bir fonksiyonlar corelation değişkenine aktarın"
   ]
  },
  {
   "cell_type": "code",
   "execution_count": 18,
   "id": "257ef46e",
   "metadata": {
    "execution": {
     "iopub.execute_input": "2022-10-28T07:27:16.997589Z",
     "iopub.status.busy": "2022-10-28T07:27:16.997181Z",
     "iopub.status.idle": "2022-10-28T07:27:17.001283Z",
     "shell.execute_reply": "2022-10-28T07:27:17.000389Z"
    },
    "papermill": {
     "duration": 0.013877,
     "end_time": "2022-10-28T07:27:17.003388",
     "exception": false,
     "start_time": "2022-10-28T07:27:16.989511",
     "status": "completed"
    },
    "tags": []
   },
   "outputs": [],
   "source": [
    "#Verinin içerisindeki eksik verilerin sayılarını (Hangi kolonda kaç adet null var) yazdırın"
   ]
  },
  {
   "cell_type": "code",
   "execution_count": 19,
   "id": "3ba453a6",
   "metadata": {
    "execution": {
     "iopub.execute_input": "2022-10-28T07:27:17.018381Z",
     "iopub.status.busy": "2022-10-28T07:27:17.017443Z",
     "iopub.status.idle": "2022-10-28T07:27:17.023050Z",
     "shell.execute_reply": "2022-10-28T07:27:17.021781Z"
    },
    "papermill": {
     "duration": 0.016063,
     "end_time": "2022-10-28T07:27:17.025513",
     "exception": false,
     "start_time": "2022-10-28T07:27:17.009450",
     "status": "completed"
    },
    "tags": []
   },
   "outputs": [],
   "source": [
    "#Veri içerisindeki Name , Ticket gibi kolonlar çok fazla sayıda farklı veri içeridği için algoritmayı bozar. Bu kolonları veriden çıkarın\n",
    "#ipucu : drop"
   ]
  },
  {
   "cell_type": "code",
   "execution_count": 20,
   "id": "ee068bec",
   "metadata": {
    "execution": {
     "iopub.execute_input": "2022-10-28T07:27:17.039481Z",
     "iopub.status.busy": "2022-10-28T07:27:17.039028Z",
     "iopub.status.idle": "2022-10-28T07:27:17.044379Z",
     "shell.execute_reply": "2022-10-28T07:27:17.043059Z"
    },
    "papermill": {
     "duration": 0.014934,
     "end_time": "2022-10-28T07:27:17.046636",
     "exception": false,
     "start_time": "2022-10-28T07:27:17.031702",
     "status": "completed"
    },
    "tags": []
   },
   "outputs": [],
   "source": [
    "#Veri içerisinde içinde en az 3 adet düzgün veri bulunmayan tüm verileri veriden çıkarın"
   ]
  },
  {
   "cell_type": "code",
   "execution_count": 21,
   "id": "ceada333",
   "metadata": {
    "execution": {
     "iopub.execute_input": "2022-10-28T07:27:17.061916Z",
     "iopub.status.busy": "2022-10-28T07:27:17.061495Z",
     "iopub.status.idle": "2022-10-28T07:27:17.066970Z",
     "shell.execute_reply": "2022-10-28T07:27:17.065776Z"
    },
    "papermill": {
     "duration": 0.016787,
     "end_time": "2022-10-28T07:27:17.069520",
     "exception": false,
     "start_time": "2022-10-28T07:27:17.052733",
     "status": "completed"
    },
    "tags": []
   },
   "outputs": [],
   "source": [
    "#verileri age değişkenine göre gruplayarak oluşturduğunuz veriyi grup değişkenine atayın ve yazdırın "
   ]
  },
  {
   "cell_type": "code",
   "execution_count": 22,
   "id": "20c8bf73",
   "metadata": {
    "execution": {
     "iopub.execute_input": "2022-10-28T07:27:17.085035Z",
     "iopub.status.busy": "2022-10-28T07:27:17.084558Z",
     "iopub.status.idle": "2022-10-28T07:27:17.090722Z",
     "shell.execute_reply": "2022-10-28T07:27:17.088744Z"
    },
    "papermill": {
     "duration": 0.018559,
     "end_time": "2022-10-28T07:27:17.094166",
     "exception": false,
     "start_time": "2022-10-28T07:27:17.075607",
     "status": "completed"
    },
    "tags": []
   },
   "outputs": [],
   "source": [
    "#verilen değerin karesinin 4 fazlasını çıktı olarak veren bir fonksiyon tanımlayın ve veri içerisindeki her yaş değeri için bu fonskiyonu uygulayın\n",
    "#ipucu : apply"
   ]
  },
  {
   "cell_type": "code",
   "execution_count": 23,
   "id": "dc965002",
   "metadata": {
    "execution": {
     "iopub.execute_input": "2022-10-28T07:27:17.108855Z",
     "iopub.status.busy": "2022-10-28T07:27:17.108427Z",
     "iopub.status.idle": "2022-10-28T07:27:17.113746Z",
     "shell.execute_reply": "2022-10-28T07:27:17.112384Z"
    },
    "papermill": {
     "duration": 0.015533,
     "end_time": "2022-10-28T07:27:17.116278",
     "exception": false,
     "start_time": "2022-10-28T07:27:17.100745",
     "status": "completed"
    },
    "tags": []
   },
   "outputs": [],
   "source": [
    "#verileri yaş değerine göre küçükten büyüğe dopru sıralayın."
   ]
  }
 ],
 "metadata": {
  "kernelspec": {
   "display_name": "Python 3",
   "language": "python",
   "name": "python3"
  },
  "language_info": {
   "codemirror_mode": {
    "name": "ipython",
    "version": 3
   },
   "file_extension": ".py",
   "mimetype": "text/x-python",
   "name": "python",
   "nbconvert_exporter": "python",
   "pygments_lexer": "ipython3",
   "version": "3.7.12"
  },
  "papermill": {
   "default_parameters": {},
   "duration": 11.849937,
   "end_time": "2022-10-28T07:27:17.846156",
   "environment_variables": {},
   "exception": null,
   "input_path": "__notebook__.ipynb",
   "output_path": "__notebook__.ipynb",
   "parameters": {},
   "start_time": "2022-10-28T07:27:05.996219",
   "version": "2.3.4"
  }
 },
 "nbformat": 4,
 "nbformat_minor": 5
}
