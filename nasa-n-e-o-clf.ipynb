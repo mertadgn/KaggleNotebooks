{
 "cells": [
  {
   "cell_type": "code",
   "execution_count": 1,
   "id": "a6cec567",
   "metadata": {
    "_cell_guid": "b1076dfc-b9ad-4769-8c92-a6c4dae69d19",
    "_uuid": "8f2839f25d086af736a60e9eeb907d3b93b6e0e5",
    "execution": {
     "iopub.execute_input": "2022-07-19T15:10:03.637242Z",
     "iopub.status.busy": "2022-07-19T15:10:03.635975Z",
     "iopub.status.idle": "2022-07-19T15:10:05.020623Z",
     "shell.execute_reply": "2022-07-19T15:10:05.018867Z"
    },
    "papermill": {
     "duration": 1.39316,
     "end_time": "2022-07-19T15:10:05.023051",
     "exception": false,
     "start_time": "2022-07-19T15:10:03.629891",
     "status": "completed"
    },
    "tags": []
   },
   "outputs": [
    {
     "name": "stdout",
     "output_type": "stream",
     "text": [
      "/kaggle/input/nasa-nearest-earth-objects/neo_v2.csv\n",
      "/kaggle/input/nasa-nearest-earth-objects/neo.csv\n"
     ]
    }
   ],
   "source": [
    "# This Python 3 environment comes with many helpful analytics libraries installed\n",
    "# It is defined by the kaggle/python Docker image: https://github.com/kaggle/docker-python\n",
    "# For example, here's several helpful packages to load\n",
    "\n",
    "import numpy as np # linear algebra\n",
    "import pandas as pd # data processing, CSV file I/O (e.g. pd.read_csv)\n",
    "import matplotlib.pyplot as plt \n",
    "import seaborn as sns \n",
    "import warnings \n",
    "from sklearn.preprocessing import OneHotEncoder,MinMaxScaler,StandardScaler,RobustScaler\n",
    "from numpy import log,log1p\n",
    "from scipy.stats import boxcox \n",
    "from sklearn.model_selection import train_test_split\n",
    "from sklearn.tree import DecisionTreeClassifier\n",
    "from sklearn.ensemble import RandomForestClassifier\n",
    "from sklearn.neighbors import KNeighborsClassifier\n",
    "from sklearn.linear_model import LogisticRegression\n",
    "from sklearn.metrics import confusion_matrix,ConfusionMatrixDisplay,balanced_accuracy_score\n",
    "# Input data files are available in the read-only \"../input/\" directory\n",
    "# For example, running this (by clicking run or pressing Shift+Enter) will list all files under the input directory\n",
    "\n",
    "import os\n",
    "for dirname, _, filenames in os.walk('/kaggle/input'):\n",
    "    for filename in filenames:\n",
    "        print(os.path.join(dirname, filename))\n",
    "warnings.filterwarnings(\"ignore\")\n",
    "# You can write up to 20GB to the current directory (/kaggle/working/) that gets preserved as output when you create a version using \"Save & Run All\" \n",
    "# You can also write temporary files to /kaggle/temp/, but they won't be saved outside of the current session"
   ]
  },
  {
   "cell_type": "code",
   "execution_count": 2,
   "id": "4feec46b",
   "metadata": {
    "execution": {
     "iopub.execute_input": "2022-07-19T15:10:05.032240Z",
     "iopub.status.busy": "2022-07-19T15:10:05.031317Z",
     "iopub.status.idle": "2022-07-19T15:10:05.290870Z",
     "shell.execute_reply": "2022-07-19T15:10:05.290088Z"
    },
    "papermill": {
     "duration": 0.266204,
     "end_time": "2022-07-19T15:10:05.293014",
     "exception": false,
     "start_time": "2022-07-19T15:10:05.026810",
     "status": "completed"
    },
    "tags": []
   },
   "outputs": [],
   "source": [
    "veri = pd.read_csv(\"../input/nasa-nearest-earth-objects/neo.csv\")"
   ]
  },
  {
   "cell_type": "markdown",
   "id": "ea1ccc09",
   "metadata": {
    "papermill": {
     "duration": 0.003474,
     "end_time": "2022-07-19T15:10:05.300186",
     "exception": false,
     "start_time": "2022-07-19T15:10:05.296712",
     "status": "completed"
    },
    "tags": []
   },
   "source": [
    "Tek Çeşitli veriler algoritma için gereksizdir. Bu yüzden varsa çıkaralım."
   ]
  },
  {
   "cell_type": "code",
   "execution_count": 3,
   "id": "b66ce05d",
   "metadata": {
    "execution": {
     "iopub.execute_input": "2022-07-19T15:10:05.309351Z",
     "iopub.status.busy": "2022-07-19T15:10:05.308439Z",
     "iopub.status.idle": "2022-07-19T15:10:05.348751Z",
     "shell.execute_reply": "2022-07-19T15:10:05.348068Z"
    },
    "papermill": {
     "duration": 0.046974,
     "end_time": "2022-07-19T15:10:05.350866",
     "exception": false,
     "start_time": "2022-07-19T15:10:05.303892",
     "status": "completed"
    },
    "tags": []
   },
   "outputs": [
    {
     "data": {
      "text/html": [
       "<div>\n",
       "<style scoped>\n",
       "    .dataframe tbody tr th:only-of-type {\n",
       "        vertical-align: middle;\n",
       "    }\n",
       "\n",
       "    .dataframe tbody tr th {\n",
       "        vertical-align: top;\n",
       "    }\n",
       "\n",
       "    .dataframe thead th {\n",
       "        text-align: right;\n",
       "    }\n",
       "</style>\n",
       "<table border=\"1\" class=\"dataframe\">\n",
       "  <thead>\n",
       "    <tr style=\"text-align: right;\">\n",
       "      <th></th>\n",
       "      <th>est_diameter_min</th>\n",
       "      <th>est_diameter_max</th>\n",
       "      <th>relative_velocity</th>\n",
       "      <th>miss_distance</th>\n",
       "      <th>absolute_magnitude</th>\n",
       "      <th>hazardous</th>\n",
       "    </tr>\n",
       "  </thead>\n",
       "  <tbody>\n",
       "    <tr>\n",
       "      <th>0</th>\n",
       "      <td>1.198271</td>\n",
       "      <td>2.679415</td>\n",
       "      <td>13569.249224</td>\n",
       "      <td>5.483974e+07</td>\n",
       "      <td>16.73</td>\n",
       "      <td>False</td>\n",
       "    </tr>\n",
       "    <tr>\n",
       "      <th>1</th>\n",
       "      <td>0.265800</td>\n",
       "      <td>0.594347</td>\n",
       "      <td>73588.726663</td>\n",
       "      <td>6.143813e+07</td>\n",
       "      <td>20.00</td>\n",
       "      <td>True</td>\n",
       "    </tr>\n",
       "    <tr>\n",
       "      <th>2</th>\n",
       "      <td>0.722030</td>\n",
       "      <td>1.614507</td>\n",
       "      <td>114258.692129</td>\n",
       "      <td>4.979872e+07</td>\n",
       "      <td>17.83</td>\n",
       "      <td>False</td>\n",
       "    </tr>\n",
       "    <tr>\n",
       "      <th>3</th>\n",
       "      <td>0.096506</td>\n",
       "      <td>0.215794</td>\n",
       "      <td>24764.303138</td>\n",
       "      <td>2.543497e+07</td>\n",
       "      <td>22.20</td>\n",
       "      <td>False</td>\n",
       "    </tr>\n",
       "    <tr>\n",
       "      <th>4</th>\n",
       "      <td>0.255009</td>\n",
       "      <td>0.570217</td>\n",
       "      <td>42737.733765</td>\n",
       "      <td>4.627557e+07</td>\n",
       "      <td>20.09</td>\n",
       "      <td>True</td>\n",
       "    </tr>\n",
       "    <tr>\n",
       "      <th>...</th>\n",
       "      <td>...</td>\n",
       "      <td>...</td>\n",
       "      <td>...</td>\n",
       "      <td>...</td>\n",
       "      <td>...</td>\n",
       "      <td>...</td>\n",
       "    </tr>\n",
       "    <tr>\n",
       "      <th>90831</th>\n",
       "      <td>0.026580</td>\n",
       "      <td>0.059435</td>\n",
       "      <td>52078.886692</td>\n",
       "      <td>1.230039e+07</td>\n",
       "      <td>25.00</td>\n",
       "      <td>False</td>\n",
       "    </tr>\n",
       "    <tr>\n",
       "      <th>90832</th>\n",
       "      <td>0.016771</td>\n",
       "      <td>0.037501</td>\n",
       "      <td>46114.605073</td>\n",
       "      <td>5.432121e+07</td>\n",
       "      <td>26.00</td>\n",
       "      <td>False</td>\n",
       "    </tr>\n",
       "    <tr>\n",
       "      <th>90833</th>\n",
       "      <td>0.031956</td>\n",
       "      <td>0.071456</td>\n",
       "      <td>7566.807732</td>\n",
       "      <td>2.840077e+07</td>\n",
       "      <td>24.60</td>\n",
       "      <td>False</td>\n",
       "    </tr>\n",
       "    <tr>\n",
       "      <th>90834</th>\n",
       "      <td>0.007321</td>\n",
       "      <td>0.016370</td>\n",
       "      <td>69199.154484</td>\n",
       "      <td>6.869206e+07</td>\n",
       "      <td>27.80</td>\n",
       "      <td>False</td>\n",
       "    </tr>\n",
       "    <tr>\n",
       "      <th>90835</th>\n",
       "      <td>0.039862</td>\n",
       "      <td>0.089133</td>\n",
       "      <td>27024.455553</td>\n",
       "      <td>5.977213e+07</td>\n",
       "      <td>24.12</td>\n",
       "      <td>False</td>\n",
       "    </tr>\n",
       "  </tbody>\n",
       "</table>\n",
       "<p>90836 rows × 6 columns</p>\n",
       "</div>"
      ],
      "text/plain": [
       "       est_diameter_min  est_diameter_max  relative_velocity  miss_distance  \\\n",
       "0              1.198271          2.679415       13569.249224   5.483974e+07   \n",
       "1              0.265800          0.594347       73588.726663   6.143813e+07   \n",
       "2              0.722030          1.614507      114258.692129   4.979872e+07   \n",
       "3              0.096506          0.215794       24764.303138   2.543497e+07   \n",
       "4              0.255009          0.570217       42737.733765   4.627557e+07   \n",
       "...                 ...               ...                ...            ...   \n",
       "90831          0.026580          0.059435       52078.886692   1.230039e+07   \n",
       "90832          0.016771          0.037501       46114.605073   5.432121e+07   \n",
       "90833          0.031956          0.071456        7566.807732   2.840077e+07   \n",
       "90834          0.007321          0.016370       69199.154484   6.869206e+07   \n",
       "90835          0.039862          0.089133       27024.455553   5.977213e+07   \n",
       "\n",
       "       absolute_magnitude  hazardous  \n",
       "0                   16.73      False  \n",
       "1                   20.00       True  \n",
       "2                   17.83      False  \n",
       "3                   22.20      False  \n",
       "4                   20.09       True  \n",
       "...                   ...        ...  \n",
       "90831               25.00      False  \n",
       "90832               26.00      False  \n",
       "90833               24.60      False  \n",
       "90834               27.80      False  \n",
       "90835               24.12      False  \n",
       "\n",
       "[90836 rows x 6 columns]"
      ]
     },
     "execution_count": 3,
     "metadata": {},
     "output_type": "execute_result"
    }
   ],
   "source": [
    "#Data Cleaning\n",
    "#Veri Temizleme\n",
    "#Tek çeşitli veriler algoritma için gereksizdir \n",
    "#isim , id gibi veriler algoritmayı bozan verilerdir. Bu tip veriler çıkarılmalıdır\n",
    "veri.orbiting_body.unique()\n",
    "veri.sentry_object.unique()\n",
    "veri = veri.drop([\"id\",\"name\",\"orbiting_body\",\"sentry_object\"],axis = 1)\n",
    "veri"
   ]
  },
  {
   "cell_type": "code",
   "execution_count": 4,
   "id": "6ad98e5f",
   "metadata": {
    "execution": {
     "iopub.execute_input": "2022-07-19T15:10:05.360463Z",
     "iopub.status.busy": "2022-07-19T15:10:05.359996Z",
     "iopub.status.idle": "2022-07-19T15:10:05.376970Z",
     "shell.execute_reply": "2022-07-19T15:10:05.375701Z"
    },
    "papermill": {
     "duration": 0.024488,
     "end_time": "2022-07-19T15:10:05.379323",
     "exception": false,
     "start_time": "2022-07-19T15:10:05.354835",
     "status": "completed"
    },
    "tags": []
   },
   "outputs": [
    {
     "name": "stdout",
     "output_type": "stream",
     "text": [
      "<class 'pandas.core.frame.DataFrame'>\n",
      "RangeIndex: 90836 entries, 0 to 90835\n",
      "Data columns (total 6 columns):\n",
      " #   Column              Non-Null Count  Dtype  \n",
      "---  ------              --------------  -----  \n",
      " 0   est_diameter_min    90836 non-null  float64\n",
      " 1   est_diameter_max    90836 non-null  float64\n",
      " 2   relative_velocity   90836 non-null  float64\n",
      " 3   miss_distance       90836 non-null  float64\n",
      " 4   absolute_magnitude  90836 non-null  float64\n",
      " 5   hazardous           90836 non-null  bool   \n",
      "dtypes: bool(1), float64(5)\n",
      "memory usage: 3.6 MB\n"
     ]
    }
   ],
   "source": [
    "#Eksik veri analizi\n",
    "#Empty data analysis\n",
    "veri.info()\n",
    "#Veride herhangi bir eksiklik bulunmuyor.\n",
    "#There are no missing data"
   ]
  },
  {
   "cell_type": "code",
   "execution_count": 5,
   "id": "a8412f8d",
   "metadata": {
    "execution": {
     "iopub.execute_input": "2022-07-19T15:10:05.388571Z",
     "iopub.status.busy": "2022-07-19T15:10:05.388236Z",
     "iopub.status.idle": "2022-07-19T15:10:05.572367Z",
     "shell.execute_reply": "2022-07-19T15:10:05.571643Z"
    },
    "papermill": {
     "duration": 0.190907,
     "end_time": "2022-07-19T15:10:05.574319",
     "exception": false,
     "start_time": "2022-07-19T15:10:05.383412",
     "status": "completed"
    },
    "tags": []
   },
   "outputs": [
    {
     "data": {
      "text/plain": [
       "<AxesSubplot:xlabel='hazardous', ylabel='count'>"
      ]
     },
     "execution_count": 5,
     "metadata": {},
     "output_type": "execute_result"
    },
    {
     "data": {
      "image/png": "[encoded data removed]",
      "text/plain": [
       "<Figure size 432x288 with 1 Axes>"
      ]
     },
     "metadata": {
      "needs_background": "light"
     },
     "output_type": "display_data"
    }
   ],
   "source": [
    "veri.hazardous.astype(int)\n",
    "sns.countplot(x = \"hazardous\",data = veri)\n"
   ]
  },
  {
   "cell_type": "code",
   "execution_count": 6,
   "id": "46264d1d",
   "metadata": {
    "execution": {
     "iopub.execute_input": "2022-07-19T15:10:05.584813Z",
     "iopub.status.busy": "2022-07-19T15:10:05.583846Z",
     "iopub.status.idle": "2022-07-19T15:10:05.879609Z",
     "shell.execute_reply": "2022-07-19T15:10:05.878414Z"
    },
    "papermill": {
     "duration": 0.303365,
     "end_time": "2022-07-19T15:10:05.881988",
     "exception": false,
     "start_time": "2022-07-19T15:10:05.578623",
     "status": "completed"
    },
    "tags": []
   },
   "outputs": [
    {
     "data": {
      "text/plain": [
       "<AxesSubplot:>"
      ]
     },
     "execution_count": 6,
     "metadata": {},
     "output_type": "execute_result"
    },
    {
     "data": {
      "image/png": "[encoded data removed]",
      "text/plain": [
       "<Figure size 432x288 with 2 Axes>"
      ]
     },
     "metadata": {
      "needs_background": "light"
     },
     "output_type": "display_data"
    }
   ],
   "source": [
    "#Correalation Matrix\n",
    "veri.corr()\n",
    "sns.heatmap(veri.corr())"
   ]
  },
  {
   "cell_type": "code",
   "execution_count": 7,
   "id": "98ec2fbd",
   "metadata": {
    "execution": {
     "iopub.execute_input": "2022-07-19T15:10:05.893920Z",
     "iopub.status.busy": "2022-07-19T15:10:05.893058Z",
     "iopub.status.idle": "2022-07-19T15:10:05.926452Z",
     "shell.execute_reply": "2022-07-19T15:10:05.925557Z"
    },
    "papermill": {
     "duration": 0.041809,
     "end_time": "2022-07-19T15:10:05.928782",
     "exception": false,
     "start_time": "2022-07-19T15:10:05.886973",
     "status": "completed"
    },
    "tags": []
   },
   "outputs": [
    {
     "data": {
      "text/plain": [
       "array([[-0.34898654, -0.34898654,  0.11358424, -1.37924096,  0.57557602],\n",
       "       [-0.19392342, -0.19392342,  1.83949295, -1.2607604 , -0.21855478],\n",
       "       [-0.17102268, -0.17102268,  1.42329698, -1.29343252, -0.28760964],\n",
       "       ...,\n",
       "       [ 0.28554648,  0.28554648,  0.17180833,  0.30380975, -1.04721301],\n",
       "       [ 0.52683057,  0.52683057,  0.09953925,  0.95585474, -1.26473579],\n",
       "       [-0.1757731 , -0.1757731 , -1.00733774, -0.63591316, -0.27379867]])"
      ]
     },
     "execution_count": 7,
     "metadata": {},
     "output_type": "execute_result"
    }
   ],
   "source": [
    "#Ölçeklendirme\n",
    "#Scaling\n",
    "ss = StandardScaler()\n",
    "Y = veri[[\"hazardous\"]]\n",
    "X = veri.drop([\"hazardous\"],axis=1)\n",
    "xtrain,xtest,ytrain,ytest = train_test_split(X,Y,\n",
    "                                             test_size = 0.3,\n",
    "                                             random_state=42)\n",
    "xtrain_s = ss.fit_transform(xtrain)\n",
    "xtest_s = ss.fit_transform(xtest)\n",
    "xtrain_s"
   ]
  },
  {
   "cell_type": "code",
   "execution_count": 8,
   "id": "d4ad97b2",
   "metadata": {
    "execution": {
     "iopub.execute_input": "2022-07-19T15:10:05.940647Z",
     "iopub.status.busy": "2022-07-19T15:10:05.940252Z",
     "iopub.status.idle": "2022-07-19T15:10:15.493333Z",
     "shell.execute_reply": "2022-07-19T15:10:15.492599Z"
    },
    "papermill": {
     "duration": 9.561461,
     "end_time": "2022-07-19T15:10:15.495339",
     "exception": false,
     "start_time": "2022-07-19T15:10:05.933878",
     "status": "completed"
    },
    "tags": []
   },
   "outputs": [
    {
     "data": {
      "text/plain": [
       "[0.8880408058419874,\n",
       " 0.9041503064107739,\n",
       " 0.8953799860555576,\n",
       " 0.9053245752449451,\n",
       " 0.8984991376463249,\n",
       " 0.905361271146013,\n",
       " 0.8993798392719533,\n",
       " 0.9062786686727092,\n",
       " 0.9037833474000954,\n",
       " 0.9069391948919305]"
      ]
     },
     "execution_count": 8,
     "metadata": {},
     "output_type": "execute_result"
    },
    {
     "data": {
      "image/png": "[encoded data removed]",
      "text/plain": [
       "<Figure size 432x288 with 1 Axes>"
      ]
     },
     "metadata": {
      "needs_background": "light"
     },
     "output_type": "display_data"
    }
   ],
   "source": [
    "#Modelleme\n",
    "#Bu algoritmada KNN , Decision Tree , Random Forest ve Lojistik regresyon Algoritmaları kullanılacaktır.\n",
    "\n",
    "#Nesne oluştruma\n",
    "Lr = LogisticRegression()\n",
    "dtc = DecisionTreeClassifier()\n",
    "rf = RandomForestClassifier()\n",
    "\n",
    "#eğitim\n",
    "#knn\n",
    "knn_scores = []\n",
    "for i in range(1,11):\n",
    "    knn = KNeighborsClassifier(n_neighbors = i)\n",
    "    knn.fit(xtrain_s,ytrain)\n",
    "    knn_scores.append(knn.score(xtest_s,ytest))\n",
    "    \n",
    "plt.plot(range(1,11),knn_scores),\n",
    "plt.xlabel(\"KNN SCORE\")\n",
    "knn_scores"
   ]
  },
  {
   "cell_type": "code",
   "execution_count": 9,
   "id": "d6c7b8c5",
   "metadata": {
    "execution": {
     "iopub.execute_input": "2022-07-19T15:10:15.507628Z",
     "iopub.status.busy": "2022-07-19T15:10:15.507250Z",
     "iopub.status.idle": "2022-07-19T15:10:20.276671Z",
     "shell.execute_reply": "2022-07-19T15:10:20.275624Z"
    },
    "papermill": {
     "duration": 4.778031,
     "end_time": "2022-07-19T15:10:20.278783",
     "exception": false,
     "start_time": "2022-07-19T15:10:15.500752",
     "status": "completed"
    },
    "tags": []
   },
   "outputs": [
    {
     "data": {
      "text/plain": [
       "[0.8921507467615867,\n",
       " 0.9072327621004733,\n",
       " 0.9045906572235881,\n",
       " 0.9108289604051227,\n",
       " 0.9074162416058126,\n",
       " 0.9135077611830759,\n",
       " 0.9089574694506624,\n",
       " 0.9139848078969579,\n",
       " 0.9124435800521081,\n",
       " 0.9140581996990936]"
      ]
     },
     "execution_count": 9,
     "metadata": {},
     "output_type": "execute_result"
    },
    {
     "data": {
      "image/png": "[encoded data removed]",
      "text/plain": [
       "<Figure size 432x288 with 1 Axes>"
      ]
     },
     "metadata": {
      "needs_background": "light"
     },
     "output_type": "display_data"
    }
   ],
   "source": [
    "#RandomForest\n",
    "rf_scores = []\n",
    "for j in range(1,11):\n",
    "    rf = RandomForestClassifier(n_estimators = j)\n",
    "    rf.fit(xtrain,ytrain)\n",
    "    rf_scores.append(rf.score(xtest,ytest))\n",
    "plt.plot(range(1,11),rf_scores)\n",
    "plt.xlabel(\"RF SCORE\")\n",
    "max(rf_scores)\n",
    "rf_scores"
   ]
  },
  {
   "cell_type": "code",
   "execution_count": 10,
   "id": "f7fb4ad4",
   "metadata": {
    "execution": {
     "iopub.execute_input": "2022-07-19T15:10:20.291928Z",
     "iopub.status.busy": "2022-07-19T15:10:20.290947Z",
     "iopub.status.idle": "2022-07-19T15:10:20.544425Z",
     "shell.execute_reply": "2022-07-19T15:10:20.543323Z"
    },
    "papermill": {
     "duration": 0.26352,
     "end_time": "2022-07-19T15:10:20.547913",
     "exception": false,
     "start_time": "2022-07-19T15:10:20.284393",
     "status": "completed"
    },
    "tags": []
   },
   "outputs": [
    {
     "data": {
      "text/plain": [
       "0.9026090785659242"
      ]
     },
     "execution_count": 10,
     "metadata": {},
     "output_type": "execute_result"
    }
   ],
   "source": [
    "#LogisticRegression\n",
    "Lr = LogisticRegression()\n",
    "Lr.fit(xtrain,ytrain)\n",
    "Lr_score = Lr.score(xtest,ytest)\n",
    "Lr_score"
   ]
  },
  {
   "cell_type": "code",
   "execution_count": 11,
   "id": "c7c3e97d",
   "metadata": {
    "execution": {
     "iopub.execute_input": "2022-07-19T15:10:20.573077Z",
     "iopub.status.busy": "2022-07-19T15:10:20.572510Z",
     "iopub.status.idle": "2022-07-19T15:10:20.907561Z",
     "shell.execute_reply": "2022-07-19T15:10:20.906330Z"
    },
    "papermill": {
     "duration": 0.350713,
     "end_time": "2022-07-19T15:10:20.910077",
     "exception": false,
     "start_time": "2022-07-19T15:10:20.559364",
     "status": "completed"
    },
    "tags": []
   },
   "outputs": [
    {
     "data": {
      "text/plain": [
       "0.8931782319914866"
      ]
     },
     "execution_count": 11,
     "metadata": {},
     "output_type": "execute_result"
    }
   ],
   "source": [
    "dtc = DecisionTreeClassifier()\n",
    "dtc.fit(xtrain,ytrain)\n",
    "dtc_score = dtc.score(xtest,ytest)\n",
    "dtc_score"
   ]
  },
  {
   "cell_type": "code",
   "execution_count": 12,
   "id": "9441e80e",
   "metadata": {
    "execution": {
     "iopub.execute_input": "2022-07-19T15:10:20.923793Z",
     "iopub.status.busy": "2022-07-19T15:10:20.923400Z",
     "iopub.status.idle": "2022-07-19T15:10:22.474545Z",
     "shell.execute_reply": "2022-07-19T15:10:22.473734Z"
    },
    "papermill": {
     "duration": 1.560816,
     "end_time": "2022-07-19T15:10:22.476921",
     "exception": false,
     "start_time": "2022-07-19T15:10:20.916105",
     "status": "completed"
    },
    "tags": []
   },
   "outputs": [],
   "source": [
    "#Metrikler ile model karşılaştırılması\n",
    "#Comparison models with error metrics\n",
    "knn = KNeighborsClassifier(n_neighbors = 8)\n",
    "rf = RandomForestClassifier(n_estimators = 8)\n",
    "knn.fit(xtrain,ytrain)\n",
    "rf.fit(xtrain,ytrain)\n",
    "bas_lr = balanced_accuracy_score(Lr.predict(xtest),ytest)\n",
    "bas_dtc = balanced_accuracy_score(dtc.predict(xtest),ytest)\n",
    "bas_rf = balanced_accuracy_score(rf.predict(xtest),ytest)\n",
    "bas_knn = balanced_accuracy_score(knn.predict(xtest),ytest)\n",
    "bas_scores = [bas_lr,bas_dtc,bas_rf,bas_knn]\n",
    "bas_scores\n",
    "clfs= [\"Lr\",\"dtc\",\"rf\",\"knn\"]\n"
   ]
  },
  {
   "cell_type": "code",
   "execution_count": 13,
   "id": "c3673e45",
   "metadata": {
    "execution": {
     "iopub.execute_input": "2022-07-19T15:10:22.491166Z",
     "iopub.status.busy": "2022-07-19T15:10:22.490585Z",
     "iopub.status.idle": "2022-07-19T15:10:22.636901Z",
     "shell.execute_reply": "2022-07-19T15:10:22.635737Z"
    },
    "papermill": {
     "duration": 0.156892,
     "end_time": "2022-07-19T15:10:22.640055",
     "exception": false,
     "start_time": "2022-07-19T15:10:22.483163",
     "status": "completed"
    },
    "tags": []
   },
   "outputs": [
    {
     "data": {
      "text/plain": [
       "<AxesSubplot:>"
      ]
     },
     "execution_count": 13,
     "metadata": {},
     "output_type": "execute_result"
    },
    {
     "data": {
      "image/png": "[encoded data removed]",
      "text/plain": [
       "<Figure size 432x288 with 1 Axes>"
      ]
     },
     "metadata": {
      "needs_background": "light"
     },
     "output_type": "display_data"
    }
   ],
   "source": [
    "sns.barplot(x=clfs,y=bas_scores)"
   ]
  }
 ],
 "metadata": {
  "kernelspec": {
   "display_name": "Python 3",
   "language": "python",
   "name": "python3"
  },
  "language_info": {
   "codemirror_mode": {
    "name": "ipython",
    "version": 3
   },
   "file_extension": ".py",
   "mimetype": "text/x-python",
   "name": "python",
   "nbconvert_exporter": "python",
   "pygments_lexer": "ipython3",
   "version": "3.7.12"
  },
  "papermill": {
   "default_parameters": {},
   "duration": 27.778232,
   "end_time": "2022-07-19T15:10:23.369951",
   "environment_variables": {},
   "exception": null,
   "input_path": "__notebook__.ipynb",
   "output_path": "__notebook__.ipynb",
   "parameters": {},
   "start_time": "2022-07-19T15:09:55.591719",
   "version": "2.3.4"
  }
 },
 "nbformat": 4,
 "nbformat_minor": 5
}
