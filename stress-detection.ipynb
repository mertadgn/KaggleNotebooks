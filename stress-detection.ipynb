{
 "cells": [
  {
   "cell_type": "code",
   "execution_count": 1,
   "id": "31bf242f",
   "metadata": {
    "_cell_guid": "b1076dfc-b9ad-4769-8c92-a6c4dae69d19",
    "_uuid": "8f2839f25d086af736a60e9eeb907d3b93b6e0e5",
    "execution": {
     "iopub.execute_input": "2022-03-29T12:04:59.581696Z",
     "iopub.status.busy": "2022-03-29T12:04:59.580385Z",
     "iopub.status.idle": "2022-03-29T12:05:00.915306Z",
     "shell.execute_reply": "2022-03-29T12:05:00.914484Z",
     "shell.execute_reply.started": "2022-03-29T11:55:21.562538Z"
    },
    "papermill": {
     "duration": 1.35024,
     "end_time": "2022-03-29T12:05:00.915474",
     "exception": false,
     "start_time": "2022-03-29T12:04:59.565234",
     "status": "completed"
    },
    "tags": []
   },
   "outputs": [
    {
     "name": "stdout",
     "output_type": "stream",
     "text": [
      "/kaggle/input/human-stress-detection-in-and-through-sleep/SaYoPillow.csv\n",
      "/kaggle/input/human-stress-detection-in-and-through-sleep/IEEE-TCE_2020-08-0175_SaYoPillow.pdf\n",
      "/kaggle/input/human-stress-detection-in-and-through-sleep/readme.docx\n"
     ]
    }
   ],
   "source": [
    "# This Python 3 environment comes with many helpful analytics libraries installed\n",
    "# It is defined by the kaggle/python Docker image: https://github.com/kaggle/docker-python\n",
    "# For example, here's several helpful packages to load\n",
    "\n",
    "import numpy as np # linear algebra\n",
    "import pandas as pd # data processing, CSV file I/O (e.g. pd.read_csv)\n",
    "import seaborn as sns\n",
    "import matplotlib.pyplot as plt\n",
    "from sklearn.neighbors import KNeighborsClassifier\n",
    "from sklearn.svm import SVC\n",
    "from sklearn.linear_model import LogisticRegression\n",
    "from sklearn.ensemble import RandomForestClassifier\n",
    "from sklearn.tree import DecisionTreeClassifier\n",
    "from sklearn.model_selection import train_test_split\n",
    "from sklearn.preprocessing import MinMaxScaler\n",
    "from sklearn.metrics import accuracy_score\n",
    "from sklearn.metrics import balanced_accuracy_score\n",
    "from sklearn.metrics import roc_auc_score\n",
    "\n",
    "# Input data files are available in the read-only \"../input/\" directory\n",
    "# For example, running this (by clicking run or pressing Shift+Enter) will list all files under the input directory\n",
    "\n",
    "import os\n",
    "for dirname, _, filenames in os.walk('/kaggle/input'):\n",
    "    for filename in filenames:\n",
    "        print(os.path.join(dirname, filename))\n",
    "\n",
    "# You can write up to 20GB to the current directory (/kaggle/working/) that gets preserved as output when you create a version using \"Save & Run All\" \n",
    "# You can also write temporary files to /kaggle/temp/, but they won't be saved outside of the current session"
   ]
  },
  {
   "cell_type": "code",
   "execution_count": 2,
   "id": "a04066c2",
   "metadata": {
    "execution": {
     "iopub.execute_input": "2022-03-29T12:05:00.943324Z",
     "iopub.status.busy": "2022-03-29T12:05:00.942592Z",
     "iopub.status.idle": "2022-03-29T12:05:00.977952Z",
     "shell.execute_reply": "2022-03-29T12:05:00.977383Z",
     "shell.execute_reply.started": "2022-03-29T11:55:21.636135Z"
    },
    "papermill": {
     "duration": 0.051008,
     "end_time": "2022-03-29T12:05:00.978111",
     "exception": false,
     "start_time": "2022-03-29T12:05:00.927103",
     "status": "completed"
    },
    "tags": []
   },
   "outputs": [
    {
     "data": {
      "text/html": [
       "<div>\n",
       "<style scoped>\n",
       "    .dataframe tbody tr th:only-of-type {\n",
       "        vertical-align: middle;\n",
       "    }\n",
       "\n",
       "    .dataframe tbody tr th {\n",
       "        vertical-align: top;\n",
       "    }\n",
       "\n",
       "    .dataframe thead th {\n",
       "        text-align: right;\n",
       "    }\n",
       "</style>\n",
       "<table border=\"1\" class=\"dataframe\">\n",
       "  <thead>\n",
       "    <tr style=\"text-align: right;\">\n",
       "      <th></th>\n",
       "      <th>sr</th>\n",
       "      <th>rr</th>\n",
       "      <th>t</th>\n",
       "      <th>lm</th>\n",
       "      <th>bo</th>\n",
       "      <th>rem</th>\n",
       "      <th>sr.1</th>\n",
       "      <th>hr</th>\n",
       "      <th>sl</th>\n",
       "    </tr>\n",
       "  </thead>\n",
       "  <tbody>\n",
       "    <tr>\n",
       "      <th>0</th>\n",
       "      <td>93.80</td>\n",
       "      <td>25.680</td>\n",
       "      <td>91.840</td>\n",
       "      <td>16.600</td>\n",
       "      <td>89.840</td>\n",
       "      <td>99.60</td>\n",
       "      <td>1.840</td>\n",
       "      <td>74.20</td>\n",
       "      <td>3</td>\n",
       "    </tr>\n",
       "    <tr>\n",
       "      <th>1</th>\n",
       "      <td>91.64</td>\n",
       "      <td>25.104</td>\n",
       "      <td>91.552</td>\n",
       "      <td>15.880</td>\n",
       "      <td>89.552</td>\n",
       "      <td>98.88</td>\n",
       "      <td>1.552</td>\n",
       "      <td>72.76</td>\n",
       "      <td>3</td>\n",
       "    </tr>\n",
       "    <tr>\n",
       "      <th>2</th>\n",
       "      <td>60.00</td>\n",
       "      <td>20.000</td>\n",
       "      <td>96.000</td>\n",
       "      <td>10.000</td>\n",
       "      <td>95.000</td>\n",
       "      <td>85.00</td>\n",
       "      <td>7.000</td>\n",
       "      <td>60.00</td>\n",
       "      <td>1</td>\n",
       "    </tr>\n",
       "    <tr>\n",
       "      <th>3</th>\n",
       "      <td>85.76</td>\n",
       "      <td>23.536</td>\n",
       "      <td>90.768</td>\n",
       "      <td>13.920</td>\n",
       "      <td>88.768</td>\n",
       "      <td>96.92</td>\n",
       "      <td>0.768</td>\n",
       "      <td>68.84</td>\n",
       "      <td>3</td>\n",
       "    </tr>\n",
       "    <tr>\n",
       "      <th>4</th>\n",
       "      <td>48.12</td>\n",
       "      <td>17.248</td>\n",
       "      <td>97.872</td>\n",
       "      <td>6.496</td>\n",
       "      <td>96.248</td>\n",
       "      <td>72.48</td>\n",
       "      <td>8.248</td>\n",
       "      <td>53.12</td>\n",
       "      <td>0</td>\n",
       "    </tr>\n",
       "  </tbody>\n",
       "</table>\n",
       "</div>"
      ],
      "text/plain": [
       "      sr      rr       t      lm      bo    rem   sr.1     hr  sl\n",
       "0  93.80  25.680  91.840  16.600  89.840  99.60  1.840  74.20   3\n",
       "1  91.64  25.104  91.552  15.880  89.552  98.88  1.552  72.76   3\n",
       "2  60.00  20.000  96.000  10.000  95.000  85.00  7.000  60.00   1\n",
       "3  85.76  23.536  90.768  13.920  88.768  96.92  0.768  68.84   3\n",
       "4  48.12  17.248  97.872   6.496  96.248  72.48  8.248  53.12   0"
      ]
     },
     "execution_count": 2,
     "metadata": {},
     "output_type": "execute_result"
    }
   ],
   "source": [
    "rs = 42\n",
    "#Reading Dataset\n",
    "veri = pd.read_csv(\"../input/human-stress-detection-in-and-through-sleep/SaYoPillow.csv\")\n",
    "veri.head()"
   ]
  },
  {
   "cell_type": "code",
   "execution_count": 3,
   "id": "7499ae9e",
   "metadata": {
    "execution": {
     "iopub.execute_input": "2022-03-29T12:05:01.009015Z",
     "iopub.status.busy": "2022-03-29T12:05:01.008354Z",
     "iopub.status.idle": "2022-03-29T12:05:01.026390Z",
     "shell.execute_reply": "2022-03-29T12:05:01.026879Z",
     "shell.execute_reply.started": "2022-03-29T11:55:21.703265Z"
    },
    "papermill": {
     "duration": 0.037555,
     "end_time": "2022-03-29T12:05:01.027042",
     "exception": false,
     "start_time": "2022-03-29T12:05:00.989487",
     "status": "completed"
    },
    "tags": []
   },
   "outputs": [
    {
     "name": "stdout",
     "output_type": "stream",
     "text": [
      "<class 'pandas.core.frame.DataFrame'>\n",
      "RangeIndex: 630 entries, 0 to 629\n",
      "Data columns (total 9 columns):\n",
      " #   Column  Non-Null Count  Dtype  \n",
      "---  ------  --------------  -----  \n",
      " 0   sr      630 non-null    float64\n",
      " 1   rr      630 non-null    float64\n",
      " 2   t       630 non-null    float64\n",
      " 3   lm      630 non-null    float64\n",
      " 4   bo      630 non-null    float64\n",
      " 5   rem     630 non-null    float64\n",
      " 6   sr.1    630 non-null    float64\n",
      " 7   hr      630 non-null    float64\n",
      " 8   sl      630 non-null    int64  \n",
      "dtypes: float64(8), int64(1)\n",
      "memory usage: 44.4 KB\n"
     ]
    }
   ],
   "source": [
    "veri.info()"
   ]
  },
  {
   "cell_type": "code",
   "execution_count": 4,
   "id": "439dae3f",
   "metadata": {
    "execution": {
     "iopub.execute_input": "2022-03-29T12:05:01.057064Z",
     "iopub.status.busy": "2022-03-29T12:05:01.056417Z",
     "iopub.status.idle": "2022-03-29T12:05:01.375589Z",
     "shell.execute_reply": "2022-03-29T12:05:01.376178Z",
     "shell.execute_reply.started": "2022-03-29T11:55:21.768332Z"
    },
    "papermill": {
     "duration": 0.33786,
     "end_time": "2022-03-29T12:05:01.376350",
     "exception": false,
     "start_time": "2022-03-29T12:05:01.038490",
     "status": "completed"
    },
    "tags": []
   },
   "outputs": [
    {
     "data": {
      "text/plain": [
       "sr      0.975322\n",
       "rr      0.963516\n",
       "t      -0.962354\n",
       "lm      0.971071\n",
       "bo     -0.961092\n",
       "rem     0.951988\n",
       "sr.1   -0.973036\n",
       "hr      0.963516\n",
       "sl      1.000000\n",
       "Name: sl, dtype: float64"
      ]
     },
     "execution_count": 4,
     "metadata": {},
     "output_type": "execute_result"
    },
    {
     "data": {
      "image/png": "[encoded data removed]",
      "text/plain": [
       "<Figure size 432x288 with 2 Axes>"
      ]
     },
     "metadata": {
      "needs_background": "light"
     },
     "output_type": "display_data"
    }
   ],
   "source": [
    "#Correalation\n",
    "corr = veri.corr()\n",
    "sns.heatmap(corr)\n",
    "corr = corr.iloc[:,-1]\n",
    "corr"
   ]
  },
  {
   "cell_type": "code",
   "execution_count": 5,
   "id": "a0172158",
   "metadata": {
    "execution": {
     "iopub.execute_input": "2022-03-29T12:05:01.406091Z",
     "iopub.status.busy": "2022-03-29T12:05:01.405151Z",
     "iopub.status.idle": "2022-03-29T12:05:01.408186Z",
     "shell.execute_reply": "2022-03-29T12:05:01.408717Z",
     "shell.execute_reply.started": "2022-03-29T11:55:22.037258Z"
    },
    "papermill": {
     "duration": 0.019554,
     "end_time": "2022-03-29T12:05:01.408913",
     "exception": false,
     "start_time": "2022-03-29T12:05:01.389359",
     "status": "completed"
    },
    "tags": []
   },
   "outputs": [],
   "source": [
    "#Visualition\n",
    "#sns.lmplot(\"hr\",\"sl\",data = veri)"
   ]
  },
  {
   "cell_type": "code",
   "execution_count": 6,
   "id": "818888a5",
   "metadata": {
    "execution": {
     "iopub.execute_input": "2022-03-29T12:05:01.438223Z",
     "iopub.status.busy": "2022-03-29T12:05:01.437300Z",
     "iopub.status.idle": "2022-03-29T12:05:01.445056Z",
     "shell.execute_reply": "2022-03-29T12:05:01.445552Z",
     "shell.execute_reply.started": "2022-03-29T11:55:22.043795Z"
    },
    "papermill": {
     "duration": 0.023846,
     "end_time": "2022-03-29T12:05:01.445716",
     "exception": false,
     "start_time": "2022-03-29T12:05:01.421870",
     "status": "completed"
    },
    "tags": []
   },
   "outputs": [],
   "source": [
    "#Separating\n",
    "X = veri.iloc[:,:8]\n",
    "Y = veri[\"sl\"]\n",
    "xtrain,xtest,ytrain,ytest = train_test_split(X,Y,test_size=0.2,random_state = 42)"
   ]
  },
  {
   "cell_type": "code",
   "execution_count": 7,
   "id": "0bd3765a",
   "metadata": {
    "execution": {
     "iopub.execute_input": "2022-03-29T12:05:01.475206Z",
     "iopub.status.busy": "2022-03-29T12:05:01.474251Z",
     "iopub.status.idle": "2022-03-29T12:05:01.484002Z",
     "shell.execute_reply": "2022-03-29T12:05:01.484467Z",
     "shell.execute_reply.started": "2022-03-29T11:55:22.0582Z"
    },
    "papermill": {
     "duration": 0.025963,
     "end_time": "2022-03-29T12:05:01.484642",
     "exception": false,
     "start_time": "2022-03-29T12:05:01.458679",
     "status": "completed"
    },
    "tags": []
   },
   "outputs": [],
   "source": [
    "mms = MinMaxScaler()\n",
    "xtrain_s = mms.fit_transform(xtrain)\n",
    "xtest_s = mms.fit_transform(xtest)"
   ]
  },
  {
   "cell_type": "code",
   "execution_count": 8,
   "id": "f3ebdd90",
   "metadata": {
    "execution": {
     "iopub.execute_input": "2022-03-29T12:05:01.514203Z",
     "iopub.status.busy": "2022-03-29T12:05:01.513258Z",
     "iopub.status.idle": "2022-03-29T12:05:01.777113Z",
     "shell.execute_reply": "2022-03-29T12:05:01.777834Z",
     "shell.execute_reply.started": "2022-03-29T11:55:50.214649Z"
    },
    "papermill": {
     "duration": 0.280486,
     "end_time": "2022-03-29T12:05:01.778051",
     "exception": false,
     "start_time": "2022-03-29T12:05:01.497565",
     "status": "completed"
    },
    "tags": []
   },
   "outputs": [
    {
     "name": "stdout",
     "output_type": "stream",
     "text": [
      "Accuracy score : 1.0\n",
      "Accuracy score : 1.0\n",
      "Accuracy score : 1.0\n",
      "Accuracy score : 0.9761904761904762\n",
      "Accuracy score : 0.9761904761904762\n",
      "Balanced accuracy score : 1.0\n",
      "Balanced accuracy score : 1.0\n",
      "Balanced accuracy score : 1.0\n",
      "Balanced accuracy score : 0.9770778072502211\n",
      "Balanced accuracy score : 0.9770778072502211\n"
     ]
    }
   ],
   "source": [
    "knn = KNeighborsClassifier()\n",
    "svc = SVC()\n",
    "rfc = RandomForestClassifier()\n",
    "dtc = DecisionTreeClassifier()\n",
    "lr = LogisticRegression()\n",
    "\n",
    "knn.fit(xtrain_s,ytrain)\n",
    "svc.fit(xtrain_s,ytrain)\n",
    "dtc.fit(xtrain_s,ytrain)\n",
    "rfc.fit(xtrain_s,ytrain)\n",
    "lr.fit(xtrain_s,ytrain)\n",
    "\n",
    "lrp = lr.predict(xtest_s)\n",
    "knnp = knn.predict(xtest_s)\n",
    "rfcp = rfc.predict(xtest_s)\n",
    "dtcp = dtc.predict(xtest_s)\n",
    "svcp = svc.predict(xtest_s)\n",
    "\n",
    "predicts = [lrp,svcp,knnp,rfcp,dtcp]\n",
    "\n",
    "for i in predicts:\n",
    "    a = accuracy_score(i,ytest)\n",
    "    print(\"Accuracy score :\",a)\n",
    "for j in predicts:   \n",
    "    b = balanced_accuracy_score(j,ytest)\n",
    "    print(\"Balanced accuracy score :\",b)    "
   ]
  },
  {
   "cell_type": "code",
   "execution_count": null,
   "id": "ed0c163b",
   "metadata": {
    "papermill": {
     "duration": 0.012949,
     "end_time": "2022-03-29T12:05:01.805069",
     "exception": false,
     "start_time": "2022-03-29T12:05:01.792120",
     "status": "completed"
    },
    "tags": []
   },
   "outputs": [],
   "source": [
    " "
   ]
  }
 ],
 "metadata": {
  "kernelspec": {
   "display_name": "Python 3",
   "language": "python",
   "name": "python3"
  },
  "language_info": {
   "codemirror_mode": {
    "name": "ipython",
    "version": 3
   },
   "file_extension": ".py",
   "mimetype": "text/x-python",
   "name": "python",
   "nbconvert_exporter": "python",
   "pygments_lexer": "ipython3",
   "version": "3.7.12"
  },
  "papermill": {
   "default_parameters": {},
   "duration": 12.229832,
   "end_time": "2022-03-29T12:05:02.528294",
   "environment_variables": {},
   "exception": null,
   "input_path": "__notebook__.ipynb",
   "output_path": "__notebook__.ipynb",
   "parameters": {},
   "start_time": "2022-03-29T12:04:50.298462",
   "version": "2.3.3"
  }
 },
 "nbformat": 4,
 "nbformat_minor": 5
}
