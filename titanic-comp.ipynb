{
 "cells": [
  {
   "cell_type": "code",
   "execution_count": 1,
   "id": "2b3a4bd7",
   "metadata": {
    "_cell_guid": "b1076dfc-b9ad-4769-8c92-a6c4dae69d19",
    "_uuid": "8f2839f25d086af736a60e9eeb907d3b93b6e0e5",
    "execution": {
     "iopub.execute_input": "2022-09-25T12:34:37.339690Z",
     "iopub.status.busy": "2022-09-25T12:34:37.338459Z",
     "iopub.status.idle": "2022-09-25T12:34:38.670134Z",
     "shell.execute_reply": "2022-09-25T12:34:38.669102Z"
    },
    "papermill": {
     "duration": 1.343629,
     "end_time": "2022-09-25T12:34:38.674698",
     "exception": false,
     "start_time": "2022-09-25T12:34:37.331069",
     "status": "completed"
    },
    "tags": []
   },
   "outputs": [
    {
     "name": "stdout",
     "output_type": "stream",
     "text": [
      "/kaggle/input/titanic/train.csv\n",
      "/kaggle/input/titanic/test.csv\n",
      "/kaggle/input/titanic/gender_submission.csv\n"
     ]
    }
   ],
   "source": [
    "# This Python 3 environment comes with many helpful analytics libraries installed\n",
    "# It is defined by the kaggle/python Docker image: https://github.com/kaggle/docker-python\n",
    "# For example, here's several helpful packages to load\n",
    "\n",
    "import warnings\n",
    "warnings.filterwarnings(\"ignore\")\n",
    "\n",
    "from sklearn.tree import DecisionTreeClassifier\n",
    "from sklearn.ensemble import RandomForestClassifier\n",
    "from sklearn.linear_model import LogisticRegression\n",
    "from sklearn.naive_bayes import GaussianNB\n",
    "from sklearn.naive_bayes import MultinomialNB\n",
    "from sklearn.svm import SVC\n",
    "from sklearn.neighbors import KNeighborsClassifier\n",
    "import xgboost as xgb\n",
    "knn = KNeighborsClassifier(n_neighbors = 3)\n",
    "dtc = DecisionTreeClassifier()\n",
    "rfc =RandomForestClassifier()\n",
    "Lr = LogisticRegression()\n",
    "gnb = GaussianNB()\n",
    "mnb = MultinomialNB()\n",
    "svc = SVC()\n",
    "xgblog = xgb.XGBClassifier(objective = \"binary:logistic\")\n",
    "xgblogr = xgb.XGBClassifier(objective = \"binary:logitraw\")\n",
    "xgbhinge = xgb.XGBClassifier(objective = \"binary:hinge\")\n",
    "\n",
    "clfs = [dtc,rfc,Lr,gnb,svc,xgblog,xgblogr,xgbhinge,knn]\n",
    "scores = []\n",
    "\n",
    "import numpy as np # linear algebra\n",
    "import pandas as pd # data processing, CSV file I/O (e.g. pd.read_csv)\n",
    "\n",
    "# Input data files are available in the read-only \"../input/\" directory\n",
    "# For example, running this (by clicking run or pressing Shift+Enter) will list all files under the input directory\n",
    "\n",
    "import os\n",
    "for dirname, _, filenames in os.walk('/kaggle/input'):\n",
    "    for filename in filenames:\n",
    "        print(os.path.join(dirname, filename))\n",
    "\n",
    "# You can write up to 20GB to the current directory (/kaggle/working/) that gets preserved as output when you create a version using \"Save & Run All\" \n",
    "# You can also write temporary files to /kaggle/temp/, but they won't be saved outside of the current session"
   ]
  },
  {
   "cell_type": "code",
   "execution_count": 2,
   "id": "2ca8f801",
   "metadata": {
    "execution": {
     "iopub.execute_input": "2022-09-25T12:34:38.685972Z",
     "iopub.status.busy": "2022-09-25T12:34:38.685296Z",
     "iopub.status.idle": "2022-09-25T12:34:38.726573Z",
     "shell.execute_reply": "2022-09-25T12:34:38.725471Z"
    },
    "papermill": {
     "duration": 0.049041,
     "end_time": "2022-09-25T12:34:38.728800",
     "exception": false,
     "start_time": "2022-09-25T12:34:38.679759",
     "status": "completed"
    },
    "tags": []
   },
   "outputs": [
    {
     "data": {
      "text/plain": [
       "(1309, 12)"
      ]
     },
     "execution_count": 2,
     "metadata": {},
     "output_type": "execute_result"
    }
   ],
   "source": [
    "import pandas as pd\n",
    "import numpy as np\n",
    "import matplotlib.pyplot\n",
    "\n",
    "train = pd.read_csv(\"../input/titanic/train.csv\")\n",
    "test = pd.read_csv(\"../input/titanic/test.csv\")\n",
    "data = pd.concat([train,test],axis=0)\n",
    "datas = [train,test]\n",
    "data.shape\n"
   ]
  },
  {
   "cell_type": "code",
   "execution_count": 3,
   "id": "08d4fc73",
   "metadata": {
    "execution": {
     "iopub.execute_input": "2022-09-25T12:34:38.739066Z",
     "iopub.status.busy": "2022-09-25T12:34:38.738739Z",
     "iopub.status.idle": "2022-09-25T12:34:38.762127Z",
     "shell.execute_reply": "2022-09-25T12:34:38.761248Z"
    },
    "papermill": {
     "duration": 0.03119,
     "end_time": "2022-09-25T12:34:38.764337",
     "exception": false,
     "start_time": "2022-09-25T12:34:38.733147",
     "status": "completed"
    },
    "tags": []
   },
   "outputs": [
    {
     "name": "stdout",
     "output_type": "stream",
     "text": [
      "<class 'pandas.core.frame.DataFrame'>\n",
      "RangeIndex: 891 entries, 0 to 890\n",
      "Data columns (total 12 columns):\n",
      " #   Column       Non-Null Count  Dtype  \n",
      "---  ------       --------------  -----  \n",
      " 0   PassengerId  891 non-null    int64  \n",
      " 1   Survived     891 non-null    int64  \n",
      " 2   Pclass       891 non-null    int64  \n",
      " 3   Name         891 non-null    object \n",
      " 4   Sex          891 non-null    object \n",
      " 5   Age          891 non-null    float64\n",
      " 6   SibSp        891 non-null    int64  \n",
      " 7   Parch        891 non-null    int64  \n",
      " 8   Ticket       891 non-null    object \n",
      " 9   Fare         891 non-null    float64\n",
      " 10  Cabin        204 non-null    object \n",
      " 11  Embarked     891 non-null    object \n",
      "dtypes: float64(2), int64(5), object(5)\n",
      "memory usage: 83.7+ KB\n"
     ]
    }
   ],
   "source": [
    "train.Embarked = train[[\"Embarked\"]].fillna(data.Embarked.mode()[0])\n",
    "train.Age = train.Age.fillna(data.Age.mean())\n",
    "train.info()"
   ]
  },
  {
   "cell_type": "code",
   "execution_count": 4,
   "id": "46dc83fb",
   "metadata": {
    "execution": {
     "iopub.execute_input": "2022-09-25T12:34:38.775559Z",
     "iopub.status.busy": "2022-09-25T12:34:38.774961Z",
     "iopub.status.idle": "2022-09-25T12:34:38.792907Z",
     "shell.execute_reply": "2022-09-25T12:34:38.791783Z"
    },
    "papermill": {
     "duration": 0.025538,
     "end_time": "2022-09-25T12:34:38.795136",
     "exception": false,
     "start_time": "2022-09-25T12:34:38.769598",
     "status": "completed"
    },
    "tags": []
   },
   "outputs": [
    {
     "data": {
      "text/html": [
       "<div>\n",
       "<style scoped>\n",
       "    .dataframe tbody tr th:only-of-type {\n",
       "        vertical-align: middle;\n",
       "    }\n",
       "\n",
       "    .dataframe tbody tr th {\n",
       "        vertical-align: top;\n",
       "    }\n",
       "\n",
       "    .dataframe thead th {\n",
       "        text-align: right;\n",
       "    }\n",
       "</style>\n",
       "<table border=\"1\" class=\"dataframe\">\n",
       "  <thead>\n",
       "    <tr style=\"text-align: right;\">\n",
       "      <th></th>\n",
       "      <th>Survived</th>\n",
       "      <th>Pclass</th>\n",
       "      <th>Sex</th>\n",
       "      <th>Age</th>\n",
       "      <th>SibSp</th>\n",
       "      <th>Parch</th>\n",
       "      <th>Fare</th>\n",
       "      <th>Embarked</th>\n",
       "    </tr>\n",
       "  </thead>\n",
       "  <tbody>\n",
       "    <tr>\n",
       "      <th>0</th>\n",
       "      <td>0</td>\n",
       "      <td>3</td>\n",
       "      <td>male</td>\n",
       "      <td>22.0</td>\n",
       "      <td>1</td>\n",
       "      <td>0</td>\n",
       "      <td>7.2500</td>\n",
       "      <td>S</td>\n",
       "    </tr>\n",
       "    <tr>\n",
       "      <th>1</th>\n",
       "      <td>1</td>\n",
       "      <td>1</td>\n",
       "      <td>female</td>\n",
       "      <td>38.0</td>\n",
       "      <td>1</td>\n",
       "      <td>0</td>\n",
       "      <td>71.2833</td>\n",
       "      <td>C</td>\n",
       "    </tr>\n",
       "    <tr>\n",
       "      <th>2</th>\n",
       "      <td>1</td>\n",
       "      <td>3</td>\n",
       "      <td>female</td>\n",
       "      <td>26.0</td>\n",
       "      <td>0</td>\n",
       "      <td>0</td>\n",
       "      <td>7.9250</td>\n",
       "      <td>S</td>\n",
       "    </tr>\n",
       "    <tr>\n",
       "      <th>3</th>\n",
       "      <td>1</td>\n",
       "      <td>1</td>\n",
       "      <td>female</td>\n",
       "      <td>35.0</td>\n",
       "      <td>1</td>\n",
       "      <td>0</td>\n",
       "      <td>53.1000</td>\n",
       "      <td>S</td>\n",
       "    </tr>\n",
       "    <tr>\n",
       "      <th>4</th>\n",
       "      <td>0</td>\n",
       "      <td>3</td>\n",
       "      <td>male</td>\n",
       "      <td>35.0</td>\n",
       "      <td>0</td>\n",
       "      <td>0</td>\n",
       "      <td>8.0500</td>\n",
       "      <td>S</td>\n",
       "    </tr>\n",
       "  </tbody>\n",
       "</table>\n",
       "</div>"
      ],
      "text/plain": [
       "   Survived  Pclass     Sex   Age  SibSp  Parch     Fare Embarked\n",
       "0         0       3    male  22.0      1      0   7.2500        S\n",
       "1         1       1  female  38.0      1      0  71.2833        C\n",
       "2         1       3  female  26.0      0      0   7.9250        S\n",
       "3         1       1  female  35.0      1      0  53.1000        S\n",
       "4         0       3    male  35.0      0      0   8.0500        S"
      ]
     },
     "execution_count": 4,
     "metadata": {},
     "output_type": "execute_result"
    }
   ],
   "source": [
    "train = train.drop([\"PassengerId\",\"Name\",\"Ticket\",\"Cabin\"],axis=1)\n",
    "train.head()"
   ]
  },
  {
   "cell_type": "code",
   "execution_count": 5,
   "id": "6115a711",
   "metadata": {
    "execution": {
     "iopub.execute_input": "2022-09-25T12:34:38.805554Z",
     "iopub.status.busy": "2022-09-25T12:34:38.805155Z",
     "iopub.status.idle": "2022-09-25T12:34:38.820259Z",
     "shell.execute_reply": "2022-09-25T12:34:38.819293Z"
    },
    "papermill": {
     "duration": 0.022847,
     "end_time": "2022-09-25T12:34:38.822502",
     "exception": false,
     "start_time": "2022-09-25T12:34:38.799655",
     "status": "completed"
    },
    "tags": []
   },
   "outputs": [
    {
     "data": {
      "text/html": [
       "<div>\n",
       "<style scoped>\n",
       "    .dataframe tbody tr th:only-of-type {\n",
       "        vertical-align: middle;\n",
       "    }\n",
       "\n",
       "    .dataframe tbody tr th {\n",
       "        vertical-align: top;\n",
       "    }\n",
       "\n",
       "    .dataframe thead th {\n",
       "        text-align: right;\n",
       "    }\n",
       "</style>\n",
       "<table border=\"1\" class=\"dataframe\">\n",
       "  <thead>\n",
       "    <tr style=\"text-align: right;\">\n",
       "      <th></th>\n",
       "      <th>Pclass</th>\n",
       "      <th>Sex</th>\n",
       "      <th>Age</th>\n",
       "      <th>SibSp</th>\n",
       "      <th>Parch</th>\n",
       "      <th>Fare</th>\n",
       "      <th>Embarked</th>\n",
       "    </tr>\n",
       "  </thead>\n",
       "  <tbody>\n",
       "    <tr>\n",
       "      <th>0</th>\n",
       "      <td>3</td>\n",
       "      <td>male</td>\n",
       "      <td>22.0</td>\n",
       "      <td>1</td>\n",
       "      <td>0</td>\n",
       "      <td>7.2500</td>\n",
       "      <td>S</td>\n",
       "    </tr>\n",
       "    <tr>\n",
       "      <th>1</th>\n",
       "      <td>1</td>\n",
       "      <td>female</td>\n",
       "      <td>38.0</td>\n",
       "      <td>1</td>\n",
       "      <td>0</td>\n",
       "      <td>71.2833</td>\n",
       "      <td>C</td>\n",
       "    </tr>\n",
       "    <tr>\n",
       "      <th>2</th>\n",
       "      <td>3</td>\n",
       "      <td>female</td>\n",
       "      <td>26.0</td>\n",
       "      <td>0</td>\n",
       "      <td>0</td>\n",
       "      <td>7.9250</td>\n",
       "      <td>S</td>\n",
       "    </tr>\n",
       "    <tr>\n",
       "      <th>3</th>\n",
       "      <td>1</td>\n",
       "      <td>female</td>\n",
       "      <td>35.0</td>\n",
       "      <td>1</td>\n",
       "      <td>0</td>\n",
       "      <td>53.1000</td>\n",
       "      <td>S</td>\n",
       "    </tr>\n",
       "    <tr>\n",
       "      <th>4</th>\n",
       "      <td>3</td>\n",
       "      <td>male</td>\n",
       "      <td>35.0</td>\n",
       "      <td>0</td>\n",
       "      <td>0</td>\n",
       "      <td>8.0500</td>\n",
       "      <td>S</td>\n",
       "    </tr>\n",
       "  </tbody>\n",
       "</table>\n",
       "</div>"
      ],
      "text/plain": [
       "   Pclass     Sex   Age  SibSp  Parch     Fare Embarked\n",
       "0       3    male  22.0      1      0   7.2500        S\n",
       "1       1  female  38.0      1      0  71.2833        C\n",
       "2       3  female  26.0      0      0   7.9250        S\n",
       "3       1  female  35.0      1      0  53.1000        S\n",
       "4       3    male  35.0      0      0   8.0500        S"
      ]
     },
     "execution_count": 5,
     "metadata": {},
     "output_type": "execute_result"
    }
   ],
   "source": [
    "Y = train[[\"Survived\"]]\n",
    "train = train.drop([\"Survived\"],axis=1)\n",
    "\n",
    "Y.shape\n",
    "train.head()"
   ]
  },
  {
   "cell_type": "code",
   "execution_count": 6,
   "id": "94a1170a",
   "metadata": {
    "execution": {
     "iopub.execute_input": "2022-09-25T12:34:38.834745Z",
     "iopub.status.busy": "2022-09-25T12:34:38.833631Z",
     "iopub.status.idle": "2022-09-25T12:34:38.843319Z",
     "shell.execute_reply": "2022-09-25T12:34:38.842343Z"
    },
    "papermill": {
     "duration": 0.017876,
     "end_time": "2022-09-25T12:34:38.845551",
     "exception": false,
     "start_time": "2022-09-25T12:34:38.827675",
     "status": "completed"
    },
    "tags": []
   },
   "outputs": [
    {
     "data": {
      "text/plain": [
       "0      1\n",
       "1      0\n",
       "2      0\n",
       "3      0\n",
       "4      1\n",
       "      ..\n",
       "886    1\n",
       "887    0\n",
       "888    0\n",
       "889    1\n",
       "890    1\n",
       "Name: Sex, Length: 891, dtype: int64"
      ]
     },
     "execution_count": 6,
     "metadata": {},
     "output_type": "execute_result"
    }
   ],
   "source": [
    "train.Sex = (train.Sex == \"male\").astype(int)\n",
    "train.Sex"
   ]
  },
  {
   "cell_type": "code",
   "execution_count": 7,
   "id": "629ad25e",
   "metadata": {
    "execution": {
     "iopub.execute_input": "2022-09-25T12:34:38.857814Z",
     "iopub.status.busy": "2022-09-25T12:34:38.857471Z",
     "iopub.status.idle": "2022-09-25T12:34:38.867769Z",
     "shell.execute_reply": "2022-09-25T12:34:38.866833Z"
    },
    "papermill": {
     "duration": 0.019067,
     "end_time": "2022-09-25T12:34:38.870187",
     "exception": false,
     "start_time": "2022-09-25T12:34:38.851120",
     "status": "completed"
    },
    "tags": []
   },
   "outputs": [
    {
     "data": {
      "text/plain": [
       "0      0\n",
       "1      1\n",
       "2      0\n",
       "3      0\n",
       "4      0\n",
       "      ..\n",
       "886    0\n",
       "887    0\n",
       "888    0\n",
       "889    1\n",
       "890    2\n",
       "Name: Embarked, Length: 891, dtype: int64"
      ]
     },
     "execution_count": 7,
     "metadata": {},
     "output_type": "execute_result"
    }
   ],
   "source": [
    "train[\"Embarked\"] = train[\"Embarked\"].map( {'S': 0, 'C': 1, 'Q': 2} ).astype(int)\n",
    "train.Embarked"
   ]
  },
  {
   "cell_type": "code",
   "execution_count": 8,
   "id": "db66c037",
   "metadata": {
    "execution": {
     "iopub.execute_input": "2022-09-25T12:34:38.883160Z",
     "iopub.status.busy": "2022-09-25T12:34:38.882767Z",
     "iopub.status.idle": "2022-09-25T12:34:38.903601Z",
     "shell.execute_reply": "2022-09-25T12:34:38.902611Z"
    },
    "papermill": {
     "duration": 0.029967,
     "end_time": "2022-09-25T12:34:38.905732",
     "exception": false,
     "start_time": "2022-09-25T12:34:38.875765",
     "status": "completed"
    },
    "tags": []
   },
   "outputs": [
    {
     "data": {
      "text/html": [
       "<div>\n",
       "<style scoped>\n",
       "    .dataframe tbody tr th:only-of-type {\n",
       "        vertical-align: middle;\n",
       "    }\n",
       "\n",
       "    .dataframe tbody tr th {\n",
       "        vertical-align: top;\n",
       "    }\n",
       "\n",
       "    .dataframe thead th {\n",
       "        text-align: right;\n",
       "    }\n",
       "</style>\n",
       "<table border=\"1\" class=\"dataframe\">\n",
       "  <thead>\n",
       "    <tr style=\"text-align: right;\">\n",
       "      <th></th>\n",
       "      <th>Pclass</th>\n",
       "      <th>Sex</th>\n",
       "      <th>Age</th>\n",
       "      <th>Fare</th>\n",
       "      <th>Embarked</th>\n",
       "      <th>FamilySize</th>\n",
       "      <th>IsAlone</th>\n",
       "    </tr>\n",
       "  </thead>\n",
       "  <tbody>\n",
       "    <tr>\n",
       "      <th>0</th>\n",
       "      <td>3</td>\n",
       "      <td>1</td>\n",
       "      <td>22.000000</td>\n",
       "      <td>7.2500</td>\n",
       "      <td>0</td>\n",
       "      <td>2</td>\n",
       "      <td>0</td>\n",
       "    </tr>\n",
       "    <tr>\n",
       "      <th>1</th>\n",
       "      <td>1</td>\n",
       "      <td>0</td>\n",
       "      <td>38.000000</td>\n",
       "      <td>71.2833</td>\n",
       "      <td>1</td>\n",
       "      <td>2</td>\n",
       "      <td>0</td>\n",
       "    </tr>\n",
       "    <tr>\n",
       "      <th>2</th>\n",
       "      <td>3</td>\n",
       "      <td>0</td>\n",
       "      <td>26.000000</td>\n",
       "      <td>7.9250</td>\n",
       "      <td>0</td>\n",
       "      <td>1</td>\n",
       "      <td>1</td>\n",
       "    </tr>\n",
       "    <tr>\n",
       "      <th>3</th>\n",
       "      <td>1</td>\n",
       "      <td>0</td>\n",
       "      <td>35.000000</td>\n",
       "      <td>53.1000</td>\n",
       "      <td>0</td>\n",
       "      <td>2</td>\n",
       "      <td>0</td>\n",
       "    </tr>\n",
       "    <tr>\n",
       "      <th>4</th>\n",
       "      <td>3</td>\n",
       "      <td>1</td>\n",
       "      <td>35.000000</td>\n",
       "      <td>8.0500</td>\n",
       "      <td>0</td>\n",
       "      <td>1</td>\n",
       "      <td>1</td>\n",
       "    </tr>\n",
       "    <tr>\n",
       "      <th>...</th>\n",
       "      <td>...</td>\n",
       "      <td>...</td>\n",
       "      <td>...</td>\n",
       "      <td>...</td>\n",
       "      <td>...</td>\n",
       "      <td>...</td>\n",
       "      <td>...</td>\n",
       "    </tr>\n",
       "    <tr>\n",
       "      <th>886</th>\n",
       "      <td>2</td>\n",
       "      <td>1</td>\n",
       "      <td>27.000000</td>\n",
       "      <td>13.0000</td>\n",
       "      <td>0</td>\n",
       "      <td>1</td>\n",
       "      <td>1</td>\n",
       "    </tr>\n",
       "    <tr>\n",
       "      <th>887</th>\n",
       "      <td>1</td>\n",
       "      <td>0</td>\n",
       "      <td>19.000000</td>\n",
       "      <td>30.0000</td>\n",
       "      <td>0</td>\n",
       "      <td>1</td>\n",
       "      <td>1</td>\n",
       "    </tr>\n",
       "    <tr>\n",
       "      <th>888</th>\n",
       "      <td>3</td>\n",
       "      <td>0</td>\n",
       "      <td>29.881138</td>\n",
       "      <td>23.4500</td>\n",
       "      <td>0</td>\n",
       "      <td>4</td>\n",
       "      <td>0</td>\n",
       "    </tr>\n",
       "    <tr>\n",
       "      <th>889</th>\n",
       "      <td>1</td>\n",
       "      <td>1</td>\n",
       "      <td>26.000000</td>\n",
       "      <td>30.0000</td>\n",
       "      <td>1</td>\n",
       "      <td>1</td>\n",
       "      <td>1</td>\n",
       "    </tr>\n",
       "    <tr>\n",
       "      <th>890</th>\n",
       "      <td>3</td>\n",
       "      <td>1</td>\n",
       "      <td>32.000000</td>\n",
       "      <td>7.7500</td>\n",
       "      <td>2</td>\n",
       "      <td>1</td>\n",
       "      <td>1</td>\n",
       "    </tr>\n",
       "  </tbody>\n",
       "</table>\n",
       "<p>891 rows × 7 columns</p>\n",
       "</div>"
      ],
      "text/plain": [
       "     Pclass  Sex        Age     Fare  Embarked  FamilySize  IsAlone\n",
       "0         3    1  22.000000   7.2500         0           2        0\n",
       "1         1    0  38.000000  71.2833         1           2        0\n",
       "2         3    0  26.000000   7.9250         0           1        1\n",
       "3         1    0  35.000000  53.1000         0           2        0\n",
       "4         3    1  35.000000   8.0500         0           1        1\n",
       "..      ...  ...        ...      ...       ...         ...      ...\n",
       "886       2    1  27.000000  13.0000         0           1        1\n",
       "887       1    0  19.000000  30.0000         0           1        1\n",
       "888       3    0  29.881138  23.4500         0           4        0\n",
       "889       1    1  26.000000  30.0000         1           1        1\n",
       "890       3    1  32.000000   7.7500         2           1        1\n",
       "\n",
       "[891 rows x 7 columns]"
      ]
     },
     "execution_count": 8,
     "metadata": {},
     "output_type": "execute_result"
    }
   ],
   "source": [
    "train[\"FamilySize\"] = train[\"Parch\"] + train[\"SibSp\"] + 1 \n",
    "train.tail()\n",
    "train['IsAlone'] = 0\n",
    "train.loc[train['FamilySize'] == 1, 'IsAlone'] = 1\n",
    "train\n",
    "\n",
    "\n",
    "\n",
    "\n",
    "\n",
    "train = train.drop([\"Parch\",\"SibSp\"],axis=1)\n",
    "train"
   ]
  },
  {
   "cell_type": "code",
   "execution_count": 9,
   "id": "14eda741",
   "metadata": {
    "execution": {
     "iopub.execute_input": "2022-09-25T12:34:38.918911Z",
     "iopub.status.busy": "2022-09-25T12:34:38.918580Z",
     "iopub.status.idle": "2022-09-25T12:34:38.941777Z",
     "shell.execute_reply": "2022-09-25T12:34:38.940341Z"
    },
    "papermill": {
     "duration": 0.032087,
     "end_time": "2022-09-25T12:34:38.943969",
     "exception": false,
     "start_time": "2022-09-25T12:34:38.911882",
     "status": "completed"
    },
    "tags": []
   },
   "outputs": [
    {
     "name": "stdout",
     "output_type": "stream",
     "text": [
      "[0 1 2]\n"
     ]
    },
    {
     "data": {
      "text/html": [
       "<div>\n",
       "<style scoped>\n",
       "    .dataframe tbody tr th:only-of-type {\n",
       "        vertical-align: middle;\n",
       "    }\n",
       "\n",
       "    .dataframe tbody tr th {\n",
       "        vertical-align: top;\n",
       "    }\n",
       "\n",
       "    .dataframe thead th {\n",
       "        text-align: right;\n",
       "    }\n",
       "</style>\n",
       "<table border=\"1\" class=\"dataframe\">\n",
       "  <thead>\n",
       "    <tr style=\"text-align: right;\">\n",
       "      <th></th>\n",
       "      <th>0</th>\n",
       "      <th>1</th>\n",
       "      <th>Pclass</th>\n",
       "      <th>Sex</th>\n",
       "      <th>Age</th>\n",
       "      <th>Fare</th>\n",
       "      <th>FamilySize</th>\n",
       "      <th>IsAlone</th>\n",
       "    </tr>\n",
       "  </thead>\n",
       "  <tbody>\n",
       "    <tr>\n",
       "      <th>0</th>\n",
       "      <td>1.0</td>\n",
       "      <td>0.0</td>\n",
       "      <td>3</td>\n",
       "      <td>1</td>\n",
       "      <td>22.0</td>\n",
       "      <td>7.2500</td>\n",
       "      <td>2</td>\n",
       "      <td>0</td>\n",
       "    </tr>\n",
       "    <tr>\n",
       "      <th>1</th>\n",
       "      <td>0.0</td>\n",
       "      <td>1.0</td>\n",
       "      <td>1</td>\n",
       "      <td>0</td>\n",
       "      <td>38.0</td>\n",
       "      <td>71.2833</td>\n",
       "      <td>2</td>\n",
       "      <td>0</td>\n",
       "    </tr>\n",
       "    <tr>\n",
       "      <th>2</th>\n",
       "      <td>1.0</td>\n",
       "      <td>0.0</td>\n",
       "      <td>3</td>\n",
       "      <td>0</td>\n",
       "      <td>26.0</td>\n",
       "      <td>7.9250</td>\n",
       "      <td>1</td>\n",
       "      <td>1</td>\n",
       "    </tr>\n",
       "    <tr>\n",
       "      <th>3</th>\n",
       "      <td>1.0</td>\n",
       "      <td>0.0</td>\n",
       "      <td>1</td>\n",
       "      <td>0</td>\n",
       "      <td>35.0</td>\n",
       "      <td>53.1000</td>\n",
       "      <td>2</td>\n",
       "      <td>0</td>\n",
       "    </tr>\n",
       "    <tr>\n",
       "      <th>4</th>\n",
       "      <td>1.0</td>\n",
       "      <td>0.0</td>\n",
       "      <td>3</td>\n",
       "      <td>1</td>\n",
       "      <td>35.0</td>\n",
       "      <td>8.0500</td>\n",
       "      <td>1</td>\n",
       "      <td>1</td>\n",
       "    </tr>\n",
       "  </tbody>\n",
       "</table>\n",
       "</div>"
      ],
      "text/plain": [
       "     0    1  Pclass  Sex   Age     Fare  FamilySize  IsAlone\n",
       "0  1.0  0.0       3    1  22.0   7.2500           2        0\n",
       "1  0.0  1.0       1    0  38.0  71.2833           2        0\n",
       "2  1.0  0.0       3    0  26.0   7.9250           1        1\n",
       "3  1.0  0.0       1    0  35.0  53.1000           2        0\n",
       "4  1.0  0.0       3    1  35.0   8.0500           1        1"
      ]
     },
     "execution_count": 9,
     "metadata": {},
     "output_type": "execute_result"
    }
   ],
   "source": [
    "\n",
    "import sklearn.preprocessing as pr\n",
    "ohe = pr.OneHotEncoder()\n",
    "emb = train[\"Embarked\"]\n",
    "print(emb.unique())\n",
    "emb = ohe.fit_transform(train[[\"Embarked\"]]).toarray()\n",
    "train = train.drop([\"Embarked\"],axis=1)\n",
    "emb = pd.DataFrame(emb)\n",
    "train = pd.concat([emb.iloc[:,0:2],train],axis=1)\n",
    "train.head()\n"
   ]
  },
  {
   "cell_type": "code",
   "execution_count": 10,
   "id": "b3b783e0",
   "metadata": {
    "execution": {
     "iopub.execute_input": "2022-09-25T12:34:38.957433Z",
     "iopub.status.busy": "2022-09-25T12:34:38.956880Z",
     "iopub.status.idle": "2022-09-25T12:34:38.964020Z",
     "shell.execute_reply": "2022-09-25T12:34:38.963221Z"
    },
    "papermill": {
     "duration": 0.01616,
     "end_time": "2022-09-25T12:34:38.966081",
     "exception": false,
     "start_time": "2022-09-25T12:34:38.949921",
     "status": "completed"
    },
    "tags": []
   },
   "outputs": [],
   "source": [
    "#Modelin eğitimi ve değerlendirmesi\n",
    "from sklearn.model_selection import train_test_split\n",
    "xtrain,xtest,ytrain,ytest = train_test_split(train,Y,\n",
    "                                             random_state = 42,\n",
    "                                             test_size = 0.3)\n",
    "\n",
    "\n"
   ]
  },
  {
   "cell_type": "code",
   "execution_count": 11,
   "id": "ec1da113",
   "metadata": {
    "execution": {
     "iopub.execute_input": "2022-09-25T12:34:38.978848Z",
     "iopub.status.busy": "2022-09-25T12:34:38.978525Z",
     "iopub.status.idle": "2022-09-25T12:34:38.982883Z",
     "shell.execute_reply": "2022-09-25T12:34:38.981986Z"
    },
    "papermill": {
     "duration": 0.014052,
     "end_time": "2022-09-25T12:34:38.985681",
     "exception": false,
     "start_time": "2022-09-25T12:34:38.971629",
     "status": "completed"
    },
    "tags": []
   },
   "outputs": [],
   "source": [
    "from sklearn.preprocessing import StandardScaler,MinMaxScaler\n",
    "ss = StandardScaler()\n",
    "mms = MinMaxScaler()"
   ]
  },
  {
   "cell_type": "code",
   "execution_count": 12,
   "id": "16cc7e9c",
   "metadata": {
    "execution": {
     "iopub.execute_input": "2022-09-25T12:34:38.999890Z",
     "iopub.status.busy": "2022-09-25T12:34:38.999575Z",
     "iopub.status.idle": "2022-09-25T12:34:40.567197Z",
     "shell.execute_reply": "2022-09-25T12:34:40.566478Z"
    },
    "papermill": {
     "duration": 1.577099,
     "end_time": "2022-09-25T12:34:40.569510",
     "exception": false,
     "start_time": "2022-09-25T12:34:38.992411",
     "status": "completed"
    },
    "tags": []
   },
   "outputs": [
    {
     "name": "stdout",
     "output_type": "stream",
     "text": [
      "[12:34:39] WARNING: ../src/learner.cc:1205: Starting in XGBoost 1.4.0, the default evaluation metric used with the objective 'binary:logitraw' was changed from 'auc' to 'logloss'. Explicitly set eval_metric if you'd like to restore the old behavior.\n"
     ]
    },
    {
     "data": {
      "text/plain": [
       "[0.753731343283582,\n",
       " 0.7798507462686567,\n",
       " 0.8059701492537313,\n",
       " 0.7761194029850746,\n",
       " 0.8022388059701493,\n",
       " 0.8059701492537313,\n",
       " 0.7910447761194029,\n",
       " 0.7611940298507462,\n",
       " 0.7873134328358209]"
      ]
     },
     "execution_count": 12,
     "metadata": {},
     "output_type": "execute_result"
    }
   ],
   "source": [
    "for clf in clfs:\n",
    "    clf.fit(ss.fit_transform(xtrain),ytrain)\n",
    "    score = clf.score(ss.fit_transform(xtest),ytest)\n",
    "    scores.append(score)\n",
    "scores "
   ]
  },
  {
   "cell_type": "code",
   "execution_count": 13,
   "id": "e6e8ab1a",
   "metadata": {
    "execution": {
     "iopub.execute_input": "2022-09-25T12:34:40.584580Z",
     "iopub.status.busy": "2022-09-25T12:34:40.583530Z",
     "iopub.status.idle": "2022-09-25T12:34:40.589605Z",
     "shell.execute_reply": "2022-09-25T12:34:40.588883Z"
    },
    "papermill": {
     "duration": 0.01542,
     "end_time": "2022-09-25T12:34:40.591303",
     "exception": false,
     "start_time": "2022-09-25T12:34:40.575883",
     "status": "completed"
    },
    "tags": []
   },
   "outputs": [
    {
     "data": {
      "text/plain": [
       "\"\\nfrom sklearn.model_selection import GridSearchCV\\n  \\n# defining parameter range\\nparam_grid = {'C': [0.1, 1, 10, 100, 1000], \\n              'gamma': [1, 0.1, 0.01, 0.001, 0.0001],\\n              'kernel': ['rbf']} \\n  \\ngrid = GridSearchCV(SVC(), param_grid, refit = True, verbose = 3)\\n  \\n# fitting the model for grid search\\ngrid.fit(ss.fit_transform(xtrain),ytrain)\\n\\nprint(grid.best_params_)\\nprint(grid.best_estimator_)\\n\""
      ]
     },
     "execution_count": 13,
     "metadata": {},
     "output_type": "execute_result"
    }
   ],
   "source": [
    "\"\"\"\n",
    "from sklearn.model_selection import GridSearchCV\n",
    "  \n",
    "# defining parameter range\n",
    "param_grid = {'C': [0.1, 1, 10, 100, 1000], \n",
    "              'gamma': [1, 0.1, 0.01, 0.001, 0.0001],\n",
    "              'kernel': ['rbf']} \n",
    "  \n",
    "grid = GridSearchCV(SVC(), param_grid, refit = True, verbose = 3)\n",
    "  \n",
    "# fitting the model for grid search\n",
    "grid.fit(ss.fit_transform(xtrain),ytrain)\n",
    "\n",
    "print(grid.best_params_)\n",
    "print(grid.best_estimator_)\n",
    "\"\"\""
   ]
  },
  {
   "cell_type": "code",
   "execution_count": 14,
   "id": "dc670c3d",
   "metadata": {
    "execution": {
     "iopub.execute_input": "2022-09-25T12:34:40.606324Z",
     "iopub.status.busy": "2022-09-25T12:34:40.605285Z",
     "iopub.status.idle": "2022-09-25T12:34:40.611088Z",
     "shell.execute_reply": "2022-09-25T12:34:40.610418Z"
    },
    "papermill": {
     "duration": 0.015542,
     "end_time": "2022-09-25T12:34:40.612881",
     "exception": false,
     "start_time": "2022-09-25T12:34:40.597339",
     "status": "completed"
    },
    "tags": []
   },
   "outputs": [
    {
     "data": {
      "text/plain": [
       "\"\\nfrom sklearn.model_selection import GridSearchCV\\n  \\n# defining parameter range\\nparam_grid = {'C': [0.1, 1, 10, 100, 1000], \\n              'gamma': [1, 0.1, 0.01, 0.001, 0.0001],\\n              'kernel': ['rbf']} \\n  \\ngrid = GridSearchCV(SVC(), param_grid, refit = True, verbose = 3)\\n  \\n# fitting the model for grid search\\ngrid.fit(xtrain,ytrain)\\n\\nprint(grid.best_params_)\\nprint(grid.best_estimator_)\\n\""
      ]
     },
     "execution_count": 14,
     "metadata": {},
     "output_type": "execute_result"
    }
   ],
   "source": [
    "\"\"\"\n",
    "from sklearn.model_selection import GridSearchCV\n",
    "  \n",
    "# defining parameter range\n",
    "param_grid = {'C': [0.1, 1, 10, 100, 1000], \n",
    "              'gamma': [1, 0.1, 0.01, 0.001, 0.0001],\n",
    "              'kernel': ['rbf']} \n",
    "  \n",
    "grid = GridSearchCV(SVC(), param_grid, refit = True, verbose = 3)\n",
    "  \n",
    "# fitting the model for grid search\n",
    "grid.fit(xtrain,ytrain)\n",
    "\n",
    "print(grid.best_params_)\n",
    "print(grid.best_estimator_)\n",
    "\"\"\""
   ]
  },
  {
   "cell_type": "code",
   "execution_count": 15,
   "id": "75f6c716",
   "metadata": {
    "execution": {
     "iopub.execute_input": "2022-09-25T12:34:40.627247Z",
     "iopub.status.busy": "2022-09-25T12:34:40.626353Z",
     "iopub.status.idle": "2022-09-25T12:34:40.659837Z",
     "shell.execute_reply": "2022-09-25T12:34:40.658904Z"
    },
    "papermill": {
     "duration": 0.042996,
     "end_time": "2022-09-25T12:34:40.662071",
     "exception": false,
     "start_time": "2022-09-25T12:34:40.619075",
     "status": "completed"
    },
    "tags": []
   },
   "outputs": [
    {
     "data": {
      "text/html": [
       "<div>\n",
       "<style scoped>\n",
       "    .dataframe tbody tr th:only-of-type {\n",
       "        vertical-align: middle;\n",
       "    }\n",
       "\n",
       "    .dataframe tbody tr th {\n",
       "        vertical-align: top;\n",
       "    }\n",
       "\n",
       "    .dataframe thead th {\n",
       "        text-align: right;\n",
       "    }\n",
       "</style>\n",
       "<table border=\"1\" class=\"dataframe\">\n",
       "  <thead>\n",
       "    <tr style=\"text-align: right;\">\n",
       "      <th></th>\n",
       "      <th>0</th>\n",
       "      <th>1</th>\n",
       "      <th>Pclass</th>\n",
       "      <th>Sex</th>\n",
       "      <th>Age</th>\n",
       "      <th>Fare</th>\n",
       "      <th>FamilySize</th>\n",
       "      <th>IsAlone</th>\n",
       "    </tr>\n",
       "  </thead>\n",
       "  <tbody>\n",
       "    <tr>\n",
       "      <th>0</th>\n",
       "      <td>0.0</td>\n",
       "      <td>1.0</td>\n",
       "      <td>3</td>\n",
       "      <td>1</td>\n",
       "      <td>34.500000</td>\n",
       "      <td>7.8292</td>\n",
       "      <td>1</td>\n",
       "      <td>1</td>\n",
       "    </tr>\n",
       "    <tr>\n",
       "      <th>1</th>\n",
       "      <td>0.0</td>\n",
       "      <td>0.0</td>\n",
       "      <td>3</td>\n",
       "      <td>0</td>\n",
       "      <td>47.000000</td>\n",
       "      <td>7.0000</td>\n",
       "      <td>2</td>\n",
       "      <td>0</td>\n",
       "    </tr>\n",
       "    <tr>\n",
       "      <th>2</th>\n",
       "      <td>0.0</td>\n",
       "      <td>1.0</td>\n",
       "      <td>2</td>\n",
       "      <td>1</td>\n",
       "      <td>62.000000</td>\n",
       "      <td>9.6875</td>\n",
       "      <td>1</td>\n",
       "      <td>1</td>\n",
       "    </tr>\n",
       "    <tr>\n",
       "      <th>3</th>\n",
       "      <td>0.0</td>\n",
       "      <td>0.0</td>\n",
       "      <td>3</td>\n",
       "      <td>1</td>\n",
       "      <td>27.000000</td>\n",
       "      <td>8.6625</td>\n",
       "      <td>1</td>\n",
       "      <td>1</td>\n",
       "    </tr>\n",
       "    <tr>\n",
       "      <th>4</th>\n",
       "      <td>0.0</td>\n",
       "      <td>0.0</td>\n",
       "      <td>3</td>\n",
       "      <td>0</td>\n",
       "      <td>22.000000</td>\n",
       "      <td>12.2875</td>\n",
       "      <td>3</td>\n",
       "      <td>0</td>\n",
       "    </tr>\n",
       "    <tr>\n",
       "      <th>...</th>\n",
       "      <td>...</td>\n",
       "      <td>...</td>\n",
       "      <td>...</td>\n",
       "      <td>...</td>\n",
       "      <td>...</td>\n",
       "      <td>...</td>\n",
       "      <td>...</td>\n",
       "      <td>...</td>\n",
       "    </tr>\n",
       "    <tr>\n",
       "      <th>413</th>\n",
       "      <td>0.0</td>\n",
       "      <td>0.0</td>\n",
       "      <td>3</td>\n",
       "      <td>1</td>\n",
       "      <td>29.881138</td>\n",
       "      <td>8.0500</td>\n",
       "      <td>1</td>\n",
       "      <td>1</td>\n",
       "    </tr>\n",
       "    <tr>\n",
       "      <th>414</th>\n",
       "      <td>1.0</td>\n",
       "      <td>0.0</td>\n",
       "      <td>1</td>\n",
       "      <td>0</td>\n",
       "      <td>39.000000</td>\n",
       "      <td>108.9000</td>\n",
       "      <td>1</td>\n",
       "      <td>1</td>\n",
       "    </tr>\n",
       "    <tr>\n",
       "      <th>415</th>\n",
       "      <td>0.0</td>\n",
       "      <td>0.0</td>\n",
       "      <td>3</td>\n",
       "      <td>1</td>\n",
       "      <td>38.500000</td>\n",
       "      <td>7.2500</td>\n",
       "      <td>1</td>\n",
       "      <td>1</td>\n",
       "    </tr>\n",
       "    <tr>\n",
       "      <th>416</th>\n",
       "      <td>0.0</td>\n",
       "      <td>0.0</td>\n",
       "      <td>3</td>\n",
       "      <td>1</td>\n",
       "      <td>29.881138</td>\n",
       "      <td>8.0500</td>\n",
       "      <td>1</td>\n",
       "      <td>1</td>\n",
       "    </tr>\n",
       "    <tr>\n",
       "      <th>417</th>\n",
       "      <td>1.0</td>\n",
       "      <td>0.0</td>\n",
       "      <td>3</td>\n",
       "      <td>1</td>\n",
       "      <td>29.881138</td>\n",
       "      <td>22.3583</td>\n",
       "      <td>3</td>\n",
       "      <td>0</td>\n",
       "    </tr>\n",
       "  </tbody>\n",
       "</table>\n",
       "<p>418 rows × 8 columns</p>\n",
       "</div>"
      ],
      "text/plain": [
       "       0    1  Pclass  Sex        Age      Fare  FamilySize  IsAlone\n",
       "0    0.0  1.0       3    1  34.500000    7.8292           1        1\n",
       "1    0.0  0.0       3    0  47.000000    7.0000           2        0\n",
       "2    0.0  1.0       2    1  62.000000    9.6875           1        1\n",
       "3    0.0  0.0       3    1  27.000000    8.6625           1        1\n",
       "4    0.0  0.0       3    0  22.000000   12.2875           3        0\n",
       "..   ...  ...     ...  ...        ...       ...         ...      ...\n",
       "413  0.0  0.0       3    1  29.881138    8.0500           1        1\n",
       "414  1.0  0.0       1    0  39.000000  108.9000           1        1\n",
       "415  0.0  0.0       3    1  38.500000    7.2500           1        1\n",
       "416  0.0  0.0       3    1  29.881138    8.0500           1        1\n",
       "417  1.0  0.0       3    1  29.881138   22.3583           3        0\n",
       "\n",
       "[418 rows x 8 columns]"
      ]
     },
     "execution_count": 15,
     "metadata": {},
     "output_type": "execute_result"
    }
   ],
   "source": [
    "\n",
    "#Test verisinin hazırlanması\n",
    "test = test.drop([\"PassengerId\",\"Name\",\"Ticket\",\"Cabin\"],axis=1)\n",
    "test.Embarked = test[[\"Embarked\"]].fillna(data.Embarked.mode()[0])\n",
    "test.Fare = test[[\"Fare\"]].fillna(data.Fare.mean())\n",
    "test.Age = test[[\"Age\"]].fillna(data.Age.mean())\n",
    "test.Sex = (test.Sex == \"male\").astype(int)\n",
    "\n",
    "\n",
    "test_emb = test[[\"Embarked\"]]\n",
    "test_emb = ohe.fit_transform(test_emb).toarray()\n",
    "test_emb = pd.DataFrame(test_emb)\n",
    "test = pd.concat([test_emb.iloc[:,0:2],test],axis = 1)\n",
    "test = test.drop([\"Embarked\"],axis = 1)\n",
    "\n",
    "\n",
    "\n",
    "test[\"FamilySize\"] = test[\"Parch\"] + test[\"SibSp\"] + 1 \n",
    "test.tail()\n",
    "test['IsAlone'] = 0\n",
    "test.loc[test['FamilySize'] == 1, 'IsAlone'] = 1\n",
    "test = test.drop([\"Parch\",\"SibSp\"],axis=1)\n",
    "\n",
    "\n",
    "test"
   ]
  },
  {
   "cell_type": "code",
   "execution_count": 16,
   "id": "5b69f808",
   "metadata": {
    "execution": {
     "iopub.execute_input": "2022-09-25T12:34:40.675776Z",
     "iopub.status.busy": "2022-09-25T12:34:40.675436Z",
     "iopub.status.idle": "2022-09-25T12:34:40.693677Z",
     "shell.execute_reply": "2022-09-25T12:34:40.692661Z"
    },
    "papermill": {
     "duration": 0.027678,
     "end_time": "2022-09-25T12:34:40.695987",
     "exception": false,
     "start_time": "2022-09-25T12:34:40.668309",
     "status": "completed"
    },
    "tags": []
   },
   "outputs": [],
   "source": [
    "knn1 = KNeighborsClassifier(n_neighbors = 3)\n",
    "dtc1 = DecisionTreeClassifier()\n",
    "rfc1 =RandomForestClassifier()\n",
    "Lr1 = LogisticRegression()\n",
    "gnb1 = GaussianNB()\n",
    "mnb1 = MultinomialNB()\n",
    "svc1 = SVC()\n",
    "gnb1.fit(mms.fit_transform(xtrain),ytrain)\n",
    "tahmin = gnb.predict(mms.fit_transform(test))\n",
    "\n",
    "tahmin = pd.DataFrame(tahmin)\n",
    "#tahmin.columns = [\"Survived\"]\n",
    "index = []\n",
    "for i in range(892,1310):\n",
    "    index.append(i)\n",
    "index = pd.DataFrame(index)\n",
    "tahmin = pd.concat([index,tahmin],axis=1)\n",
    "tahmin.columns = [\"PassengerId\",\"Survived\"]\n",
    "tahmin\n",
    "tahmin.to_csv(\"submission.csv\",index = False)\n",
    "\n"
   ]
  }
 ],
 "metadata": {
  "kernelspec": {
   "display_name": "Python 3",
   "language": "python",
   "name": "python3"
  },
  "language_info": {
   "codemirror_mode": {
    "name": "ipython",
    "version": 3
   },
   "file_extension": ".py",
   "mimetype": "text/x-python",
   "name": "python",
   "nbconvert_exporter": "python",
   "pygments_lexer": "ipython3",
   "version": "3.7.12"
  },
  "papermill": {
   "default_parameters": {},
   "duration": 12.328398,
   "end_time": "2022-09-25T12:34:41.322339",
   "environment_variables": {},
   "exception": null,
   "input_path": "__notebook__.ipynb",
   "output_path": "__notebook__.ipynb",
   "parameters": {},
   "start_time": "2022-09-25T12:34:28.993941",
   "version": "2.3.4"
  }
 },
 "nbformat": 4,
 "nbformat_minor": 5
}
