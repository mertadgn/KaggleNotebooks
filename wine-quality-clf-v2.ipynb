{
 "cells": [
  {
   "cell_type": "code",
   "execution_count": 1,
   "id": "2c59890b",
   "metadata": {
    "_cell_guid": "b1076dfc-b9ad-4769-8c92-a6c4dae69d19",
    "_uuid": "8f2839f25d086af736a60e9eeb907d3b93b6e0e5",
    "execution": {
     "iopub.execute_input": "2022-09-25T17:07:12.813743Z",
     "iopub.status.busy": "2022-09-25T17:07:12.812990Z",
     "iopub.status.idle": "2022-09-25T17:07:13.952681Z",
     "shell.execute_reply": "2022-09-25T17:07:13.951481Z"
    },
    "papermill": {
     "duration": 1.151027,
     "end_time": "2022-09-25T17:07:13.955473",
     "exception": false,
     "start_time": "2022-09-25T17:07:12.804446",
     "status": "completed"
    },
    "tags": []
   },
   "outputs": [
    {
     "name": "stdout",
     "output_type": "stream",
     "text": [
      "/kaggle/input/wine-quality-dataset/WineQT.csv\n"
     ]
    }
   ],
   "source": [
    "# This Python 3 environment comes with many helpful analytics libraries installed\n",
    "# It is defined by the kaggle/python Docker image: https://github.com/kaggle/docker-python\n",
    "# For example, here's several helpful packages to load\n",
    "\n",
    "import numpy as np # linear algebra\n",
    "import pandas as pd # data processing, CSV file I/O (e.g. pd.read_csv)\n",
    "import seaborn as sns\n",
    "import warnings\n",
    "import re\n",
    "\n",
    "warnings.filterwarnings(\"ignore\")\n",
    "warnings.filterwarnings('always', category=DeprecationWarning,\n",
    "                        module=r'^{0}\\.'.format(re.escape(__name__)))\n",
    "from collections import Counter\n",
    "\n",
    "\n",
    "# Input data files are available in the read-only \"../input/\" directory\n",
    "# For example, running this (by clicking run or pressing Shift+Enter) will list all files under the input directory\n",
    "\n",
    "import os\n",
    "for dirname, _, filenames in os.walk('/kaggle/input'):\n",
    "    for filename in filenames:\n",
    "        print(os.path.join(dirname, filename))\n",
    "\n",
    "# You can write up to 20GB to the current directory (/kaggle/working/) that gets preserved as output when you create a version using \"Save & Run All\" \n",
    "# You can also write temporary files to /kaggle/temp/, but they won't be saved outside of the current session"
   ]
  },
  {
   "cell_type": "code",
   "execution_count": 2,
   "id": "ee63aff8",
   "metadata": {
    "execution": {
     "iopub.execute_input": "2022-09-25T17:07:13.969411Z",
     "iopub.status.busy": "2022-09-25T17:07:13.969017Z",
     "iopub.status.idle": "2022-09-25T17:07:14.018311Z",
     "shell.execute_reply": "2022-09-25T17:07:14.017162Z"
    },
    "papermill": {
     "duration": 0.05919,
     "end_time": "2022-09-25T17:07:14.020722",
     "exception": false,
     "start_time": "2022-09-25T17:07:13.961532",
     "status": "completed"
    },
    "tags": []
   },
   "outputs": [
    {
     "data": {
      "text/html": [
       "<div>\n",
       "<style scoped>\n",
       "    .dataframe tbody tr th:only-of-type {\n",
       "        vertical-align: middle;\n",
       "    }\n",
       "\n",
       "    .dataframe tbody tr th {\n",
       "        vertical-align: top;\n",
       "    }\n",
       "\n",
       "    .dataframe thead th {\n",
       "        text-align: right;\n",
       "    }\n",
       "</style>\n",
       "<table border=\"1\" class=\"dataframe\">\n",
       "  <thead>\n",
       "    <tr style=\"text-align: right;\">\n",
       "      <th></th>\n",
       "      <th>fixed acidity</th>\n",
       "      <th>volatile acidity</th>\n",
       "      <th>citric acid</th>\n",
       "      <th>residual sugar</th>\n",
       "      <th>chlorides</th>\n",
       "      <th>free sulfur dioxide</th>\n",
       "      <th>total sulfur dioxide</th>\n",
       "      <th>density</th>\n",
       "      <th>pH</th>\n",
       "      <th>sulphates</th>\n",
       "      <th>alcohol</th>\n",
       "      <th>quality</th>\n",
       "      <th>Id</th>\n",
       "    </tr>\n",
       "  </thead>\n",
       "  <tbody>\n",
       "    <tr>\n",
       "      <th>0</th>\n",
       "      <td>7.4</td>\n",
       "      <td>0.700</td>\n",
       "      <td>0.00</td>\n",
       "      <td>1.9</td>\n",
       "      <td>0.076</td>\n",
       "      <td>11.0</td>\n",
       "      <td>34.0</td>\n",
       "      <td>0.99780</td>\n",
       "      <td>3.51</td>\n",
       "      <td>0.56</td>\n",
       "      <td>9.4</td>\n",
       "      <td>5</td>\n",
       "      <td>0</td>\n",
       "    </tr>\n",
       "    <tr>\n",
       "      <th>1</th>\n",
       "      <td>7.8</td>\n",
       "      <td>0.880</td>\n",
       "      <td>0.00</td>\n",
       "      <td>2.6</td>\n",
       "      <td>0.098</td>\n",
       "      <td>25.0</td>\n",
       "      <td>67.0</td>\n",
       "      <td>0.99680</td>\n",
       "      <td>3.20</td>\n",
       "      <td>0.68</td>\n",
       "      <td>9.8</td>\n",
       "      <td>5</td>\n",
       "      <td>1</td>\n",
       "    </tr>\n",
       "    <tr>\n",
       "      <th>2</th>\n",
       "      <td>7.8</td>\n",
       "      <td>0.760</td>\n",
       "      <td>0.04</td>\n",
       "      <td>2.3</td>\n",
       "      <td>0.092</td>\n",
       "      <td>15.0</td>\n",
       "      <td>54.0</td>\n",
       "      <td>0.99700</td>\n",
       "      <td>3.26</td>\n",
       "      <td>0.65</td>\n",
       "      <td>9.8</td>\n",
       "      <td>5</td>\n",
       "      <td>2</td>\n",
       "    </tr>\n",
       "    <tr>\n",
       "      <th>3</th>\n",
       "      <td>11.2</td>\n",
       "      <td>0.280</td>\n",
       "      <td>0.56</td>\n",
       "      <td>1.9</td>\n",
       "      <td>0.075</td>\n",
       "      <td>17.0</td>\n",
       "      <td>60.0</td>\n",
       "      <td>0.99800</td>\n",
       "      <td>3.16</td>\n",
       "      <td>0.58</td>\n",
       "      <td>9.8</td>\n",
       "      <td>6</td>\n",
       "      <td>3</td>\n",
       "    </tr>\n",
       "    <tr>\n",
       "      <th>4</th>\n",
       "      <td>7.4</td>\n",
       "      <td>0.700</td>\n",
       "      <td>0.00</td>\n",
       "      <td>1.9</td>\n",
       "      <td>0.076</td>\n",
       "      <td>11.0</td>\n",
       "      <td>34.0</td>\n",
       "      <td>0.99780</td>\n",
       "      <td>3.51</td>\n",
       "      <td>0.56</td>\n",
       "      <td>9.4</td>\n",
       "      <td>5</td>\n",
       "      <td>4</td>\n",
       "    </tr>\n",
       "    <tr>\n",
       "      <th>...</th>\n",
       "      <td>...</td>\n",
       "      <td>...</td>\n",
       "      <td>...</td>\n",
       "      <td>...</td>\n",
       "      <td>...</td>\n",
       "      <td>...</td>\n",
       "      <td>...</td>\n",
       "      <td>...</td>\n",
       "      <td>...</td>\n",
       "      <td>...</td>\n",
       "      <td>...</td>\n",
       "      <td>...</td>\n",
       "      <td>...</td>\n",
       "    </tr>\n",
       "    <tr>\n",
       "      <th>1138</th>\n",
       "      <td>6.3</td>\n",
       "      <td>0.510</td>\n",
       "      <td>0.13</td>\n",
       "      <td>2.3</td>\n",
       "      <td>0.076</td>\n",
       "      <td>29.0</td>\n",
       "      <td>40.0</td>\n",
       "      <td>0.99574</td>\n",
       "      <td>3.42</td>\n",
       "      <td>0.75</td>\n",
       "      <td>11.0</td>\n",
       "      <td>6</td>\n",
       "      <td>1592</td>\n",
       "    </tr>\n",
       "    <tr>\n",
       "      <th>1139</th>\n",
       "      <td>6.8</td>\n",
       "      <td>0.620</td>\n",
       "      <td>0.08</td>\n",
       "      <td>1.9</td>\n",
       "      <td>0.068</td>\n",
       "      <td>28.0</td>\n",
       "      <td>38.0</td>\n",
       "      <td>0.99651</td>\n",
       "      <td>3.42</td>\n",
       "      <td>0.82</td>\n",
       "      <td>9.5</td>\n",
       "      <td>6</td>\n",
       "      <td>1593</td>\n",
       "    </tr>\n",
       "    <tr>\n",
       "      <th>1140</th>\n",
       "      <td>6.2</td>\n",
       "      <td>0.600</td>\n",
       "      <td>0.08</td>\n",
       "      <td>2.0</td>\n",
       "      <td>0.090</td>\n",
       "      <td>32.0</td>\n",
       "      <td>44.0</td>\n",
       "      <td>0.99490</td>\n",
       "      <td>3.45</td>\n",
       "      <td>0.58</td>\n",
       "      <td>10.5</td>\n",
       "      <td>5</td>\n",
       "      <td>1594</td>\n",
       "    </tr>\n",
       "    <tr>\n",
       "      <th>1141</th>\n",
       "      <td>5.9</td>\n",
       "      <td>0.550</td>\n",
       "      <td>0.10</td>\n",
       "      <td>2.2</td>\n",
       "      <td>0.062</td>\n",
       "      <td>39.0</td>\n",
       "      <td>51.0</td>\n",
       "      <td>0.99512</td>\n",
       "      <td>3.52</td>\n",
       "      <td>0.76</td>\n",
       "      <td>11.2</td>\n",
       "      <td>6</td>\n",
       "      <td>1595</td>\n",
       "    </tr>\n",
       "    <tr>\n",
       "      <th>1142</th>\n",
       "      <td>5.9</td>\n",
       "      <td>0.645</td>\n",
       "      <td>0.12</td>\n",
       "      <td>2.0</td>\n",
       "      <td>0.075</td>\n",
       "      <td>32.0</td>\n",
       "      <td>44.0</td>\n",
       "      <td>0.99547</td>\n",
       "      <td>3.57</td>\n",
       "      <td>0.71</td>\n",
       "      <td>10.2</td>\n",
       "      <td>5</td>\n",
       "      <td>1597</td>\n",
       "    </tr>\n",
       "  </tbody>\n",
       "</table>\n",
       "<p>1143 rows × 13 columns</p>\n",
       "</div>"
      ],
      "text/plain": [
       "      fixed acidity  volatile acidity  citric acid  residual sugar  chlorides  \\\n",
       "0               7.4             0.700         0.00             1.9      0.076   \n",
       "1               7.8             0.880         0.00             2.6      0.098   \n",
       "2               7.8             0.760         0.04             2.3      0.092   \n",
       "3              11.2             0.280         0.56             1.9      0.075   \n",
       "4               7.4             0.700         0.00             1.9      0.076   \n",
       "...             ...               ...          ...             ...        ...   \n",
       "1138            6.3             0.510         0.13             2.3      0.076   \n",
       "1139            6.8             0.620         0.08             1.9      0.068   \n",
       "1140            6.2             0.600         0.08             2.0      0.090   \n",
       "1141            5.9             0.550         0.10             2.2      0.062   \n",
       "1142            5.9             0.645         0.12             2.0      0.075   \n",
       "\n",
       "      free sulfur dioxide  total sulfur dioxide  density    pH  sulphates  \\\n",
       "0                    11.0                  34.0  0.99780  3.51       0.56   \n",
       "1                    25.0                  67.0  0.99680  3.20       0.68   \n",
       "2                    15.0                  54.0  0.99700  3.26       0.65   \n",
       "3                    17.0                  60.0  0.99800  3.16       0.58   \n",
       "4                    11.0                  34.0  0.99780  3.51       0.56   \n",
       "...                   ...                   ...      ...   ...        ...   \n",
       "1138                 29.0                  40.0  0.99574  3.42       0.75   \n",
       "1139                 28.0                  38.0  0.99651  3.42       0.82   \n",
       "1140                 32.0                  44.0  0.99490  3.45       0.58   \n",
       "1141                 39.0                  51.0  0.99512  3.52       0.76   \n",
       "1142                 32.0                  44.0  0.99547  3.57       0.71   \n",
       "\n",
       "      alcohol  quality    Id  \n",
       "0         9.4        5     0  \n",
       "1         9.8        5     1  \n",
       "2         9.8        5     2  \n",
       "3         9.8        6     3  \n",
       "4         9.4        5     4  \n",
       "...       ...      ...   ...  \n",
       "1138     11.0        6  1592  \n",
       "1139      9.5        6  1593  \n",
       "1140     10.5        5  1594  \n",
       "1141     11.2        6  1595  \n",
       "1142     10.2        5  1597  \n",
       "\n",
       "[1143 rows x 13 columns]"
      ]
     },
     "execution_count": 2,
     "metadata": {},
     "output_type": "execute_result"
    }
   ],
   "source": [
    "data = pd.read_csv(\"../input/wine-quality-dataset/WineQT.csv\")\n",
    "data"
   ]
  },
  {
   "cell_type": "code",
   "execution_count": 3,
   "id": "bf1c896c",
   "metadata": {
    "execution": {
     "iopub.execute_input": "2022-09-25T17:07:14.034375Z",
     "iopub.status.busy": "2022-09-25T17:07:14.033774Z",
     "iopub.status.idle": "2022-09-25T17:07:14.057910Z",
     "shell.execute_reply": "2022-09-25T17:07:14.056790Z"
    },
    "papermill": {
     "duration": 0.033805,
     "end_time": "2022-09-25T17:07:14.060525",
     "exception": false,
     "start_time": "2022-09-25T17:07:14.026720",
     "status": "completed"
    },
    "tags": []
   },
   "outputs": [
    {
     "name": "stdout",
     "output_type": "stream",
     "text": [
      "<class 'pandas.core.frame.DataFrame'>\n",
      "RangeIndex: 1143 entries, 0 to 1142\n",
      "Data columns (total 13 columns):\n",
      " #   Column                Non-Null Count  Dtype  \n",
      "---  ------                --------------  -----  \n",
      " 0   fixed acidity         1143 non-null   float64\n",
      " 1   volatile acidity      1143 non-null   float64\n",
      " 2   citric acid           1143 non-null   float64\n",
      " 3   residual sugar        1143 non-null   float64\n",
      " 4   chlorides             1143 non-null   float64\n",
      " 5   free sulfur dioxide   1143 non-null   float64\n",
      " 6   total sulfur dioxide  1143 non-null   float64\n",
      " 7   density               1143 non-null   float64\n",
      " 8   pH                    1143 non-null   float64\n",
      " 9   sulphates             1143 non-null   float64\n",
      " 10  alcohol               1143 non-null   float64\n",
      " 11  quality               1143 non-null   int64  \n",
      " 12  Id                    1143 non-null   int64  \n",
      "dtypes: float64(11), int64(2)\n",
      "memory usage: 116.2 KB\n"
     ]
    }
   ],
   "source": [
    "data.info()"
   ]
  },
  {
   "cell_type": "markdown",
   "id": "4fe792bc",
   "metadata": {
    "papermill": {
     "duration": 0.005904,
     "end_time": "2022-09-25T17:07:14.072640",
     "exception": false,
     "start_time": "2022-09-25T17:07:14.066736",
     "status": "completed"
    },
    "tags": []
   },
   "source": [
    "# Missing data\n",
    "We have no missing data\n"
   ]
  },
  {
   "cell_type": "code",
   "execution_count": 4,
   "id": "b2ccf8d8",
   "metadata": {
    "execution": {
     "iopub.execute_input": "2022-09-25T17:07:14.085934Z",
     "iopub.status.busy": "2022-09-25T17:07:14.085540Z",
     "iopub.status.idle": "2022-09-25T17:07:14.098056Z",
     "shell.execute_reply": "2022-09-25T17:07:14.097210Z"
    },
    "papermill": {
     "duration": 0.021874,
     "end_time": "2022-09-25T17:07:14.100304",
     "exception": false,
     "start_time": "2022-09-25T17:07:14.078430",
     "status": "completed"
    },
    "tags": []
   },
   "outputs": [
    {
     "data": {
      "text/plain": [
       "array([1, 2])"
      ]
     },
     "execution_count": 4,
     "metadata": {},
     "output_type": "execute_result"
    }
   ],
   "source": [
    "for i in [3,4,5]:\n",
    "    data[\"quality\"] = data[\"quality\"].replace(i,1)\n",
    "for i in [6,7,8]:\n",
    "    data[\"quality\"] = data[\"quality\"].replace(i,2)\n",
    "    \n",
    "data.quality.unique()"
   ]
  },
  {
   "cell_type": "code",
   "execution_count": 5,
   "id": "5192ee61",
   "metadata": {
    "execution": {
     "iopub.execute_input": "2022-09-25T17:07:14.114870Z",
     "iopub.status.busy": "2022-09-25T17:07:14.113850Z",
     "iopub.status.idle": "2022-09-25T17:07:14.123093Z",
     "shell.execute_reply": "2022-09-25T17:07:14.121951Z"
    },
    "papermill": {
     "duration": 0.018775,
     "end_time": "2022-09-25T17:07:14.125151",
     "exception": false,
     "start_time": "2022-09-25T17:07:14.106376",
     "status": "completed"
    },
    "tags": []
   },
   "outputs": [
    {
     "data": {
      "text/plain": [
       "Index(['fixed acidity', 'volatile acidity', 'citric acid', 'residual sugar',\n",
       "       'chlorides', 'free sulfur dioxide', 'total sulfur dioxide', 'density',\n",
       "       'pH', 'sulphates', 'alcohol', 'quality'],\n",
       "      dtype='object')"
      ]
     },
     "execution_count": 5,
     "metadata": {},
     "output_type": "execute_result"
    }
   ],
   "source": [
    "data = data.drop([\"Id\"],axis=1)\n",
    "data.columns"
   ]
  },
  {
   "cell_type": "code",
   "execution_count": 6,
   "id": "04478fd1",
   "metadata": {
    "execution": {
     "iopub.execute_input": "2022-09-25T17:07:14.139518Z",
     "iopub.status.busy": "2022-09-25T17:07:14.138574Z",
     "iopub.status.idle": "2022-09-25T17:07:14.587278Z",
     "shell.execute_reply": "2022-09-25T17:07:14.586192Z"
    },
    "papermill": {
     "duration": 0.458368,
     "end_time": "2022-09-25T17:07:14.589867",
     "exception": false,
     "start_time": "2022-09-25T17:07:14.131499",
     "status": "completed"
    },
    "tags": []
   },
   "outputs": [
    {
     "data": {
      "text/plain": [
       "<AxesSubplot:>"
      ]
     },
     "execution_count": 6,
     "metadata": {},
     "output_type": "execute_result"
    },
    {
     "data": {
      "image/png": "[encoded data removed]",
      "text/plain": [
       "<Figure size 432x288 with 2 Axes>"
      ]
     },
     "metadata": {
      "needs_background": "light"
     },
     "output_type": "display_data"
    }
   ],
   "source": [
    "corr = data.corr()\n",
    "sns.heatmap(corr)"
   ]
  },
  {
   "cell_type": "code",
   "execution_count": 7,
   "id": "b308f522",
   "metadata": {
    "execution": {
     "iopub.execute_input": "2022-09-25T17:07:14.605644Z",
     "iopub.status.busy": "2022-09-25T17:07:14.605245Z",
     "iopub.status.idle": "2022-09-25T17:07:14.609455Z",
     "shell.execute_reply": "2022-09-25T17:07:14.608470Z"
    },
    "papermill": {
     "duration": 0.014858,
     "end_time": "2022-09-25T17:07:14.611749",
     "exception": false,
     "start_time": "2022-09-25T17:07:14.596891",
     "status": "completed"
    },
    "tags": []
   },
   "outputs": [],
   "source": [
    "#Y = data[[\"quality\"]]\n",
    "#data = data.drop([\"quality\"],axis = 1)"
   ]
  },
  {
   "cell_type": "code",
   "execution_count": 8,
   "id": "dc9a1008",
   "metadata": {
    "execution": {
     "iopub.execute_input": "2022-09-25T17:07:14.627114Z",
     "iopub.status.busy": "2022-09-25T17:07:14.626741Z",
     "iopub.status.idle": "2022-09-25T17:07:14.821217Z",
     "shell.execute_reply": "2022-09-25T17:07:14.819836Z"
    },
    "papermill": {
     "duration": 0.205619,
     "end_time": "2022-09-25T17:07:14.824239",
     "exception": false,
     "start_time": "2022-09-25T17:07:14.618620",
     "status": "completed"
    },
    "tags": []
   },
   "outputs": [
    {
     "data": {
      "text/plain": [
       "<AxesSubplot:xlabel='count', ylabel='quality'>"
      ]
     },
     "execution_count": 8,
     "metadata": {},
     "output_type": "execute_result"
    },
    {
     "data": {
      "image/png": "[encoded data removed]",
      "text/plain": [
       "<Figure size 432x288 with 1 Axes>"
      ]
     },
     "metadata": {
      "needs_background": "light"
     },
     "output_type": "display_data"
    }
   ],
   "source": [
    "sns.countplot(data=data ,y = data[\"quality\"])"
   ]
  },
  {
   "cell_type": "markdown",
   "id": "babe1140",
   "metadata": {
    "papermill": {
     "duration": 0.010074,
     "end_time": "2022-09-25T17:07:14.842890",
     "exception": false,
     "start_time": "2022-09-25T17:07:14.832816",
     "status": "completed"
    },
    "tags": []
   },
   "source": [
    "# Outlier Detecetion\n",
    "Outlier detection with z score "
   ]
  },
  {
   "cell_type": "code",
   "execution_count": 9,
   "id": "70405149",
   "metadata": {
    "execution": {
     "iopub.execute_input": "2022-09-25T17:07:14.860213Z",
     "iopub.status.busy": "2022-09-25T17:07:14.859803Z",
     "iopub.status.idle": "2022-09-25T17:07:14.867808Z",
     "shell.execute_reply": "2022-09-25T17:07:14.866849Z"
    },
    "papermill": {
     "duration": 0.01834,
     "end_time": "2022-09-25T17:07:14.869930",
     "exception": false,
     "start_time": "2022-09-25T17:07:14.851590",
     "status": "completed"
    },
    "tags": []
   },
   "outputs": [],
   "source": [
    "def detect_outliers(df,features):\n",
    "    outlier_indices = []\n",
    "    \n",
    "    for c in features:\n",
    "        # 1st quartile\n",
    "        Q1 = np.percentile(df[c],25)\n",
    "        # 3rd quartile\n",
    "        Q3 = np.percentile(df[c],75)\n",
    "        # IQR\n",
    "        IQR = Q3 - Q1\n",
    "        # Outlier step\n",
    "        outlier_step = IQR * 1.5\n",
    "        # detect outlier and their indeces\n",
    "        outlier_list_col = df[(df[c] < Q1 - outlier_step) | (df[c] > Q3 + outlier_step)].index\n",
    "        # store indeces\n",
    "        outlier_indices.extend(outlier_list_col)\n",
    "    \n",
    "    outlier_indices = Counter(outlier_indices)\n",
    "    multiple_outliers = list(i for i, v in outlier_indices.items() if v > 2)\n",
    "    \n",
    "    return multiple_outliers"
   ]
  },
  {
   "cell_type": "code",
   "execution_count": 10,
   "id": "b6f18f0b",
   "metadata": {
    "execution": {
     "iopub.execute_input": "2022-09-25T17:07:14.886950Z",
     "iopub.status.busy": "2022-09-25T17:07:14.886246Z",
     "iopub.status.idle": "2022-09-25T17:07:14.906307Z",
     "shell.execute_reply": "2022-09-25T17:07:14.905154Z"
    },
    "papermill": {
     "duration": 0.03024,
     "end_time": "2022-09-25T17:07:14.908652",
     "exception": false,
     "start_time": "2022-09-25T17:07:14.878412",
     "status": "completed"
    },
    "tags": []
   },
   "outputs": [
    {
     "name": "stdout",
     "output_type": "stream",
     "text": [
      "[248, 259, 260, 311, 382, 397, 399, 400, 404, 462, 103, 275, 278, 289, 366, 787, 965, 1022, 1051, 1053, 1111, 493, 934, 419, 589, 898]\n"
     ]
    }
   ],
   "source": [
    "outliers = detect_outliers(data,['fixed acidity', 'volatile acidity', 'citric acid', 'residual sugar',\n",
    "       'chlorides', 'free sulfur dioxide', 'total sulfur dioxide', 'density',\n",
    "       'pH', 'sulphates', 'alcohol'])\n",
    "data.iloc[outliers,:]\n",
    "print(outliers)\n"
   ]
  },
  {
   "cell_type": "code",
   "execution_count": 11,
   "id": "92311bd4",
   "metadata": {
    "execution": {
     "iopub.execute_input": "2022-09-25T17:07:14.926416Z",
     "iopub.status.busy": "2022-09-25T17:07:14.925435Z",
     "iopub.status.idle": "2022-09-25T17:07:14.931560Z",
     "shell.execute_reply": "2022-09-25T17:07:14.930776Z"
    },
    "papermill": {
     "duration": 0.016353,
     "end_time": "2022-09-25T17:07:14.933539",
     "exception": false,
     "start_time": "2022-09-25T17:07:14.917186",
     "status": "completed"
    },
    "tags": []
   },
   "outputs": [],
   "source": [
    "data = data.drop(outliers,axis=0)\n",
    "Y = data[[\"quality\"]]"
   ]
  },
  {
   "cell_type": "markdown",
   "id": "f77546b8",
   "metadata": {
    "papermill": {
     "duration": 0.006967,
     "end_time": "2022-09-25T17:07:14.947548",
     "exception": false,
     "start_time": "2022-09-25T17:07:14.940581",
     "status": "completed"
    },
    "tags": []
   },
   "source": [
    "# Training the model"
   ]
  },
  {
   "cell_type": "code",
   "execution_count": 12,
   "id": "b0e153e3",
   "metadata": {
    "execution": {
     "iopub.execute_input": "2022-09-25T17:07:14.964095Z",
     "iopub.status.busy": "2022-09-25T17:07:14.963324Z",
     "iopub.status.idle": "2022-09-25T17:07:15.463334Z",
     "shell.execute_reply": "2022-09-25T17:07:15.462411Z"
    },
    "papermill": {
     "duration": 0.511366,
     "end_time": "2022-09-25T17:07:15.466031",
     "exception": false,
     "start_time": "2022-09-25T17:07:14.954665",
     "status": "completed"
    },
    "tags": []
   },
   "outputs": [],
   "source": [
    "from sklearn.linear_model import LogisticRegression\n",
    "from sklearn.naive_bayes import GaussianNB\n",
    "from sklearn.naive_bayes import MultinomialNB\n",
    "from sklearn.tree import DecisionTreeClassifier\n",
    "from sklearn.ensemble import RandomForestClassifier\n",
    "from xgboost import XGBClassifier\n",
    "from sklearn.ensemble import AdaBoostClassifier\n",
    "from sklearn.model_selection import GridSearchCV,train_test_split,StratifiedKFold\n",
    "from sklearn.metrics import accuracy_score\n",
    "from sklearn.svm import SVC\n",
    "from sklearn.neighbors import KNeighborsClassifier\n"
   ]
  },
  {
   "cell_type": "code",
   "execution_count": 13,
   "id": "56a5962a",
   "metadata": {
    "execution": {
     "iopub.execute_input": "2022-09-25T17:07:15.482213Z",
     "iopub.status.busy": "2022-09-25T17:07:15.481643Z",
     "iopub.status.idle": "2022-09-25T17:07:15.491696Z",
     "shell.execute_reply": "2022-09-25T17:07:15.490648Z"
    },
    "papermill": {
     "duration": 0.020783,
     "end_time": "2022-09-25T17:07:15.493997",
     "exception": false,
     "start_time": "2022-09-25T17:07:15.473214",
     "status": "completed"
    },
    "tags": []
   },
   "outputs": [],
   "source": [
    "random_state = 61\n",
    "clfs = [DecisionTreeClassifier(random_state = random_state),\n",
    "        SVC(random_state = random_state),\n",
    "        RandomForestClassifier(random_state = random_state),\n",
    "        LogisticRegression(random_state = random_state),\n",
    "        KNeighborsClassifier()]\n",
    "\n",
    "dt_param_grid = {\"min_samples_split\" : range(10,500,20),\n",
    "                \"max_depth\": range(1,20,2)}\n",
    "\n",
    "svc_param_grid = {\"kernel\" : [\"rbf\"],\n",
    "                 \"gamma\": [0.001, 0.01, 0.1, 1],\n",
    "                 \"C\": [1,10,50,100,200,300,1000]}\n",
    "\n",
    "rf_param_grid = {\"max_features\": [1,3,10],\n",
    "                \"min_samples_split\":[2,3,10],\n",
    "                \"min_samples_leaf\":[1,3,10],\n",
    "                \"bootstrap\":[False],\n",
    "                \"n_estimators\":[100,300],\n",
    "                \"criterion\":[\"gini\"]}\n",
    "\n",
    "logreg_param_grid = {\"C\":np.logspace(-3,3,7),\n",
    "                    \"penalty\": [\"l1\",\"l2\"]}\n",
    "\n",
    "knn_param_grid = {\"n_neighbors\": np.linspace(1,19,10, dtype = int).tolist(),\n",
    "                 \"weights\": [\"uniform\",\"distance\"],\n",
    "                 \"metric\":[\"euclidean\",\"manhattan\"]}\n",
    "classifier_param = [dt_param_grid,\n",
    "                   svc_param_grid,\n",
    "                   rf_param_grid,\n",
    "                   logreg_param_grid,\n",
    "                   knn_param_grid]"
   ]
  },
  {
   "cell_type": "code",
   "execution_count": 14,
   "id": "45450fba",
   "metadata": {
    "execution": {
     "iopub.execute_input": "2022-09-25T17:07:15.511073Z",
     "iopub.status.busy": "2022-09-25T17:07:15.510021Z",
     "iopub.status.idle": "2022-09-25T17:07:15.516846Z",
     "shell.execute_reply": "2022-09-25T17:07:15.516088Z"
    },
    "papermill": {
     "duration": 0.017279,
     "end_time": "2022-09-25T17:07:15.518890",
     "exception": false,
     "start_time": "2022-09-25T17:07:15.501611",
     "status": "completed"
    },
    "tags": []
   },
   "outputs": [],
   "source": [
    "X_train,X_test,Y_train,Y_test = train_test_split(data.drop([\"quality\"],axis=1),Y)"
   ]
  },
  {
   "cell_type": "code",
   "execution_count": 15,
   "id": "c896db4e",
   "metadata": {
    "execution": {
     "iopub.execute_input": "2022-09-25T17:07:15.534848Z",
     "iopub.status.busy": "2022-09-25T17:07:15.534237Z",
     "iopub.status.idle": "2022-09-25T17:07:16.120402Z",
     "shell.execute_reply": "2022-09-25T17:07:16.119166Z"
    },
    "papermill": {
     "duration": 0.596798,
     "end_time": "2022-09-25T17:07:16.122810",
     "exception": false,
     "start_time": "2022-09-25T17:07:15.526012",
     "status": "completed"
    },
    "tags": []
   },
   "outputs": [
    {
     "data": {
      "text/plain": [
       "<AxesSubplot:>"
      ]
     },
     "execution_count": 15,
     "metadata": {},
     "output_type": "execute_result"
    },
    {
     "data": {
      "image/png": "[encoded data removed]",
      "text/plain": [
       "<Figure size 432x288 with 1 Axes>"
      ]
     },
     "metadata": {
      "needs_background": "light"
     },
     "output_type": "display_data"
    }
   ],
   "source": [
    "scores = []\n",
    "for clf in clfs:\n",
    "    clf.fit(X_train,Y_train)\n",
    "    scores.append(clf.score(X_test,Y_test))\n",
    "scores = pd.DataFrame(scores) *100\n",
    "scores\n",
    "sns.barplot(data = scores.T)"
   ]
  },
  {
   "cell_type": "code",
   "execution_count": 16,
   "id": "143f65bf",
   "metadata": {
    "execution": {
     "iopub.execute_input": "2022-09-25T17:07:16.139620Z",
     "iopub.status.busy": "2022-09-25T17:07:16.139212Z",
     "iopub.status.idle": "2022-09-25T17:09:59.688680Z",
     "shell.execute_reply": "2022-09-25T17:09:59.687908Z"
    },
    "papermill": {
     "duration": 163.56801,
     "end_time": "2022-09-25T17:09:59.698257",
     "exception": false,
     "start_time": "2022-09-25T17:07:16.130247",
     "status": "completed"
    },
    "tags": []
   },
   "outputs": [
    {
     "name": "stdout",
     "output_type": "stream",
     "text": [
      "[DecisionTreeClassifier(max_depth=5, min_samples_split=110, random_state=61), SVC(C=300, gamma=0.001, random_state=61), RandomForestClassifier(bootstrap=False, max_features=3, min_samples_split=10,\n",
      "                       random_state=61), LogisticRegression(C=100.0, random_state=61), KNeighborsClassifier(metric='manhattan', n_neighbors=17, weights='distance')]\n"
     ]
    }
   ],
   "source": [
    "best_estimator = []\n",
    "best_scores = []\n",
    "for i in range(len(clfs)):\n",
    "    clf = GridSearchCV(clfs[i],\n",
    "                      classifier_param[i])\n",
    "    clf.fit(X_train,Y_train)\n",
    "    best_scores.append(clf.best_score_)\n",
    "    best_estimator.append(clf.best_estimator_)\n",
    "\n",
    "print(best_estimator)\n"
   ]
  },
  {
   "cell_type": "code",
   "execution_count": 17,
   "id": "4f170caa",
   "metadata": {
    "execution": {
     "iopub.execute_input": "2022-09-25T17:09:59.715558Z",
     "iopub.status.busy": "2022-09-25T17:09:59.714977Z",
     "iopub.status.idle": "2022-09-25T17:09:59.928619Z",
     "shell.execute_reply": "2022-09-25T17:09:59.927430Z"
    },
    "papermill": {
     "duration": 0.225346,
     "end_time": "2022-09-25T17:09:59.931379",
     "exception": false,
     "start_time": "2022-09-25T17:09:59.706033",
     "status": "completed"
    },
    "tags": []
   },
   "outputs": [
    {
     "name": "stdout",
     "output_type": "stream",
     "text": [
      "[DecisionTreeClassifier(max_depth=5, min_samples_split=110, random_state=61), SVC(C=300, gamma=0.001, random_state=61), RandomForestClassifier(bootstrap=False, max_features=3, min_samples_split=10,\n",
      "                       random_state=61), LogisticRegression(C=100.0, random_state=61), KNeighborsClassifier(metric='manhattan', n_neighbors=17, weights='distance')]\n",
      "[0.7323495865412033, 0.7526447105788423, 0.7872825777017394, 0.7598160821214714, 0.7491231822070145]\n"
     ]
    },
    {
     "data": {
      "text/plain": [
       "<AxesSubplot:>"
      ]
     },
     "execution_count": 17,
     "metadata": {},
     "output_type": "execute_result"
    },
    {
     "data": {
      "image/png": "[encoded data removed]",
      "text/plain": [
       "<Figure size 432x288 with 1 Axes>"
      ]
     },
     "metadata": {
      "needs_background": "light"
     },
     "output_type": "display_data"
    }
   ],
   "source": [
    "print(best_estimator)\n",
    "print(best_scores)\n",
    "sns.barplot(data=pd.DataFrame(best_scores).T)"
   ]
  },
  {
   "cell_type": "code",
   "execution_count": 18,
   "id": "22e63863",
   "metadata": {
    "execution": {
     "iopub.execute_input": "2022-09-25T17:09:59.949307Z",
     "iopub.status.busy": "2022-09-25T17:09:59.948883Z",
     "iopub.status.idle": "2022-09-25T17:09:59.955898Z",
     "shell.execute_reply": "2022-09-25T17:09:59.954858Z"
    },
    "papermill": {
     "duration": 0.018523,
     "end_time": "2022-09-25T17:09:59.958166",
     "exception": false,
     "start_time": "2022-09-25T17:09:59.939643",
     "status": "completed"
    },
    "tags": []
   },
   "outputs": [
    {
     "data": {
      "text/plain": [
       "'\\ncv_result = []\\nbest_estimators = []\\nfor i in range(len(clfs)):\\n    clf = GridSearchCV(clfs[i], param_grid=classifier_param[i], cv = StratifiedKFold(n_splits = 10), scoring = \"accuracy\", n_jobs = -1,verbose = 1)\\n    clf.fit(X_train,Y_train)\\n    cv_result.append(clf.best_score_)\\n    best_estimators.append(clf.best_estimator_)\\n    print(cv_result[i])\\n'"
      ]
     },
     "execution_count": 18,
     "metadata": {},
     "output_type": "execute_result"
    }
   ],
   "source": [
    "\"\"\"\n",
    "cv_result = []\n",
    "best_estimators = []\n",
    "for i in range(len(clfs)):\n",
    "    clf = GridSearchCV(clfs[i], param_grid=classifier_param[i], cv = StratifiedKFold(n_splits = 10), scoring = \"accuracy\", n_jobs = -1,verbose = 1)\n",
    "    clf.fit(X_train,Y_train)\n",
    "    cv_result.append(clf.best_score_)\n",
    "    best_estimators.append(clf.best_estimator_)\n",
    "    print(cv_result[i])\n",
    "\"\"\""
   ]
  },
  {
   "cell_type": "code",
   "execution_count": 19,
   "id": "d0b534a0",
   "metadata": {
    "execution": {
     "iopub.execute_input": "2022-09-25T17:09:59.975325Z",
     "iopub.status.busy": "2022-09-25T17:09:59.974970Z",
     "iopub.status.idle": "2022-09-25T17:09:59.981567Z",
     "shell.execute_reply": "2022-09-25T17:09:59.980457Z"
    },
    "papermill": {
     "duration": 0.017849,
     "end_time": "2022-09-25T17:09:59.983822",
     "exception": false,
     "start_time": "2022-09-25T17:09:59.965973",
     "status": "completed"
    },
    "tags": []
   },
   "outputs": [
    {
     "data": {
      "text/plain": [
       "'\\ncv_results = pd.DataFrame({\"Cross Validation Means\":cv_result, \"ML Models\":[\"DecisionTreeClassifier\", \"SVM\",\"RandomForestClassifier\",\\n             \"LogisticRegression\",\\n             \"KNeighborsClassifier\"]})\\n\\ng = sns.barplot(\"Cross Validation Means\", \"ML Models\", data = cv_results)\\ng.set_xlabel(\"Mean Accuracy\")\\ng.set_title(\"Cross Validation Scores\")\\n'"
      ]
     },
     "execution_count": 19,
     "metadata": {},
     "output_type": "execute_result"
    }
   ],
   "source": [
    "\"\"\"\n",
    "cv_results = pd.DataFrame({\"Cross Validation Means\":cv_result, \"ML Models\":[\"DecisionTreeClassifier\", \"SVM\",\"RandomForestClassifier\",\n",
    "             \"LogisticRegression\",\n",
    "             \"KNeighborsClassifier\"]})\n",
    "\n",
    "g = sns.barplot(\"Cross Validation Means\", \"ML Models\", data = cv_results)\n",
    "g.set_xlabel(\"Mean Accuracy\")\n",
    "g.set_title(\"Cross Validation Scores\")\n",
    "\"\"\""
   ]
  }
 ],
 "metadata": {
  "kernelspec": {
   "display_name": "Python 3",
   "language": "python",
   "name": "python3"
  },
  "language_info": {
   "codemirror_mode": {
    "name": "ipython",
    "version": 3
   },
   "file_extension": ".py",
   "mimetype": "text/x-python",
   "name": "python",
   "nbconvert_exporter": "python",
   "pygments_lexer": "ipython3",
   "version": "3.7.12"
  },
  "papermill": {
   "default_parameters": {},
   "duration": 176.725669,
   "end_time": "2022-09-25T17:10:00.714776",
   "environment_variables": {},
   "exception": null,
   "input_path": "__notebook__.ipynb",
   "output_path": "__notebook__.ipynb",
   "parameters": {},
   "start_time": "2022-09-25T17:07:03.989107",
   "version": "2.3.4"
  }
 },
 "nbformat": 4,
 "nbformat_minor": 5
}
